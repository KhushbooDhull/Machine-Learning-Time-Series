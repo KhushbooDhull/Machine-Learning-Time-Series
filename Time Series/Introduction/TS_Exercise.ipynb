{
 "cells": [
  {
   "cell_type": "code",
   "execution_count": 4,
   "id": "07ac55d4",
   "metadata": {},
   "outputs": [],
   "source": [
    "import pandas as pd\n",
    "import numpy as np\n",
    "import matplotlib.pyplot as plt\n",
    "import seaborn as sns\n",
    "from warnings import filterwarnings\n",
    "filterwarnings('ignore')"
   ]
  },
  {
   "cell_type": "code",
   "execution_count": 5,
   "id": "05de384e",
   "metadata": {},
   "outputs": [],
   "source": [
    "from sklearn.metrics import mean_squared_error\n",
    "\n",
    "from statsmodels.tsa.seasonal import seasonal_decompose\n",
    "from statsmodels.tsa.stattools import adfuller,kpss\n",
    "\n",
    "from statsmodels.graphics.tsaplots import plot_acf,plot_pacf\n",
    "from statsmodels.tsa.arima.model import ARIMA"
   ]
  },
  {
   "cell_type": "code",
   "execution_count": 6,
   "id": "53e75975",
   "metadata": {},
   "outputs": [
    {
     "data": {
      "text/html": [
       "<div>\n",
       "<style scoped>\n",
       "    .dataframe tbody tr th:only-of-type {\n",
       "        vertical-align: middle;\n",
       "    }\n",
       "\n",
       "    .dataframe tbody tr th {\n",
       "        vertical-align: top;\n",
       "    }\n",
       "\n",
       "    .dataframe thead th {\n",
       "        text-align: right;\n",
       "    }\n",
       "</style>\n",
       "<table border=\"1\" class=\"dataframe\">\n",
       "  <thead>\n",
       "    <tr style=\"text-align: right;\">\n",
       "      <th></th>\n",
       "      <th>date</th>\n",
       "      <th>value</th>\n",
       "    </tr>\n",
       "  </thead>\n",
       "  <tbody>\n",
       "    <tr>\n",
       "      <th>0</th>\n",
       "      <td>1991-07-01</td>\n",
       "      <td>3.526591</td>\n",
       "    </tr>\n",
       "    <tr>\n",
       "      <th>1</th>\n",
       "      <td>1991-08-01</td>\n",
       "      <td>3.180891</td>\n",
       "    </tr>\n",
       "    <tr>\n",
       "      <th>2</th>\n",
       "      <td>1991-09-01</td>\n",
       "      <td>3.252221</td>\n",
       "    </tr>\n",
       "    <tr>\n",
       "      <th>3</th>\n",
       "      <td>1991-10-01</td>\n",
       "      <td>3.611003</td>\n",
       "    </tr>\n",
       "    <tr>\n",
       "      <th>4</th>\n",
       "      <td>1991-11-01</td>\n",
       "      <td>3.565869</td>\n",
       "    </tr>\n",
       "  </tbody>\n",
       "</table>\n",
       "</div>"
      ],
      "text/plain": [
       "         date     value\n",
       "0  1991-07-01  3.526591\n",
       "1  1991-08-01  3.180891\n",
       "2  1991-09-01  3.252221\n",
       "3  1991-10-01  3.611003\n",
       "4  1991-11-01  3.565869"
      ]
     },
     "execution_count": 6,
     "metadata": {},
     "output_type": "execute_result"
    }
   ],
   "source": [
    "df = pd.read_csv('ts_data.txt')\n",
    "df.head()"
   ]
  },
  {
   "cell_type": "code",
   "execution_count": 7,
   "id": "23d4ac84",
   "metadata": {},
   "outputs": [
    {
     "data": {
      "text/plain": [
       "(204, 2)"
      ]
     },
     "execution_count": 7,
     "metadata": {},
     "output_type": "execute_result"
    }
   ],
   "source": [
    "df.shape"
   ]
  },
  {
   "cell_type": "code",
   "execution_count": 8,
   "id": "4f0fce25",
   "metadata": {},
   "outputs": [
    {
     "data": {
      "text/plain": [
       "date     0\n",
       "value    0\n",
       "dtype: int64"
      ]
     },
     "execution_count": 8,
     "metadata": {},
     "output_type": "execute_result"
    }
   ],
   "source": [
    "df.isnull().sum()"
   ]
  },
  {
   "cell_type": "code",
   "execution_count": 9,
   "id": "d31c1500",
   "metadata": {},
   "outputs": [
    {
     "data": {
      "text/plain": [
       "184    2006-11-01\n",
       "185    2006-12-01\n",
       "186    2007-01-01\n",
       "187    2007-02-01\n",
       "188    2007-03-01\n",
       "189    2007-04-01\n",
       "190    2007-05-01\n",
       "191    2007-06-01\n",
       "192    2007-07-01\n",
       "193    2007-08-01\n",
       "194    2007-09-01\n",
       "195    2007-10-01\n",
       "196    2007-11-01\n",
       "197    2007-12-01\n",
       "198    2008-01-01\n",
       "199    2008-02-01\n",
       "200    2008-03-01\n",
       "201    2008-04-01\n",
       "202    2008-05-01\n",
       "203    2008-06-01\n",
       "Name: date, dtype: object"
      ]
     },
     "execution_count": 9,
     "metadata": {},
     "output_type": "execute_result"
    }
   ],
   "source": [
    "df['date'][-20:]"
   ]
  },
  {
   "cell_type": "markdown",
   "id": "35e2869c",
   "metadata": {},
   "source": [
    "#### Inference\n",
    "Data is sequentially Indexed with Time"
   ]
  },
  {
   "cell_type": "code",
   "execution_count": 10,
   "id": "e3cf0f2d",
   "metadata": {},
   "outputs": [
    {
     "data": {
      "text/html": [
       "<div>\n",
       "<style scoped>\n",
       "    .dataframe tbody tr th:only-of-type {\n",
       "        vertical-align: middle;\n",
       "    }\n",
       "\n",
       "    .dataframe tbody tr th {\n",
       "        vertical-align: top;\n",
       "    }\n",
       "\n",
       "    .dataframe thead th {\n",
       "        text-align: right;\n",
       "    }\n",
       "</style>\n",
       "<table border=\"1\" class=\"dataframe\">\n",
       "  <thead>\n",
       "    <tr style=\"text-align: right;\">\n",
       "      <th></th>\n",
       "      <th>date</th>\n",
       "      <th>value</th>\n",
       "    </tr>\n",
       "  </thead>\n",
       "  <tbody>\n",
       "    <tr>\n",
       "      <th>0</th>\n",
       "      <td>1991-07-01</td>\n",
       "      <td>3.526591</td>\n",
       "    </tr>\n",
       "    <tr>\n",
       "      <th>1</th>\n",
       "      <td>1991-08-01</td>\n",
       "      <td>3.180891</td>\n",
       "    </tr>\n",
       "    <tr>\n",
       "      <th>2</th>\n",
       "      <td>1991-09-01</td>\n",
       "      <td>3.252221</td>\n",
       "    </tr>\n",
       "    <tr>\n",
       "      <th>3</th>\n",
       "      <td>1991-10-01</td>\n",
       "      <td>3.611003</td>\n",
       "    </tr>\n",
       "    <tr>\n",
       "      <th>4</th>\n",
       "      <td>1991-11-01</td>\n",
       "      <td>3.565869</td>\n",
       "    </tr>\n",
       "  </tbody>\n",
       "</table>\n",
       "</div>"
      ],
      "text/plain": [
       "         date     value\n",
       "0  1991-07-01  3.526591\n",
       "1  1991-08-01  3.180891\n",
       "2  1991-09-01  3.252221\n",
       "3  1991-10-01  3.611003\n",
       "4  1991-11-01  3.565869"
      ]
     },
     "execution_count": 10,
     "metadata": {},
     "output_type": "execute_result"
    }
   ],
   "source": [
    "df1 = df.copy()\n",
    "df2 = df.copy()\n",
    "df1.head()"
   ]
  },
  {
   "cell_type": "code",
   "execution_count": 11,
   "id": "5979efee",
   "metadata": {},
   "outputs": [
    {
     "data": {
      "text/html": [
       "<div>\n",
       "<style scoped>\n",
       "    .dataframe tbody tr th:only-of-type {\n",
       "        vertical-align: middle;\n",
       "    }\n",
       "\n",
       "    .dataframe tbody tr th {\n",
       "        vertical-align: top;\n",
       "    }\n",
       "\n",
       "    .dataframe thead th {\n",
       "        text-align: right;\n",
       "    }\n",
       "</style>\n",
       "<table border=\"1\" class=\"dataframe\">\n",
       "  <thead>\n",
       "    <tr style=\"text-align: right;\">\n",
       "      <th></th>\n",
       "      <th>date</th>\n",
       "      <th>value</th>\n",
       "      <th>Lag1</th>\n",
       "      <th>Lag2</th>\n",
       "    </tr>\n",
       "  </thead>\n",
       "  <tbody>\n",
       "    <tr>\n",
       "      <th>0</th>\n",
       "      <td>1991-07-01</td>\n",
       "      <td>3.526591</td>\n",
       "      <td>NaN</td>\n",
       "      <td>NaN</td>\n",
       "    </tr>\n",
       "    <tr>\n",
       "      <th>1</th>\n",
       "      <td>1991-08-01</td>\n",
       "      <td>3.180891</td>\n",
       "      <td>3.526591</td>\n",
       "      <td>NaN</td>\n",
       "    </tr>\n",
       "    <tr>\n",
       "      <th>2</th>\n",
       "      <td>1991-09-01</td>\n",
       "      <td>3.252221</td>\n",
       "      <td>3.180891</td>\n",
       "      <td>3.526591</td>\n",
       "    </tr>\n",
       "    <tr>\n",
       "      <th>3</th>\n",
       "      <td>1991-10-01</td>\n",
       "      <td>3.611003</td>\n",
       "      <td>3.252221</td>\n",
       "      <td>3.180891</td>\n",
       "    </tr>\n",
       "    <tr>\n",
       "      <th>4</th>\n",
       "      <td>1991-11-01</td>\n",
       "      <td>3.565869</td>\n",
       "      <td>3.611003</td>\n",
       "      <td>3.252221</td>\n",
       "    </tr>\n",
       "  </tbody>\n",
       "</table>\n",
       "</div>"
      ],
      "text/plain": [
       "         date     value      Lag1      Lag2\n",
       "0  1991-07-01  3.526591       NaN       NaN\n",
       "1  1991-08-01  3.180891  3.526591       NaN\n",
       "2  1991-09-01  3.252221  3.180891  3.526591\n",
       "3  1991-10-01  3.611003  3.252221  3.180891\n",
       "4  1991-11-01  3.565869  3.611003  3.252221"
      ]
     },
     "execution_count": 11,
     "metadata": {},
     "output_type": "execute_result"
    }
   ],
   "source": [
    "df1['Lag1'] = df1['value'].shift(1)\n",
    "df1['Lag2'] = df1['value'].shift(2)\n",
    "df1.head()"
   ]
  },
  {
   "cell_type": "code",
   "execution_count": 12,
   "id": "dd697857",
   "metadata": {},
   "outputs": [
    {
     "data": {
      "text/html": [
       "<div>\n",
       "<style scoped>\n",
       "    .dataframe tbody tr th:only-of-type {\n",
       "        vertical-align: middle;\n",
       "    }\n",
       "\n",
       "    .dataframe tbody tr th {\n",
       "        vertical-align: top;\n",
       "    }\n",
       "\n",
       "    .dataframe thead th {\n",
       "        text-align: right;\n",
       "    }\n",
       "</style>\n",
       "<table border=\"1\" class=\"dataframe\">\n",
       "  <thead>\n",
       "    <tr style=\"text-align: right;\">\n",
       "      <th></th>\n",
       "      <th>date</th>\n",
       "      <th>value</th>\n",
       "      <th>Lag1</th>\n",
       "      <th>Lag2</th>\n",
       "    </tr>\n",
       "  </thead>\n",
       "  <tbody>\n",
       "    <tr>\n",
       "      <th>199</th>\n",
       "      <td>2008-02-01</td>\n",
       "      <td>21.654285</td>\n",
       "      <td>29.665356</td>\n",
       "      <td>25.806090</td>\n",
       "    </tr>\n",
       "    <tr>\n",
       "      <th>200</th>\n",
       "      <td>2008-03-01</td>\n",
       "      <td>18.264945</td>\n",
       "      <td>21.654285</td>\n",
       "      <td>29.665356</td>\n",
       "    </tr>\n",
       "    <tr>\n",
       "      <th>201</th>\n",
       "      <td>2008-04-01</td>\n",
       "      <td>23.107677</td>\n",
       "      <td>18.264945</td>\n",
       "      <td>21.654285</td>\n",
       "    </tr>\n",
       "    <tr>\n",
       "      <th>202</th>\n",
       "      <td>2008-05-01</td>\n",
       "      <td>22.912510</td>\n",
       "      <td>23.107677</td>\n",
       "      <td>18.264945</td>\n",
       "    </tr>\n",
       "    <tr>\n",
       "      <th>203</th>\n",
       "      <td>2008-06-01</td>\n",
       "      <td>19.431740</td>\n",
       "      <td>22.912510</td>\n",
       "      <td>23.107677</td>\n",
       "    </tr>\n",
       "  </tbody>\n",
       "</table>\n",
       "</div>"
      ],
      "text/plain": [
       "           date      value       Lag1       Lag2\n",
       "199  2008-02-01  21.654285  29.665356  25.806090\n",
       "200  2008-03-01  18.264945  21.654285  29.665356\n",
       "201  2008-04-01  23.107677  18.264945  21.654285\n",
       "202  2008-05-01  22.912510  23.107677  18.264945\n",
       "203  2008-06-01  19.431740  22.912510  23.107677"
      ]
     },
     "execution_count": 12,
     "metadata": {},
     "output_type": "execute_result"
    }
   ],
   "source": [
    "df1.tail()"
   ]
  },
  {
   "cell_type": "code",
   "execution_count": 13,
   "id": "f4407c5b",
   "metadata": {},
   "outputs": [
    {
     "data": {
      "text/html": [
       "<div>\n",
       "<style scoped>\n",
       "    .dataframe tbody tr th:only-of-type {\n",
       "        vertical-align: middle;\n",
       "    }\n",
       "\n",
       "    .dataframe tbody tr th {\n",
       "        vertical-align: top;\n",
       "    }\n",
       "\n",
       "    .dataframe thead th {\n",
       "        text-align: right;\n",
       "    }\n",
       "</style>\n",
       "<table border=\"1\" class=\"dataframe\">\n",
       "  <thead>\n",
       "    <tr style=\"text-align: right;\">\n",
       "      <th></th>\n",
       "      <th>date</th>\n",
       "      <th>value</th>\n",
       "      <th>Lag1</th>\n",
       "      <th>Lag2</th>\n",
       "      <th>Diff1</th>\n",
       "      <th>Diff2</th>\n",
       "    </tr>\n",
       "  </thead>\n",
       "  <tbody>\n",
       "    <tr>\n",
       "      <th>0</th>\n",
       "      <td>1991-07-01</td>\n",
       "      <td>3.526591</td>\n",
       "      <td>NaN</td>\n",
       "      <td>NaN</td>\n",
       "      <td>NaN</td>\n",
       "      <td>NaN</td>\n",
       "    </tr>\n",
       "    <tr>\n",
       "      <th>1</th>\n",
       "      <td>1991-08-01</td>\n",
       "      <td>3.180891</td>\n",
       "      <td>3.526591</td>\n",
       "      <td>NaN</td>\n",
       "      <td>-0.345700</td>\n",
       "      <td>NaN</td>\n",
       "    </tr>\n",
       "    <tr>\n",
       "      <th>2</th>\n",
       "      <td>1991-09-01</td>\n",
       "      <td>3.252221</td>\n",
       "      <td>3.180891</td>\n",
       "      <td>3.526591</td>\n",
       "      <td>0.071330</td>\n",
       "      <td>-0.274370</td>\n",
       "    </tr>\n",
       "    <tr>\n",
       "      <th>3</th>\n",
       "      <td>1991-10-01</td>\n",
       "      <td>3.611003</td>\n",
       "      <td>3.252221</td>\n",
       "      <td>3.180891</td>\n",
       "      <td>0.358782</td>\n",
       "      <td>0.430112</td>\n",
       "    </tr>\n",
       "    <tr>\n",
       "      <th>4</th>\n",
       "      <td>1991-11-01</td>\n",
       "      <td>3.565869</td>\n",
       "      <td>3.611003</td>\n",
       "      <td>3.252221</td>\n",
       "      <td>-0.045134</td>\n",
       "      <td>0.313648</td>\n",
       "    </tr>\n",
       "  </tbody>\n",
       "</table>\n",
       "</div>"
      ],
      "text/plain": [
       "         date     value      Lag1      Lag2     Diff1     Diff2\n",
       "0  1991-07-01  3.526591       NaN       NaN       NaN       NaN\n",
       "1  1991-08-01  3.180891  3.526591       NaN -0.345700       NaN\n",
       "2  1991-09-01  3.252221  3.180891  3.526591  0.071330 -0.274370\n",
       "3  1991-10-01  3.611003  3.252221  3.180891  0.358782  0.430112\n",
       "4  1991-11-01  3.565869  3.611003  3.252221 -0.045134  0.313648"
      ]
     },
     "execution_count": 13,
     "metadata": {},
     "output_type": "execute_result"
    }
   ],
   "source": [
    "df1['Diff1'] = df1['value'] - df1['Lag1']\n",
    "df1['Diff2'] = df1['value'] - df1['Lag2']\n",
    "df1.head()"
   ]
  },
  {
   "cell_type": "code",
   "execution_count": 14,
   "id": "fcde4650",
   "metadata": {},
   "outputs": [
    {
     "data": {
      "text/html": [
       "<div>\n",
       "<style scoped>\n",
       "    .dataframe tbody tr th:only-of-type {\n",
       "        vertical-align: middle;\n",
       "    }\n",
       "\n",
       "    .dataframe tbody tr th {\n",
       "        vertical-align: top;\n",
       "    }\n",
       "\n",
       "    .dataframe thead th {\n",
       "        text-align: right;\n",
       "    }\n",
       "</style>\n",
       "<table border=\"1\" class=\"dataframe\">\n",
       "  <thead>\n",
       "    <tr style=\"text-align: right;\">\n",
       "      <th></th>\n",
       "      <th>date</th>\n",
       "      <th>value</th>\n",
       "      <th>Lag1</th>\n",
       "      <th>Lag2</th>\n",
       "      <th>Diff1</th>\n",
       "      <th>Diff2</th>\n",
       "      <th>Diff1_M2</th>\n",
       "      <th>Diff2_M2</th>\n",
       "    </tr>\n",
       "  </thead>\n",
       "  <tbody>\n",
       "    <tr>\n",
       "      <th>0</th>\n",
       "      <td>1991-07-01</td>\n",
       "      <td>3.526591</td>\n",
       "      <td>NaN</td>\n",
       "      <td>NaN</td>\n",
       "      <td>NaN</td>\n",
       "      <td>NaN</td>\n",
       "      <td>NaN</td>\n",
       "      <td>NaN</td>\n",
       "    </tr>\n",
       "    <tr>\n",
       "      <th>1</th>\n",
       "      <td>1991-08-01</td>\n",
       "      <td>3.180891</td>\n",
       "      <td>3.526591</td>\n",
       "      <td>NaN</td>\n",
       "      <td>-0.345700</td>\n",
       "      <td>NaN</td>\n",
       "      <td>-0.345700</td>\n",
       "      <td>NaN</td>\n",
       "    </tr>\n",
       "    <tr>\n",
       "      <th>2</th>\n",
       "      <td>1991-09-01</td>\n",
       "      <td>3.252221</td>\n",
       "      <td>3.180891</td>\n",
       "      <td>3.526591</td>\n",
       "      <td>0.071330</td>\n",
       "      <td>-0.274370</td>\n",
       "      <td>0.071330</td>\n",
       "      <td>-0.274370</td>\n",
       "    </tr>\n",
       "    <tr>\n",
       "      <th>3</th>\n",
       "      <td>1991-10-01</td>\n",
       "      <td>3.611003</td>\n",
       "      <td>3.252221</td>\n",
       "      <td>3.180891</td>\n",
       "      <td>0.358782</td>\n",
       "      <td>0.430112</td>\n",
       "      <td>0.358782</td>\n",
       "      <td>0.430112</td>\n",
       "    </tr>\n",
       "    <tr>\n",
       "      <th>4</th>\n",
       "      <td>1991-11-01</td>\n",
       "      <td>3.565869</td>\n",
       "      <td>3.611003</td>\n",
       "      <td>3.252221</td>\n",
       "      <td>-0.045134</td>\n",
       "      <td>0.313648</td>\n",
       "      <td>-0.045134</td>\n",
       "      <td>0.313648</td>\n",
       "    </tr>\n",
       "  </tbody>\n",
       "</table>\n",
       "</div>"
      ],
      "text/plain": [
       "         date     value      Lag1      Lag2     Diff1     Diff2  Diff1_M2  \\\n",
       "0  1991-07-01  3.526591       NaN       NaN       NaN       NaN       NaN   \n",
       "1  1991-08-01  3.180891  3.526591       NaN -0.345700       NaN -0.345700   \n",
       "2  1991-09-01  3.252221  3.180891  3.526591  0.071330 -0.274370  0.071330   \n",
       "3  1991-10-01  3.611003  3.252221  3.180891  0.358782  0.430112  0.358782   \n",
       "4  1991-11-01  3.565869  3.611003  3.252221 -0.045134  0.313648 -0.045134   \n",
       "\n",
       "   Diff2_M2  \n",
       "0       NaN  \n",
       "1       NaN  \n",
       "2 -0.274370  \n",
       "3  0.430112  \n",
       "4  0.313648  "
      ]
     },
     "execution_count": 14,
     "metadata": {},
     "output_type": "execute_result"
    }
   ],
   "source": [
    "df1['Diff1_M2'] = df1['value'].diff(1)\n",
    "df1['Diff2_M2'] = df1['value'].diff(2)\n",
    "df1.head()"
   ]
  },
  {
   "cell_type": "code",
   "execution_count": 15,
   "id": "bec41a12",
   "metadata": {},
   "outputs": [
    {
     "data": {
      "text/html": [
       "<div>\n",
       "<style scoped>\n",
       "    .dataframe tbody tr th:only-of-type {\n",
       "        vertical-align: middle;\n",
       "    }\n",
       "\n",
       "    .dataframe tbody tr th {\n",
       "        vertical-align: top;\n",
       "    }\n",
       "\n",
       "    .dataframe thead th {\n",
       "        text-align: right;\n",
       "    }\n",
       "</style>\n",
       "<table border=\"1\" class=\"dataframe\">\n",
       "  <thead>\n",
       "    <tr style=\"text-align: right;\">\n",
       "      <th></th>\n",
       "      <th>date</th>\n",
       "      <th>value</th>\n",
       "      <th>Lag1</th>\n",
       "      <th>Lag2</th>\n",
       "      <th>Diff1</th>\n",
       "      <th>Diff2</th>\n",
       "      <th>Diff1_M2</th>\n",
       "      <th>Diff2_M2</th>\n",
       "    </tr>\n",
       "  </thead>\n",
       "  <tbody>\n",
       "    <tr>\n",
       "      <th>2</th>\n",
       "      <td>1991-09-01</td>\n",
       "      <td>3.252221</td>\n",
       "      <td>3.180891</td>\n",
       "      <td>3.526591</td>\n",
       "      <td>0.071330</td>\n",
       "      <td>-0.274370</td>\n",
       "      <td>0.071330</td>\n",
       "      <td>-0.274370</td>\n",
       "    </tr>\n",
       "    <tr>\n",
       "      <th>3</th>\n",
       "      <td>1991-10-01</td>\n",
       "      <td>3.611003</td>\n",
       "      <td>3.252221</td>\n",
       "      <td>3.180891</td>\n",
       "      <td>0.358782</td>\n",
       "      <td>0.430112</td>\n",
       "      <td>0.358782</td>\n",
       "      <td>0.430112</td>\n",
       "    </tr>\n",
       "    <tr>\n",
       "      <th>4</th>\n",
       "      <td>1991-11-01</td>\n",
       "      <td>3.565869</td>\n",
       "      <td>3.611003</td>\n",
       "      <td>3.252221</td>\n",
       "      <td>-0.045134</td>\n",
       "      <td>0.313648</td>\n",
       "      <td>-0.045134</td>\n",
       "      <td>0.313648</td>\n",
       "    </tr>\n",
       "    <tr>\n",
       "      <th>5</th>\n",
       "      <td>1991-12-01</td>\n",
       "      <td>4.306371</td>\n",
       "      <td>3.565869</td>\n",
       "      <td>3.611003</td>\n",
       "      <td>0.740502</td>\n",
       "      <td>0.695368</td>\n",
       "      <td>0.740502</td>\n",
       "      <td>0.695368</td>\n",
       "    </tr>\n",
       "    <tr>\n",
       "      <th>6</th>\n",
       "      <td>1992-01-01</td>\n",
       "      <td>5.088335</td>\n",
       "      <td>4.306371</td>\n",
       "      <td>3.565869</td>\n",
       "      <td>0.781964</td>\n",
       "      <td>1.522466</td>\n",
       "      <td>0.781964</td>\n",
       "      <td>1.522466</td>\n",
       "    </tr>\n",
       "  </tbody>\n",
       "</table>\n",
       "</div>"
      ],
      "text/plain": [
       "         date     value      Lag1      Lag2     Diff1     Diff2  Diff1_M2  \\\n",
       "2  1991-09-01  3.252221  3.180891  3.526591  0.071330 -0.274370  0.071330   \n",
       "3  1991-10-01  3.611003  3.252221  3.180891  0.358782  0.430112  0.358782   \n",
       "4  1991-11-01  3.565869  3.611003  3.252221 -0.045134  0.313648 -0.045134   \n",
       "5  1991-12-01  4.306371  3.565869  3.611003  0.740502  0.695368  0.740502   \n",
       "6  1992-01-01  5.088335  4.306371  3.565869  0.781964  1.522466  0.781964   \n",
       "\n",
       "   Diff2_M2  \n",
       "2 -0.274370  \n",
       "3  0.430112  \n",
       "4  0.313648  \n",
       "5  0.695368  \n",
       "6  1.522466  "
      ]
     },
     "execution_count": 15,
     "metadata": {},
     "output_type": "execute_result"
    }
   ],
   "source": [
    "df1.dropna(inplace=True)\n",
    "df1.head()"
   ]
  },
  {
   "cell_type": "code",
   "execution_count": 16,
   "id": "c6a486e4",
   "metadata": {},
   "outputs": [
    {
     "data": {
      "text/plain": [
       "date        0\n",
       "value       0\n",
       "Lag1        0\n",
       "Lag2        0\n",
       "Diff1       0\n",
       "Diff2       0\n",
       "Diff1_M2    0\n",
       "Diff2_M2    0\n",
       "dtype: int64"
      ]
     },
     "execution_count": 16,
     "metadata": {},
     "output_type": "execute_result"
    }
   ],
   "source": [
    "df1.isnull().sum()"
   ]
  },
  {
   "cell_type": "code",
   "execution_count": 17,
   "id": "320fda52",
   "metadata": {},
   "outputs": [
    {
     "data": {
      "text/html": [
       "<div>\n",
       "<style scoped>\n",
       "    .dataframe tbody tr th:only-of-type {\n",
       "        vertical-align: middle;\n",
       "    }\n",
       "\n",
       "    .dataframe tbody tr th {\n",
       "        vertical-align: top;\n",
       "    }\n",
       "\n",
       "    .dataframe thead th {\n",
       "        text-align: right;\n",
       "    }\n",
       "</style>\n",
       "<table border=\"1\" class=\"dataframe\">\n",
       "  <thead>\n",
       "    <tr style=\"text-align: right;\">\n",
       "      <th></th>\n",
       "      <th>date</th>\n",
       "      <th>value</th>\n",
       "      <th>Lag1</th>\n",
       "      <th>Lag2</th>\n",
       "      <th>Diff1</th>\n",
       "      <th>Diff2</th>\n",
       "      <th>Diff1_M2</th>\n",
       "      <th>Diff2_M2</th>\n",
       "      <th>Log</th>\n",
       "    </tr>\n",
       "  </thead>\n",
       "  <tbody>\n",
       "    <tr>\n",
       "      <th>2</th>\n",
       "      <td>1991-09-01</td>\n",
       "      <td>3.252221</td>\n",
       "      <td>3.180891</td>\n",
       "      <td>3.526591</td>\n",
       "      <td>0.071330</td>\n",
       "      <td>-0.274370</td>\n",
       "      <td>0.071330</td>\n",
       "      <td>-0.274370</td>\n",
       "      <td>1.179338</td>\n",
       "    </tr>\n",
       "    <tr>\n",
       "      <th>3</th>\n",
       "      <td>1991-10-01</td>\n",
       "      <td>3.611003</td>\n",
       "      <td>3.252221</td>\n",
       "      <td>3.180891</td>\n",
       "      <td>0.358782</td>\n",
       "      <td>0.430112</td>\n",
       "      <td>0.358782</td>\n",
       "      <td>0.430112</td>\n",
       "      <td>1.283986</td>\n",
       "    </tr>\n",
       "    <tr>\n",
       "      <th>4</th>\n",
       "      <td>1991-11-01</td>\n",
       "      <td>3.565869</td>\n",
       "      <td>3.611003</td>\n",
       "      <td>3.252221</td>\n",
       "      <td>-0.045134</td>\n",
       "      <td>0.313648</td>\n",
       "      <td>-0.045134</td>\n",
       "      <td>0.313648</td>\n",
       "      <td>1.271408</td>\n",
       "    </tr>\n",
       "    <tr>\n",
       "      <th>5</th>\n",
       "      <td>1991-12-01</td>\n",
       "      <td>4.306371</td>\n",
       "      <td>3.565869</td>\n",
       "      <td>3.611003</td>\n",
       "      <td>0.740502</td>\n",
       "      <td>0.695368</td>\n",
       "      <td>0.740502</td>\n",
       "      <td>0.695368</td>\n",
       "      <td>1.460096</td>\n",
       "    </tr>\n",
       "    <tr>\n",
       "      <th>6</th>\n",
       "      <td>1992-01-01</td>\n",
       "      <td>5.088335</td>\n",
       "      <td>4.306371</td>\n",
       "      <td>3.565869</td>\n",
       "      <td>0.781964</td>\n",
       "      <td>1.522466</td>\n",
       "      <td>0.781964</td>\n",
       "      <td>1.522466</td>\n",
       "      <td>1.626951</td>\n",
       "    </tr>\n",
       "  </tbody>\n",
       "</table>\n",
       "</div>"
      ],
      "text/plain": [
       "         date     value      Lag1      Lag2     Diff1     Diff2  Diff1_M2  \\\n",
       "2  1991-09-01  3.252221  3.180891  3.526591  0.071330 -0.274370  0.071330   \n",
       "3  1991-10-01  3.611003  3.252221  3.180891  0.358782  0.430112  0.358782   \n",
       "4  1991-11-01  3.565869  3.611003  3.252221 -0.045134  0.313648 -0.045134   \n",
       "5  1991-12-01  4.306371  3.565869  3.611003  0.740502  0.695368  0.740502   \n",
       "6  1992-01-01  5.088335  4.306371  3.565869  0.781964  1.522466  0.781964   \n",
       "\n",
       "   Diff2_M2       Log  \n",
       "2 -0.274370  1.179338  \n",
       "3  0.430112  1.283986  \n",
       "4  0.313648  1.271408  \n",
       "5  0.695368  1.460096  \n",
       "6  1.522466  1.626951  "
      ]
     },
     "execution_count": 17,
     "metadata": {},
     "output_type": "execute_result"
    }
   ],
   "source": [
    "df1['Log'] = np.log(df1['value'])\n",
    "df1.head()"
   ]
  },
  {
   "cell_type": "code",
   "execution_count": 18,
   "id": "f5872e23",
   "metadata": {},
   "outputs": [
    {
     "data": {
      "text/html": [
       "<div>\n",
       "<style scoped>\n",
       "    .dataframe tbody tr th:only-of-type {\n",
       "        vertical-align: middle;\n",
       "    }\n",
       "\n",
       "    .dataframe tbody tr th {\n",
       "        vertical-align: top;\n",
       "    }\n",
       "\n",
       "    .dataframe thead th {\n",
       "        text-align: right;\n",
       "    }\n",
       "</style>\n",
       "<table border=\"1\" class=\"dataframe\">\n",
       "  <thead>\n",
       "    <tr style=\"text-align: right;\">\n",
       "      <th></th>\n",
       "      <th>date</th>\n",
       "      <th>value</th>\n",
       "      <th>Lag1</th>\n",
       "      <th>Lag2</th>\n",
       "      <th>Diff1</th>\n",
       "      <th>Diff2</th>\n",
       "      <th>Diff1_M2</th>\n",
       "      <th>Diff2_M2</th>\n",
       "      <th>Log</th>\n",
       "      <th>Log_Diff</th>\n",
       "    </tr>\n",
       "  </thead>\n",
       "  <tbody>\n",
       "    <tr>\n",
       "      <th>2</th>\n",
       "      <td>1991-09-01</td>\n",
       "      <td>3.252221</td>\n",
       "      <td>3.180891</td>\n",
       "      <td>3.526591</td>\n",
       "      <td>0.071330</td>\n",
       "      <td>-0.274370</td>\n",
       "      <td>0.071330</td>\n",
       "      <td>-0.274370</td>\n",
       "      <td>1.179338</td>\n",
       "      <td>2.072883</td>\n",
       "    </tr>\n",
       "    <tr>\n",
       "      <th>3</th>\n",
       "      <td>1991-10-01</td>\n",
       "      <td>3.611003</td>\n",
       "      <td>3.252221</td>\n",
       "      <td>3.180891</td>\n",
       "      <td>0.358782</td>\n",
       "      <td>0.430112</td>\n",
       "      <td>0.358782</td>\n",
       "      <td>0.430112</td>\n",
       "      <td>1.283986</td>\n",
       "      <td>2.327017</td>\n",
       "    </tr>\n",
       "    <tr>\n",
       "      <th>4</th>\n",
       "      <td>1991-11-01</td>\n",
       "      <td>3.565869</td>\n",
       "      <td>3.611003</td>\n",
       "      <td>3.252221</td>\n",
       "      <td>-0.045134</td>\n",
       "      <td>0.313648</td>\n",
       "      <td>-0.045134</td>\n",
       "      <td>0.313648</td>\n",
       "      <td>1.271408</td>\n",
       "      <td>2.294461</td>\n",
       "    </tr>\n",
       "    <tr>\n",
       "      <th>5</th>\n",
       "      <td>1991-12-01</td>\n",
       "      <td>4.306371</td>\n",
       "      <td>3.565869</td>\n",
       "      <td>3.611003</td>\n",
       "      <td>0.740502</td>\n",
       "      <td>0.695368</td>\n",
       "      <td>0.740502</td>\n",
       "      <td>0.695368</td>\n",
       "      <td>1.460096</td>\n",
       "      <td>2.846275</td>\n",
       "    </tr>\n",
       "    <tr>\n",
       "      <th>6</th>\n",
       "      <td>1992-01-01</td>\n",
       "      <td>5.088335</td>\n",
       "      <td>4.306371</td>\n",
       "      <td>3.565869</td>\n",
       "      <td>0.781964</td>\n",
       "      <td>1.522466</td>\n",
       "      <td>0.781964</td>\n",
       "      <td>1.522466</td>\n",
       "      <td>1.626951</td>\n",
       "      <td>3.461384</td>\n",
       "    </tr>\n",
       "  </tbody>\n",
       "</table>\n",
       "</div>"
      ],
      "text/plain": [
       "         date     value      Lag1      Lag2     Diff1     Diff2  Diff1_M2  \\\n",
       "2  1991-09-01  3.252221  3.180891  3.526591  0.071330 -0.274370  0.071330   \n",
       "3  1991-10-01  3.611003  3.252221  3.180891  0.358782  0.430112  0.358782   \n",
       "4  1991-11-01  3.565869  3.611003  3.252221 -0.045134  0.313648 -0.045134   \n",
       "5  1991-12-01  4.306371  3.565869  3.611003  0.740502  0.695368  0.740502   \n",
       "6  1992-01-01  5.088335  4.306371  3.565869  0.781964  1.522466  0.781964   \n",
       "\n",
       "   Diff2_M2       Log  Log_Diff  \n",
       "2 -0.274370  1.179338  2.072883  \n",
       "3  0.430112  1.283986  2.327017  \n",
       "4  0.313648  1.271408  2.294461  \n",
       "5  0.695368  1.460096  2.846275  \n",
       "6  1.522466  1.626951  3.461384  "
      ]
     },
     "execution_count": 18,
     "metadata": {},
     "output_type": "execute_result"
    }
   ],
   "source": [
    "df1['Log_Diff'] = df1['value'] - df1['Log']\n",
    "df1.head()"
   ]
  },
  {
   "cell_type": "markdown",
   "id": "b3dc7b00",
   "metadata": {},
   "source": [
    "### Plot Value"
   ]
  },
  {
   "cell_type": "code",
   "execution_count": 19,
   "id": "c804085a",
   "metadata": {},
   "outputs": [
    {
     "data": {
      "text/html": [
       "<div>\n",
       "<style scoped>\n",
       "    .dataframe tbody tr th:only-of-type {\n",
       "        vertical-align: middle;\n",
       "    }\n",
       "\n",
       "    .dataframe tbody tr th {\n",
       "        vertical-align: top;\n",
       "    }\n",
       "\n",
       "    .dataframe thead th {\n",
       "        text-align: right;\n",
       "    }\n",
       "</style>\n",
       "<table border=\"1\" class=\"dataframe\">\n",
       "  <thead>\n",
       "    <tr style=\"text-align: right;\">\n",
       "      <th></th>\n",
       "      <th>date</th>\n",
       "      <th>value</th>\n",
       "    </tr>\n",
       "  </thead>\n",
       "  <tbody>\n",
       "    <tr>\n",
       "      <th>0</th>\n",
       "      <td>1991-07-01</td>\n",
       "      <td>3.526591</td>\n",
       "    </tr>\n",
       "    <tr>\n",
       "      <th>1</th>\n",
       "      <td>1991-08-01</td>\n",
       "      <td>3.180891</td>\n",
       "    </tr>\n",
       "    <tr>\n",
       "      <th>2</th>\n",
       "      <td>1991-09-01</td>\n",
       "      <td>3.252221</td>\n",
       "    </tr>\n",
       "    <tr>\n",
       "      <th>3</th>\n",
       "      <td>1991-10-01</td>\n",
       "      <td>3.611003</td>\n",
       "    </tr>\n",
       "    <tr>\n",
       "      <th>4</th>\n",
       "      <td>1991-11-01</td>\n",
       "      <td>3.565869</td>\n",
       "    </tr>\n",
       "  </tbody>\n",
       "</table>\n",
       "</div>"
      ],
      "text/plain": [
       "         date     value\n",
       "0  1991-07-01  3.526591\n",
       "1  1991-08-01  3.180891\n",
       "2  1991-09-01  3.252221\n",
       "3  1991-10-01  3.611003\n",
       "4  1991-11-01  3.565869"
      ]
     },
     "execution_count": 19,
     "metadata": {},
     "output_type": "execute_result"
    }
   ],
   "source": [
    "df2.head()"
   ]
  },
  {
   "cell_type": "code",
   "execution_count": 20,
   "id": "f945dd5a",
   "metadata": {},
   "outputs": [
    {
     "data": {
      "text/html": [
       "<div>\n",
       "<style scoped>\n",
       "    .dataframe tbody tr th:only-of-type {\n",
       "        vertical-align: middle;\n",
       "    }\n",
       "\n",
       "    .dataframe tbody tr th {\n",
       "        vertical-align: top;\n",
       "    }\n",
       "\n",
       "    .dataframe thead th {\n",
       "        text-align: right;\n",
       "    }\n",
       "</style>\n",
       "<table border=\"1\" class=\"dataframe\">\n",
       "  <thead>\n",
       "    <tr style=\"text-align: right;\">\n",
       "      <th></th>\n",
       "      <th>value</th>\n",
       "    </tr>\n",
       "    <tr>\n",
       "      <th>date</th>\n",
       "      <th></th>\n",
       "    </tr>\n",
       "  </thead>\n",
       "  <tbody>\n",
       "    <tr>\n",
       "      <th>1991-07-01</th>\n",
       "      <td>3.526591</td>\n",
       "    </tr>\n",
       "    <tr>\n",
       "      <th>1991-08-01</th>\n",
       "      <td>3.180891</td>\n",
       "    </tr>\n",
       "    <tr>\n",
       "      <th>1991-09-01</th>\n",
       "      <td>3.252221</td>\n",
       "    </tr>\n",
       "    <tr>\n",
       "      <th>1991-10-01</th>\n",
       "      <td>3.611003</td>\n",
       "    </tr>\n",
       "    <tr>\n",
       "      <th>1991-11-01</th>\n",
       "      <td>3.565869</td>\n",
       "    </tr>\n",
       "  </tbody>\n",
       "</table>\n",
       "</div>"
      ],
      "text/plain": [
       "               value\n",
       "date                \n",
       "1991-07-01  3.526591\n",
       "1991-08-01  3.180891\n",
       "1991-09-01  3.252221\n",
       "1991-10-01  3.611003\n",
       "1991-11-01  3.565869"
      ]
     },
     "execution_count": 20,
     "metadata": {},
     "output_type": "execute_result"
    }
   ],
   "source": [
    "df2.set_index('date',inplace=True)\n",
    "df2.head()"
   ]
  },
  {
   "cell_type": "code",
   "execution_count": 21,
   "id": "a44d299d",
   "metadata": {},
   "outputs": [
    {
     "data": {
      "image/png": "[encoded data removed]",
      "text/plain": [
       "<Figure size 720x432 with 1 Axes>"
      ]
     },
     "metadata": {
      "needs_background": "light"
     },
     "output_type": "display_data"
    }
   ],
   "source": [
    "df2.plot(figsize=(10,6))\n",
    "plt.show()"
   ]
  },
  {
   "cell_type": "markdown",
   "id": "fe7d202c",
   "metadata": {},
   "source": [
    "### Decomposing Time Series Data"
   ]
  },
  {
   "cell_type": "code",
   "execution_count": 22,
   "id": "1997ac45",
   "metadata": {},
   "outputs": [],
   "source": [
    "from statsmodels.tsa.seasonal import seasonal_decompose"
   ]
  },
  {
   "cell_type": "code",
   "execution_count": 23,
   "id": "7676edf4",
   "metadata": {},
   "outputs": [],
   "source": [
    "# decom = seasonal_decompose(df2,model='multiplicative')\n",
    "# decom."
   ]
  },
  {
   "cell_type": "code",
   "execution_count": 24,
   "id": "eeafb70e",
   "metadata": {},
   "outputs": [
    {
     "data": {
      "text/plain": [
       "pandas.core.frame.DataFrame"
      ]
     },
     "execution_count": 24,
     "metadata": {},
     "output_type": "execute_result"
    }
   ],
   "source": [
    "type(df2)"
   ]
  },
  {
   "cell_type": "code",
   "execution_count": 25,
   "id": "eb50d6d7",
   "metadata": {},
   "outputs": [
    {
     "data": {
      "text/html": [
       "<div>\n",
       "<style scoped>\n",
       "    .dataframe tbody tr th:only-of-type {\n",
       "        vertical-align: middle;\n",
       "    }\n",
       "\n",
       "    .dataframe tbody tr th {\n",
       "        vertical-align: top;\n",
       "    }\n",
       "\n",
       "    .dataframe thead th {\n",
       "        text-align: right;\n",
       "    }\n",
       "</style>\n",
       "<table border=\"1\" class=\"dataframe\">\n",
       "  <thead>\n",
       "    <tr style=\"text-align: right;\">\n",
       "      <th></th>\n",
       "      <th>value</th>\n",
       "    </tr>\n",
       "    <tr>\n",
       "      <th>date</th>\n",
       "      <th></th>\n",
       "    </tr>\n",
       "  </thead>\n",
       "  <tbody>\n",
       "    <tr>\n",
       "      <th>1991-07-01</th>\n",
       "      <td>3.526591</td>\n",
       "    </tr>\n",
       "    <tr>\n",
       "      <th>1991-08-01</th>\n",
       "      <td>3.180891</td>\n",
       "    </tr>\n",
       "    <tr>\n",
       "      <th>1991-09-01</th>\n",
       "      <td>3.252221</td>\n",
       "    </tr>\n",
       "    <tr>\n",
       "      <th>1991-10-01</th>\n",
       "      <td>3.611003</td>\n",
       "    </tr>\n",
       "    <tr>\n",
       "      <th>1991-11-01</th>\n",
       "      <td>3.565869</td>\n",
       "    </tr>\n",
       "  </tbody>\n",
       "</table>\n",
       "</div>"
      ],
      "text/plain": [
       "               value\n",
       "date                \n",
       "1991-07-01  3.526591\n",
       "1991-08-01  3.180891\n",
       "1991-09-01  3.252221\n",
       "1991-10-01  3.611003\n",
       "1991-11-01  3.565869"
      ]
     },
     "execution_count": 25,
     "metadata": {},
     "output_type": "execute_result"
    }
   ],
   "source": [
    "df3 = pd.read_csv('ts_data.txt',index_col=[0],parse_dates=True)\n",
    "df3.head()"
   ]
  },
  {
   "cell_type": "code",
   "execution_count": 26,
   "id": "4d97f66b",
   "metadata": {},
   "outputs": [
    {
     "data": {
      "text/plain": [
       "pandas.core.indexes.base.Index"
      ]
     },
     "execution_count": 26,
     "metadata": {},
     "output_type": "execute_result"
    }
   ],
   "source": [
    "type(df2.index)"
   ]
  },
  {
   "cell_type": "code",
   "execution_count": 27,
   "id": "31d27c84",
   "metadata": {},
   "outputs": [
    {
     "data": {
      "image/png": "[encoded data removed]",
      "text/plain": [
       "<Figure size 432x288 with 4 Axes>"
      ]
     },
     "metadata": {
      "needs_background": "light"
     },
     "output_type": "display_data"
    }
   ],
   "source": [
    "decom = seasonal_decompose(df3, model='multiplicative')\n",
    "decom.plot()\n",
    "plt.show()\n",
    "\n",
    "# original = decom.observed\n",
    "# trend = decom.trend\n",
    "# seasonality = decom.seasonal\n",
    "# residual = decom.resid\n",
    "\n",
    "# plt.plot(original,label='Original',color='lightblue')\n",
    "# plt.plot(trend,label='trend',color='orange')\n",
    "# plt.legend()\n",
    "# plt.show()"
   ]
  },
  {
   "cell_type": "markdown",
   "id": "31f03a60",
   "metadata": {},
   "source": [
    "### Checking Stationarity"
   ]
  },
  {
   "cell_type": "code",
   "execution_count": 28,
   "id": "27ed3315",
   "metadata": {},
   "outputs": [],
   "source": [
    "from statsmodels.tsa.stattools import adfuller"
   ]
  },
  {
   "cell_type": "code",
   "execution_count": 29,
   "id": "b82c58a9",
   "metadata": {},
   "outputs": [],
   "source": [
    "def adf_test(data):\n",
    "    res = adfuller(data)\n",
    "    print('ADF-Test_Stat',res[0])\n",
    "    print('p-val',res[1])\n",
    "    if res[1]> 0.05:\n",
    "        print('Ho accepted - Data is non-stationary')\n",
    "    else:\n",
    "        print('H1 accepted - Data is stationary')"
   ]
  },
  {
   "cell_type": "code",
   "execution_count": 30,
   "id": "1cc4a9e5",
   "metadata": {},
   "outputs": [
    {
     "name": "stdout",
     "output_type": "stream",
     "text": [
      "ADF-Test_Stat 3.2291419431171047\n",
      "p-val 1.0\n",
      "Ho accepted - Data is non-stationary\n"
     ]
    }
   ],
   "source": [
    "adf_test(df1['value'])"
   ]
  },
  {
   "cell_type": "markdown",
   "id": "cc7cc46a",
   "metadata": {},
   "source": [
    "### Transformations to make Data Stationary"
   ]
  },
  {
   "cell_type": "code",
   "execution_count": 31,
   "id": "e9862f26",
   "metadata": {},
   "outputs": [
    {
     "name": "stdout",
     "output_type": "stream",
     "text": [
      "ADF-Test_Stat -0.988733488947917\n",
      "p-val 0.7573512901699138\n",
      "Ho accepted - Data is non-stationary\n"
     ]
    }
   ],
   "source": [
    "adf_test(np.log(df2))"
   ]
  },
  {
   "cell_type": "code",
   "execution_count": 32,
   "id": "e4bae8c5",
   "metadata": {},
   "outputs": [
    {
     "name": "stdout",
     "output_type": "stream",
     "text": [
      "ADF-Test_Stat -2.425802098761484\n",
      "p-val 0.13458598042526954\n",
      "Ho accepted - Data is non-stationary\n"
     ]
    }
   ],
   "source": [
    "adf_test(df1['Diff1'])"
   ]
  },
  {
   "cell_type": "code",
   "execution_count": 33,
   "id": "acae2280",
   "metadata": {},
   "outputs": [
    {
     "data": {
      "image/png": "[encoded data removed]",
      "text/plain": [
       "<Figure size 432x288 with 1 Axes>"
      ]
     },
     "metadata": {
      "needs_background": "light"
     },
     "output_type": "display_data"
    }
   ],
   "source": [
    "df1['Diff1'].plot()\n",
    "plt.show()\n",
    "# Trend has been reduced"
   ]
  },
  {
   "cell_type": "code",
   "execution_count": 34,
   "id": "f6c881ed",
   "metadata": {},
   "outputs": [
    {
     "name": "stdout",
     "output_type": "stream",
     "text": [
      "ADF-Test_Stat -2.4954628352950308\n",
      "p-val 0.11658217250240965\n",
      "Ho accepted - Data is non-stationary\n"
     ]
    }
   ],
   "source": [
    "adf_test(df1['Diff2'])"
   ]
  },
  {
   "cell_type": "code",
   "execution_count": 35,
   "id": "93083fd0",
   "metadata": {},
   "outputs": [
    {
     "data": {
      "image/png": "[encoded data removed]",
      "text/plain": [
       "<Figure size 432x288 with 1 Axes>"
      ]
     },
     "metadata": {
      "needs_background": "light"
     },
     "output_type": "display_data"
    }
   ],
   "source": [
    "df1['Diff2'].plot()\n",
    "plt.show()\n",
    "# Trend has been reduced"
   ]
  },
  {
   "cell_type": "code",
   "execution_count": 36,
   "id": "c8ed735c",
   "metadata": {},
   "outputs": [
    {
     "name": "stdout",
     "output_type": "stream",
     "text": [
      "ADF-Test_Stat 3.3778009018790804\n",
      "p-val 1.0\n",
      "Ho accepted - Data is non-stationary\n"
     ]
    }
   ],
   "source": [
    "adf_test(df1['Log_Diff'])\n",
    "# time - data\n",
    "# time = sales\n",
    "# predictions = final prediction\n",
    "\n",
    "# time = Sales - log(Sales)"
   ]
  },
  {
   "cell_type": "code",
   "execution_count": 37,
   "id": "23e2116d",
   "metadata": {},
   "outputs": [
    {
     "data": {
      "text/html": [
       "<div>\n",
       "<style scoped>\n",
       "    .dataframe tbody tr th:only-of-type {\n",
       "        vertical-align: middle;\n",
       "    }\n",
       "\n",
       "    .dataframe tbody tr th {\n",
       "        vertical-align: top;\n",
       "    }\n",
       "\n",
       "    .dataframe thead th {\n",
       "        text-align: right;\n",
       "    }\n",
       "</style>\n",
       "<table border=\"1\" class=\"dataframe\">\n",
       "  <thead>\n",
       "    <tr style=\"text-align: right;\">\n",
       "      <th></th>\n",
       "      <th>date</th>\n",
       "      <th>value</th>\n",
       "      <th>Lag1</th>\n",
       "      <th>Lag2</th>\n",
       "      <th>Diff1</th>\n",
       "      <th>Diff2</th>\n",
       "      <th>Diff1_M2</th>\n",
       "      <th>Diff2_M2</th>\n",
       "      <th>Log</th>\n",
       "      <th>Log_Diff</th>\n",
       "    </tr>\n",
       "  </thead>\n",
       "  <tbody>\n",
       "    <tr>\n",
       "      <th>2</th>\n",
       "      <td>1991-09-01</td>\n",
       "      <td>3.252221</td>\n",
       "      <td>3.180891</td>\n",
       "      <td>3.526591</td>\n",
       "      <td>0.071330</td>\n",
       "      <td>-0.274370</td>\n",
       "      <td>0.071330</td>\n",
       "      <td>-0.274370</td>\n",
       "      <td>1.179338</td>\n",
       "      <td>2.072883</td>\n",
       "    </tr>\n",
       "    <tr>\n",
       "      <th>3</th>\n",
       "      <td>1991-10-01</td>\n",
       "      <td>3.611003</td>\n",
       "      <td>3.252221</td>\n",
       "      <td>3.180891</td>\n",
       "      <td>0.358782</td>\n",
       "      <td>0.430112</td>\n",
       "      <td>0.358782</td>\n",
       "      <td>0.430112</td>\n",
       "      <td>1.283986</td>\n",
       "      <td>2.327017</td>\n",
       "    </tr>\n",
       "    <tr>\n",
       "      <th>4</th>\n",
       "      <td>1991-11-01</td>\n",
       "      <td>3.565869</td>\n",
       "      <td>3.611003</td>\n",
       "      <td>3.252221</td>\n",
       "      <td>-0.045134</td>\n",
       "      <td>0.313648</td>\n",
       "      <td>-0.045134</td>\n",
       "      <td>0.313648</td>\n",
       "      <td>1.271408</td>\n",
       "      <td>2.294461</td>\n",
       "    </tr>\n",
       "    <tr>\n",
       "      <th>5</th>\n",
       "      <td>1991-12-01</td>\n",
       "      <td>4.306371</td>\n",
       "      <td>3.565869</td>\n",
       "      <td>3.611003</td>\n",
       "      <td>0.740502</td>\n",
       "      <td>0.695368</td>\n",
       "      <td>0.740502</td>\n",
       "      <td>0.695368</td>\n",
       "      <td>1.460096</td>\n",
       "      <td>2.846275</td>\n",
       "    </tr>\n",
       "    <tr>\n",
       "      <th>6</th>\n",
       "      <td>1992-01-01</td>\n",
       "      <td>5.088335</td>\n",
       "      <td>4.306371</td>\n",
       "      <td>3.565869</td>\n",
       "      <td>0.781964</td>\n",
       "      <td>1.522466</td>\n",
       "      <td>0.781964</td>\n",
       "      <td>1.522466</td>\n",
       "      <td>1.626951</td>\n",
       "      <td>3.461384</td>\n",
       "    </tr>\n",
       "  </tbody>\n",
       "</table>\n",
       "</div>"
      ],
      "text/plain": [
       "         date     value      Lag1      Lag2     Diff1     Diff2  Diff1_M2  \\\n",
       "2  1991-09-01  3.252221  3.180891  3.526591  0.071330 -0.274370  0.071330   \n",
       "3  1991-10-01  3.611003  3.252221  3.180891  0.358782  0.430112  0.358782   \n",
       "4  1991-11-01  3.565869  3.611003  3.252221 -0.045134  0.313648 -0.045134   \n",
       "5  1991-12-01  4.306371  3.565869  3.611003  0.740502  0.695368  0.740502   \n",
       "6  1992-01-01  5.088335  4.306371  3.565869  0.781964  1.522466  0.781964   \n",
       "\n",
       "   Diff2_M2       Log  Log_Diff  \n",
       "2 -0.274370  1.179338  2.072883  \n",
       "3  0.430112  1.283986  2.327017  \n",
       "4  0.313648  1.271408  2.294461  \n",
       "5  0.695368  1.460096  2.846275  \n",
       "6  1.522466  1.626951  3.461384  "
      ]
     },
     "execution_count": 37,
     "metadata": {},
     "output_type": "execute_result"
    }
   ],
   "source": [
    "df1.head()"
   ]
  },
  {
   "cell_type": "code",
   "execution_count": 38,
   "id": "d8bf1f59",
   "metadata": {},
   "outputs": [
    {
     "data": {
      "text/html": [
       "<div>\n",
       "<style scoped>\n",
       "    .dataframe tbody tr th:only-of-type {\n",
       "        vertical-align: middle;\n",
       "    }\n",
       "\n",
       "    .dataframe tbody tr th {\n",
       "        vertical-align: top;\n",
       "    }\n",
       "\n",
       "    .dataframe thead th {\n",
       "        text-align: right;\n",
       "    }\n",
       "</style>\n",
       "<table border=\"1\" class=\"dataframe\">\n",
       "  <thead>\n",
       "    <tr style=\"text-align: right;\">\n",
       "      <th></th>\n",
       "      <th>date</th>\n",
       "      <th>value</th>\n",
       "      <th>Lag1</th>\n",
       "      <th>Lag2</th>\n",
       "      <th>Diff1</th>\n",
       "      <th>Diff2</th>\n",
       "      <th>Diff1_M2</th>\n",
       "      <th>Diff2_M2</th>\n",
       "      <th>Log</th>\n",
       "      <th>Log_Diff</th>\n",
       "      <th>Roll_mean2</th>\n",
       "      <th>Roll_std2</th>\n",
       "    </tr>\n",
       "  </thead>\n",
       "  <tbody>\n",
       "    <tr>\n",
       "      <th>2</th>\n",
       "      <td>1991-09-01</td>\n",
       "      <td>3.252221</td>\n",
       "      <td>3.180891</td>\n",
       "      <td>3.526591</td>\n",
       "      <td>0.071330</td>\n",
       "      <td>-0.274370</td>\n",
       "      <td>0.071330</td>\n",
       "      <td>-0.274370</td>\n",
       "      <td>1.179338</td>\n",
       "      <td>2.072883</td>\n",
       "      <td>NaN</td>\n",
       "      <td>NaN</td>\n",
       "    </tr>\n",
       "    <tr>\n",
       "      <th>3</th>\n",
       "      <td>1991-10-01</td>\n",
       "      <td>3.611003</td>\n",
       "      <td>3.252221</td>\n",
       "      <td>3.180891</td>\n",
       "      <td>0.358782</td>\n",
       "      <td>0.430112</td>\n",
       "      <td>0.358782</td>\n",
       "      <td>0.430112</td>\n",
       "      <td>1.283986</td>\n",
       "      <td>2.327017</td>\n",
       "      <td>3.431612</td>\n",
       "      <td>0.253697</td>\n",
       "    </tr>\n",
       "    <tr>\n",
       "      <th>4</th>\n",
       "      <td>1991-11-01</td>\n",
       "      <td>3.565869</td>\n",
       "      <td>3.611003</td>\n",
       "      <td>3.252221</td>\n",
       "      <td>-0.045134</td>\n",
       "      <td>0.313648</td>\n",
       "      <td>-0.045134</td>\n",
       "      <td>0.313648</td>\n",
       "      <td>1.271408</td>\n",
       "      <td>2.294461</td>\n",
       "      <td>3.588436</td>\n",
       "      <td>0.031915</td>\n",
       "    </tr>\n",
       "    <tr>\n",
       "      <th>5</th>\n",
       "      <td>1991-12-01</td>\n",
       "      <td>4.306371</td>\n",
       "      <td>3.565869</td>\n",
       "      <td>3.611003</td>\n",
       "      <td>0.740502</td>\n",
       "      <td>0.695368</td>\n",
       "      <td>0.740502</td>\n",
       "      <td>0.695368</td>\n",
       "      <td>1.460096</td>\n",
       "      <td>2.846275</td>\n",
       "      <td>3.936120</td>\n",
       "      <td>0.523614</td>\n",
       "    </tr>\n",
       "    <tr>\n",
       "      <th>6</th>\n",
       "      <td>1992-01-01</td>\n",
       "      <td>5.088335</td>\n",
       "      <td>4.306371</td>\n",
       "      <td>3.565869</td>\n",
       "      <td>0.781964</td>\n",
       "      <td>1.522466</td>\n",
       "      <td>0.781964</td>\n",
       "      <td>1.522466</td>\n",
       "      <td>1.626951</td>\n",
       "      <td>3.461384</td>\n",
       "      <td>4.697353</td>\n",
       "      <td>0.552932</td>\n",
       "    </tr>\n",
       "  </tbody>\n",
       "</table>\n",
       "</div>"
      ],
      "text/plain": [
       "         date     value      Lag1      Lag2     Diff1     Diff2  Diff1_M2  \\\n",
       "2  1991-09-01  3.252221  3.180891  3.526591  0.071330 -0.274370  0.071330   \n",
       "3  1991-10-01  3.611003  3.252221  3.180891  0.358782  0.430112  0.358782   \n",
       "4  1991-11-01  3.565869  3.611003  3.252221 -0.045134  0.313648 -0.045134   \n",
       "5  1991-12-01  4.306371  3.565869  3.611003  0.740502  0.695368  0.740502   \n",
       "6  1992-01-01  5.088335  4.306371  3.565869  0.781964  1.522466  0.781964   \n",
       "\n",
       "   Diff2_M2       Log  Log_Diff  Roll_mean2  Roll_std2  \n",
       "2 -0.274370  1.179338  2.072883         NaN        NaN  \n",
       "3  0.430112  1.283986  2.327017    3.431612   0.253697  \n",
       "4  0.313648  1.271408  2.294461    3.588436   0.031915  \n",
       "5  0.695368  1.460096  2.846275    3.936120   0.523614  \n",
       "6  1.522466  1.626951  3.461384    4.697353   0.552932  "
      ]
     },
     "execution_count": 38,
     "metadata": {},
     "output_type": "execute_result"
    }
   ],
   "source": [
    "df1['Roll_mean2'] = df1['value'].rolling(window=2).mean()\n",
    "df1['Roll_std2'] = df1['value'].rolling(window=2).std()\n",
    "df1.head()"
   ]
  },
  {
   "cell_type": "code",
   "execution_count": 39,
   "id": "fc3ad1c0",
   "metadata": {},
   "outputs": [],
   "source": [
    "# (3.252221 + 3.611003)/2\n",
    "# 3.4316120000000003"
   ]
  },
  {
   "cell_type": "code",
   "execution_count": 40,
   "id": "1a26a44d",
   "metadata": {},
   "outputs": [
    {
     "data": {
      "text/html": [
       "<div>\n",
       "<style scoped>\n",
       "    .dataframe tbody tr th:only-of-type {\n",
       "        vertical-align: middle;\n",
       "    }\n",
       "\n",
       "    .dataframe tbody tr th {\n",
       "        vertical-align: top;\n",
       "    }\n",
       "\n",
       "    .dataframe thead th {\n",
       "        text-align: right;\n",
       "    }\n",
       "</style>\n",
       "<table border=\"1\" class=\"dataframe\">\n",
       "  <thead>\n",
       "    <tr style=\"text-align: right;\">\n",
       "      <th></th>\n",
       "      <th>date</th>\n",
       "      <th>value</th>\n",
       "      <th>Lag1</th>\n",
       "      <th>Lag2</th>\n",
       "      <th>Diff1</th>\n",
       "      <th>Diff2</th>\n",
       "      <th>Diff1_M2</th>\n",
       "      <th>Diff2_M2</th>\n",
       "      <th>Log</th>\n",
       "      <th>Log_Diff</th>\n",
       "      <th>Roll_mean2</th>\n",
       "      <th>Roll_std2</th>\n",
       "    </tr>\n",
       "  </thead>\n",
       "  <tbody>\n",
       "    <tr>\n",
       "      <th>3</th>\n",
       "      <td>1991-10-01</td>\n",
       "      <td>3.611003</td>\n",
       "      <td>3.252221</td>\n",
       "      <td>3.180891</td>\n",
       "      <td>0.358782</td>\n",
       "      <td>0.430112</td>\n",
       "      <td>0.358782</td>\n",
       "      <td>0.430112</td>\n",
       "      <td>1.283986</td>\n",
       "      <td>2.327017</td>\n",
       "      <td>3.431612</td>\n",
       "      <td>0.253697</td>\n",
       "    </tr>\n",
       "    <tr>\n",
       "      <th>4</th>\n",
       "      <td>1991-11-01</td>\n",
       "      <td>3.565869</td>\n",
       "      <td>3.611003</td>\n",
       "      <td>3.252221</td>\n",
       "      <td>-0.045134</td>\n",
       "      <td>0.313648</td>\n",
       "      <td>-0.045134</td>\n",
       "      <td>0.313648</td>\n",
       "      <td>1.271408</td>\n",
       "      <td>2.294461</td>\n",
       "      <td>3.588436</td>\n",
       "      <td>0.031915</td>\n",
       "    </tr>\n",
       "    <tr>\n",
       "      <th>5</th>\n",
       "      <td>1991-12-01</td>\n",
       "      <td>4.306371</td>\n",
       "      <td>3.565869</td>\n",
       "      <td>3.611003</td>\n",
       "      <td>0.740502</td>\n",
       "      <td>0.695368</td>\n",
       "      <td>0.740502</td>\n",
       "      <td>0.695368</td>\n",
       "      <td>1.460096</td>\n",
       "      <td>2.846275</td>\n",
       "      <td>3.936120</td>\n",
       "      <td>0.523614</td>\n",
       "    </tr>\n",
       "    <tr>\n",
       "      <th>6</th>\n",
       "      <td>1992-01-01</td>\n",
       "      <td>5.088335</td>\n",
       "      <td>4.306371</td>\n",
       "      <td>3.565869</td>\n",
       "      <td>0.781964</td>\n",
       "      <td>1.522466</td>\n",
       "      <td>0.781964</td>\n",
       "      <td>1.522466</td>\n",
       "      <td>1.626951</td>\n",
       "      <td>3.461384</td>\n",
       "      <td>4.697353</td>\n",
       "      <td>0.552932</td>\n",
       "    </tr>\n",
       "    <tr>\n",
       "      <th>7</th>\n",
       "      <td>1992-02-01</td>\n",
       "      <td>2.814520</td>\n",
       "      <td>5.088335</td>\n",
       "      <td>4.306371</td>\n",
       "      <td>-2.273815</td>\n",
       "      <td>-1.491851</td>\n",
       "      <td>-2.273815</td>\n",
       "      <td>-1.491851</td>\n",
       "      <td>1.034792</td>\n",
       "      <td>1.779728</td>\n",
       "      <td>3.951427</td>\n",
       "      <td>1.607830</td>\n",
       "    </tr>\n",
       "  </tbody>\n",
       "</table>\n",
       "</div>"
      ],
      "text/plain": [
       "         date     value      Lag1      Lag2     Diff1     Diff2  Diff1_M2  \\\n",
       "3  1991-10-01  3.611003  3.252221  3.180891  0.358782  0.430112  0.358782   \n",
       "4  1991-11-01  3.565869  3.611003  3.252221 -0.045134  0.313648 -0.045134   \n",
       "5  1991-12-01  4.306371  3.565869  3.611003  0.740502  0.695368  0.740502   \n",
       "6  1992-01-01  5.088335  4.306371  3.565869  0.781964  1.522466  0.781964   \n",
       "7  1992-02-01  2.814520  5.088335  4.306371 -2.273815 -1.491851 -2.273815   \n",
       "\n",
       "   Diff2_M2       Log  Log_Diff  Roll_mean2  Roll_std2  \n",
       "3  0.430112  1.283986  2.327017    3.431612   0.253697  \n",
       "4  0.313648  1.271408  2.294461    3.588436   0.031915  \n",
       "5  0.695368  1.460096  2.846275    3.936120   0.523614  \n",
       "6  1.522466  1.626951  3.461384    4.697353   0.552932  \n",
       "7 -1.491851  1.034792  1.779728    3.951427   1.607830  "
      ]
     },
     "execution_count": 40,
     "metadata": {},
     "output_type": "execute_result"
    }
   ],
   "source": [
    "df1.dropna(inplace=True)\n",
    "df1.head()"
   ]
  },
  {
   "cell_type": "code",
   "execution_count": 41,
   "id": "7f62e122",
   "metadata": {},
   "outputs": [
    {
     "data": {
      "image/png": "[encoded data removed]",
      "text/plain": [
       "<Figure size 432x288 with 1 Axes>"
      ]
     },
     "metadata": {
      "needs_background": "light"
     },
     "output_type": "display_data"
    }
   ],
   "source": [
    "df1['Roll_mean2'].plot()\n",
    "plt.show()"
   ]
  },
  {
   "cell_type": "code",
   "execution_count": 42,
   "id": "5ec5ce5e",
   "metadata": {},
   "outputs": [
    {
     "name": "stdout",
     "output_type": "stream",
     "text": [
      "ADF-Test_Stat 2.536182560871947\n",
      "p-val 0.9990605968859623\n",
      "Ho accepted - Data is non-stationary\n"
     ]
    }
   ],
   "source": [
    "adf_test(df1['Roll_mean2'])"
   ]
  },
  {
   "cell_type": "code",
   "execution_count": 43,
   "id": "6bd390e6",
   "metadata": {},
   "outputs": [
    {
     "data": {
      "text/html": [
       "<div>\n",
       "<style scoped>\n",
       "    .dataframe tbody tr th:only-of-type {\n",
       "        vertical-align: middle;\n",
       "    }\n",
       "\n",
       "    .dataframe tbody tr th {\n",
       "        vertical-align: top;\n",
       "    }\n",
       "\n",
       "    .dataframe thead th {\n",
       "        text-align: right;\n",
       "    }\n",
       "</style>\n",
       "<table border=\"1\" class=\"dataframe\">\n",
       "  <thead>\n",
       "    <tr style=\"text-align: right;\">\n",
       "      <th></th>\n",
       "      <th>date</th>\n",
       "      <th>value</th>\n",
       "      <th>Lag1</th>\n",
       "      <th>Lag2</th>\n",
       "      <th>Diff1</th>\n",
       "      <th>Diff2</th>\n",
       "      <th>Diff1_M2</th>\n",
       "      <th>Diff2_M2</th>\n",
       "      <th>Log</th>\n",
       "      <th>Log_Diff</th>\n",
       "      <th>Roll_mean2</th>\n",
       "      <th>Roll_std2</th>\n",
       "      <th>Roll_mean12</th>\n",
       "      <th>Roll_std12</th>\n",
       "    </tr>\n",
       "  </thead>\n",
       "  <tbody>\n",
       "    <tr>\n",
       "      <th>3</th>\n",
       "      <td>1991-10-01</td>\n",
       "      <td>3.611003</td>\n",
       "      <td>3.252221</td>\n",
       "      <td>3.180891</td>\n",
       "      <td>0.358782</td>\n",
       "      <td>0.430112</td>\n",
       "      <td>0.358782</td>\n",
       "      <td>0.430112</td>\n",
       "      <td>1.283986</td>\n",
       "      <td>2.327017</td>\n",
       "      <td>3.431612</td>\n",
       "      <td>0.253697</td>\n",
       "      <td>NaN</td>\n",
       "      <td>NaN</td>\n",
       "    </tr>\n",
       "    <tr>\n",
       "      <th>4</th>\n",
       "      <td>1991-11-01</td>\n",
       "      <td>3.565869</td>\n",
       "      <td>3.611003</td>\n",
       "      <td>3.252221</td>\n",
       "      <td>-0.045134</td>\n",
       "      <td>0.313648</td>\n",
       "      <td>-0.045134</td>\n",
       "      <td>0.313648</td>\n",
       "      <td>1.271408</td>\n",
       "      <td>2.294461</td>\n",
       "      <td>3.588436</td>\n",
       "      <td>0.031915</td>\n",
       "      <td>NaN</td>\n",
       "      <td>NaN</td>\n",
       "    </tr>\n",
       "    <tr>\n",
       "      <th>5</th>\n",
       "      <td>1991-12-01</td>\n",
       "      <td>4.306371</td>\n",
       "      <td>3.565869</td>\n",
       "      <td>3.611003</td>\n",
       "      <td>0.740502</td>\n",
       "      <td>0.695368</td>\n",
       "      <td>0.740502</td>\n",
       "      <td>0.695368</td>\n",
       "      <td>1.460096</td>\n",
       "      <td>2.846275</td>\n",
       "      <td>3.936120</td>\n",
       "      <td>0.523614</td>\n",
       "      <td>NaN</td>\n",
       "      <td>NaN</td>\n",
       "    </tr>\n",
       "    <tr>\n",
       "      <th>6</th>\n",
       "      <td>1992-01-01</td>\n",
       "      <td>5.088335</td>\n",
       "      <td>4.306371</td>\n",
       "      <td>3.565869</td>\n",
       "      <td>0.781964</td>\n",
       "      <td>1.522466</td>\n",
       "      <td>0.781964</td>\n",
       "      <td>1.522466</td>\n",
       "      <td>1.626951</td>\n",
       "      <td>3.461384</td>\n",
       "      <td>4.697353</td>\n",
       "      <td>0.552932</td>\n",
       "      <td>NaN</td>\n",
       "      <td>NaN</td>\n",
       "    </tr>\n",
       "    <tr>\n",
       "      <th>7</th>\n",
       "      <td>1992-02-01</td>\n",
       "      <td>2.814520</td>\n",
       "      <td>5.088335</td>\n",
       "      <td>4.306371</td>\n",
       "      <td>-2.273815</td>\n",
       "      <td>-1.491851</td>\n",
       "      <td>-2.273815</td>\n",
       "      <td>-1.491851</td>\n",
       "      <td>1.034792</td>\n",
       "      <td>1.779728</td>\n",
       "      <td>3.951427</td>\n",
       "      <td>1.607830</td>\n",
       "      <td>NaN</td>\n",
       "      <td>NaN</td>\n",
       "    </tr>\n",
       "  </tbody>\n",
       "</table>\n",
       "</div>"
      ],
      "text/plain": [
       "         date     value      Lag1      Lag2     Diff1     Diff2  Diff1_M2  \\\n",
       "3  1991-10-01  3.611003  3.252221  3.180891  0.358782  0.430112  0.358782   \n",
       "4  1991-11-01  3.565869  3.611003  3.252221 -0.045134  0.313648 -0.045134   \n",
       "5  1991-12-01  4.306371  3.565869  3.611003  0.740502  0.695368  0.740502   \n",
       "6  1992-01-01  5.088335  4.306371  3.565869  0.781964  1.522466  0.781964   \n",
       "7  1992-02-01  2.814520  5.088335  4.306371 -2.273815 -1.491851 -2.273815   \n",
       "\n",
       "   Diff2_M2       Log  Log_Diff  Roll_mean2  Roll_std2  Roll_mean12  \\\n",
       "3  0.430112  1.283986  2.327017    3.431612   0.253697          NaN   \n",
       "4  0.313648  1.271408  2.294461    3.588436   0.031915          NaN   \n",
       "5  0.695368  1.460096  2.846275    3.936120   0.523614          NaN   \n",
       "6  1.522466  1.626951  3.461384    4.697353   0.552932          NaN   \n",
       "7 -1.491851  1.034792  1.779728    3.951427   1.607830          NaN   \n",
       "\n",
       "   Roll_std12  \n",
       "3         NaN  \n",
       "4         NaN  \n",
       "5         NaN  \n",
       "6         NaN  \n",
       "7         NaN  "
      ]
     },
     "execution_count": 43,
     "metadata": {},
     "output_type": "execute_result"
    }
   ],
   "source": [
    "df1['Roll_mean12'] = df1['value'].rolling(window=12).mean()\n",
    "df1['Roll_std12'] = df1['value'].rolling(window=12).std()\n",
    "df1.head()"
   ]
  },
  {
   "cell_type": "code",
   "execution_count": 44,
   "id": "2591bcdf",
   "metadata": {},
   "outputs": [
    {
     "data": {
      "text/plain": [
       "date           0\n",
       "value          0\n",
       "Lag1           0\n",
       "Lag2           0\n",
       "Diff1          0\n",
       "Diff2          0\n",
       "Diff1_M2       0\n",
       "Diff2_M2       0\n",
       "Log            0\n",
       "Log_Diff       0\n",
       "Roll_mean2     0\n",
       "Roll_std2      0\n",
       "Roll_mean12    0\n",
       "Roll_std12     0\n",
       "dtype: int64"
      ]
     },
     "execution_count": 44,
     "metadata": {},
     "output_type": "execute_result"
    }
   ],
   "source": [
    "df11 = df1.copy()\n",
    "df11.dropna(inplace=True)\n",
    "df11.isnull().sum()"
   ]
  },
  {
   "cell_type": "code",
   "execution_count": 45,
   "id": "1aaa2297",
   "metadata": {},
   "outputs": [
    {
     "name": "stdout",
     "output_type": "stream",
     "text": [
      "ADF-Test_Stat 3.2249821720019614\n",
      "p-val 1.0\n",
      "Ho accepted - Data is non-stationary\n"
     ]
    }
   ],
   "source": [
    "adf_test(df11['Roll_mean12'])"
   ]
  },
  {
   "cell_type": "code",
   "execution_count": 46,
   "id": "86179cc8",
   "metadata": {},
   "outputs": [],
   "source": [
    "# ypred = mx + c\n",
    "# target variable => log(y)\n",
    "# y = np.exp(model.predict(x))"
   ]
  },
  {
   "cell_type": "code",
   "execution_count": 47,
   "id": "f8770a47",
   "metadata": {},
   "outputs": [
    {
     "data": {
      "image/png": "[encoded data removed]",
      "text/plain": [
       "<Figure size 432x288 with 1 Axes>"
      ]
     },
     "metadata": {
      "needs_background": "light"
     },
     "output_type": "display_data"
    }
   ],
   "source": [
    "from statsmodels.graphics.tsaplots import plot_acf,plot_pacf\n",
    "plot_acf(df3,lags=100)\n",
    "plt.show()"
   ]
  },
  {
   "cell_type": "code",
   "execution_count": 48,
   "id": "3815ba9e",
   "metadata": {},
   "outputs": [
    {
     "data": {
      "image/png": "[encoded data removed]",
      "text/plain": [
       "<Figure size 432x288 with 1 Axes>"
      ]
     },
     "metadata": {
      "needs_background": "light"
     },
     "output_type": "display_data"
    }
   ],
   "source": [
    "plot_pacf(df3,lags=20)\n",
    "plt.show()"
   ]
  },
  {
   "cell_type": "markdown",
   "id": "afd4dbf5",
   "metadata": {},
   "source": [
    "### ARIMA"
   ]
  },
  {
   "cell_type": "code",
   "execution_count": 49,
   "id": "01fe19d9",
   "metadata": {},
   "outputs": [],
   "source": [
    "from statsmodels.tsa.arima.model import ARIMA"
   ]
  },
  {
   "cell_type": "code",
   "execution_count": 55,
   "id": "9236163b",
   "metadata": {},
   "outputs": [],
   "source": [
    "from warnings import filterwarnings\n",
    "warnings.filterwarnings(action='ignore')"
   ]
  },
  {
   "cell_type": "code",
   "execution_count": 56,
   "id": "b798e96d",
   "metadata": {},
   "outputs": [
    {
     "data": {
      "text/html": [
       "<table class=\"simpletable\">\n",
       "<caption>SARIMAX Results</caption>\n",
       "<tr>\n",
       "  <th>Dep. Variable:</th>         <td>value</td>      <th>  No. Observations:  </th>    <td>204</td>  \n",
       "</tr>\n",
       "<tr>\n",
       "  <th>Model:</th>            <td>ARIMA(2, 1, 2)</td>  <th>  Log Likelihood     </th> <td>-419.002</td>\n",
       "</tr>\n",
       "<tr>\n",
       "  <th>Date:</th>            <td>Mon, 01 Aug 2022</td> <th>  AIC                </th>  <td>848.004</td>\n",
       "</tr>\n",
       "<tr>\n",
       "  <th>Time:</th>                <td>21:47:11</td>     <th>  BIC                </th>  <td>864.570</td>\n",
       "</tr>\n",
       "<tr>\n",
       "  <th>Sample:</th>             <td>07-01-1991</td>    <th>  HQIC               </th>  <td>854.706</td>\n",
       "</tr>\n",
       "<tr>\n",
       "  <th></th>                   <td>- 06-01-2008</td>   <th>                     </th>     <td> </td>   \n",
       "</tr>\n",
       "<tr>\n",
       "  <th>Covariance Type:</th>        <td>opg</td>       <th>                     </th>     <td> </td>   \n",
       "</tr>\n",
       "</table>\n",
       "<table class=\"simpletable\">\n",
       "<tr>\n",
       "     <td></td>       <th>coef</th>     <th>std err</th>      <th>z</th>      <th>P>|z|</th>  <th>[0.025</th>    <th>0.975]</th>  \n",
       "</tr>\n",
       "<tr>\n",
       "  <th>ar.L1</th>  <td>   -0.6327</td> <td>    0.102</td> <td>   -6.198</td> <td> 0.000</td> <td>   -0.833</td> <td>   -0.433</td>\n",
       "</tr>\n",
       "<tr>\n",
       "  <th>ar.L2</th>  <td>    0.3640</td> <td>    0.088</td> <td>    4.129</td> <td> 0.000</td> <td>    0.191</td> <td>    0.537</td>\n",
       "</tr>\n",
       "<tr>\n",
       "  <th>ma.L1</th>  <td>    0.1391</td> <td>    0.087</td> <td>    1.596</td> <td> 0.110</td> <td>   -0.032</td> <td>    0.310</td>\n",
       "</tr>\n",
       "<tr>\n",
       "  <th>ma.L2</th>  <td>   -0.8209</td> <td>    0.068</td> <td>  -12.105</td> <td> 0.000</td> <td>   -0.954</td> <td>   -0.688</td>\n",
       "</tr>\n",
       "<tr>\n",
       "  <th>sigma2</th> <td>    3.6039</td> <td>    0.309</td> <td>   11.659</td> <td> 0.000</td> <td>    2.998</td> <td>    4.210</td>\n",
       "</tr>\n",
       "</table>\n",
       "<table class=\"simpletable\">\n",
       "<tr>\n",
       "  <th>Ljung-Box (L1) (Q):</th>     <td>0.26</td> <th>  Jarque-Bera (JB):  </th> <td>118.86</td>\n",
       "</tr>\n",
       "<tr>\n",
       "  <th>Prob(Q):</th>                <td>0.61</td> <th>  Prob(JB):          </th>  <td>0.00</td> \n",
       "</tr>\n",
       "<tr>\n",
       "  <th>Heteroskedasticity (H):</th> <td>9.47</td> <th>  Skew:              </th>  <td>-0.78</td>\n",
       "</tr>\n",
       "<tr>\n",
       "  <th>Prob(H) (two-sided):</th>    <td>0.00</td> <th>  Kurtosis:          </th>  <td>6.40</td> \n",
       "</tr>\n",
       "</table><br/><br/>Warnings:<br/>[1] Covariance matrix calculated using the outer product of gradients (complex-step)."
      ],
      "text/plain": [
       "<class 'statsmodels.iolib.summary.Summary'>\n",
       "\"\"\"\n",
       "                               SARIMAX Results                                \n",
       "==============================================================================\n",
       "Dep. Variable:                  value   No. Observations:                  204\n",
       "Model:                 ARIMA(2, 1, 2)   Log Likelihood                -419.002\n",
       "Date:                Mon, 01 Aug 2022   AIC                            848.004\n",
       "Time:                        21:47:11   BIC                            864.570\n",
       "Sample:                    07-01-1991   HQIC                           854.706\n",
       "                         - 06-01-2008                                         \n",
       "Covariance Type:                  opg                                         \n",
       "==============================================================================\n",
       "                 coef    std err          z      P>|z|      [0.025      0.975]\n",
       "------------------------------------------------------------------------------\n",
       "ar.L1         -0.6327      0.102     -6.198      0.000      -0.833      -0.433\n",
       "ar.L2          0.3640      0.088      4.129      0.000       0.191       0.537\n",
       "ma.L1          0.1391      0.087      1.596      0.110      -0.032       0.310\n",
       "ma.L2         -0.8209      0.068    -12.105      0.000      -0.954      -0.688\n",
       "sigma2         3.6039      0.309     11.659      0.000       2.998       4.210\n",
       "===================================================================================\n",
       "Ljung-Box (L1) (Q):                   0.26   Jarque-Bera (JB):               118.86\n",
       "Prob(Q):                              0.61   Prob(JB):                         0.00\n",
       "Heteroskedasticity (H):               9.47   Skew:                            -0.78\n",
       "Prob(H) (two-sided):                  0.00   Kurtosis:                         6.40\n",
       "===================================================================================\n",
       "\n",
       "Warnings:\n",
       "[1] Covariance matrix calculated using the outer product of gradients (complex-step).\n",
       "\"\"\""
      ]
     },
     "execution_count": 56,
     "metadata": {},
     "output_type": "execute_result"
    }
   ],
   "source": [
    "# order = (p,d,q)\n",
    "m1 = ARIMA(df3,order=(2,1,2)) # p=2,d=1,q=2\n",
    "ar_m1 = m1.fit()\n",
    "ar_m1.summary()"
   ]
  },
  {
   "cell_type": "code",
   "execution_count": 57,
   "id": "f854c509",
   "metadata": {},
   "outputs": [
    {
     "data": {
      "image/png": "[encoded data removed]",
      "text/plain": [
       "<Figure size 432x288 with 1 Axes>"
      ]
     },
     "metadata": {
      "needs_background": "light"
     },
     "output_type": "display_data"
    }
   ],
   "source": [
    "plt.plot(df3,label='Actual')\n",
    "plt.plot(ar_m1.fittedvalues,label='Predicted')\n",
    "plt.legend()\n",
    "plt.show()"
   ]
  },
  {
   "cell_type": "code",
   "execution_count": 58,
   "id": "464bb855",
   "metadata": {},
   "outputs": [
    {
     "data": {
      "text/html": [
       "<div>\n",
       "<style scoped>\n",
       "    .dataframe tbody tr th:only-of-type {\n",
       "        vertical-align: middle;\n",
       "    }\n",
       "\n",
       "    .dataframe tbody tr th {\n",
       "        vertical-align: top;\n",
       "    }\n",
       "\n",
       "    .dataframe thead th {\n",
       "        text-align: right;\n",
       "    }\n",
       "</style>\n",
       "<table border=\"1\" class=\"dataframe\">\n",
       "  <thead>\n",
       "    <tr style=\"text-align: right;\">\n",
       "      <th></th>\n",
       "      <th>value</th>\n",
       "    </tr>\n",
       "    <tr>\n",
       "      <th>date</th>\n",
       "      <th></th>\n",
       "    </tr>\n",
       "  </thead>\n",
       "  <tbody>\n",
       "    <tr>\n",
       "      <th>2008-02-01</th>\n",
       "      <td>21.654285</td>\n",
       "    </tr>\n",
       "    <tr>\n",
       "      <th>2008-03-01</th>\n",
       "      <td>18.264945</td>\n",
       "    </tr>\n",
       "    <tr>\n",
       "      <th>2008-04-01</th>\n",
       "      <td>23.107677</td>\n",
       "    </tr>\n",
       "    <tr>\n",
       "      <th>2008-05-01</th>\n",
       "      <td>22.912510</td>\n",
       "    </tr>\n",
       "    <tr>\n",
       "      <th>2008-06-01</th>\n",
       "      <td>19.431740</td>\n",
       "    </tr>\n",
       "  </tbody>\n",
       "</table>\n",
       "</div>"
      ],
      "text/plain": [
       "                value\n",
       "date                 \n",
       "2008-02-01  21.654285\n",
       "2008-03-01  18.264945\n",
       "2008-04-01  23.107677\n",
       "2008-05-01  22.912510\n",
       "2008-06-01  19.431740"
      ]
     },
     "execution_count": 58,
     "metadata": {},
     "output_type": "execute_result"
    }
   ],
   "source": [
    "df3.tail()"
   ]
  },
  {
   "cell_type": "code",
   "execution_count": 59,
   "id": "a63241dc",
   "metadata": {},
   "outputs": [
    {
     "data": {
      "text/plain": [
       "2008-07-01    21.744592\n",
       "2008-08-01    21.221261\n",
       "2008-09-01    22.394165\n",
       "2008-10-01    21.461561\n",
       "2008-11-01    22.478536\n",
       "2008-12-01    21.495636\n",
       "2009-01-01    22.487682\n",
       "2009-02-01    21.502251\n",
       "2009-03-01    22.486826\n",
       "2009-04-01    21.505200\n",
       "Freq: MS, Name: predicted_mean, dtype: float64"
      ]
     },
     "execution_count": 59,
     "metadata": {},
     "output_type": "execute_result"
    }
   ],
   "source": [
    "fcast_m1 = ar_m1.forecast(steps=10)\n",
    "fcast_m1"
   ]
  },
  {
   "cell_type": "code",
   "execution_count": 60,
   "id": "13713327",
   "metadata": {},
   "outputs": [
    {
     "name": "stdout",
     "output_type": "stream",
     "text": [
      "AIC 848.0040036259235\n"
     ]
    }
   ],
   "source": [
    "print('AIC',ar_m1.aic)"
   ]
  },
  {
   "cell_type": "markdown",
   "id": "8b9b7d58",
   "metadata": {},
   "source": [
    "#### Model - 2"
   ]
  },
  {
   "cell_type": "code",
   "execution_count": 61,
   "id": "beb327ce",
   "metadata": {},
   "outputs": [
    {
     "name": "stdout",
     "output_type": "stream",
     "text": [
      "AIC 829.855458719407\n"
     ]
    }
   ],
   "source": [
    "m2 = ARIMA(df2,order=(6,2,5)) # p=6,d=2,q=5\n",
    "ar_m2 = m2.fit()\n",
    "print('AIC',ar_m2.aic)"
   ]
  },
  {
   "cell_type": "markdown",
   "id": "45376888",
   "metadata": {},
   "source": [
    "### Data Split"
   ]
  },
  {
   "cell_type": "code",
   "execution_count": 62,
   "id": "a5f7910f",
   "metadata": {},
   "outputs": [
    {
     "data": {
      "text/plain": [
       "(204, 1)"
      ]
     },
     "execution_count": 62,
     "metadata": {},
     "output_type": "execute_result"
    }
   ],
   "source": [
    "df3.shape"
   ]
  },
  {
   "cell_type": "code",
   "execution_count": 63,
   "id": "f4955efb",
   "metadata": {},
   "outputs": [
    {
     "name": "stdout",
     "output_type": "stream",
     "text": [
      "(140, 1)\n",
      "(64, 1)\n"
     ]
    }
   ],
   "source": [
    "train = df3[:140]\n",
    "test = df3[140:]\n",
    "print(train.shape)\n",
    "print(test.shape)"
   ]
  },
  {
   "cell_type": "code",
   "execution_count": 64,
   "id": "bd55a91e",
   "metadata": {},
   "outputs": [
    {
     "data": {
      "image/png": "[encoded data removed]",
      "text/plain": [
       "<Figure size 432x288 with 1 Axes>"
      ]
     },
     "metadata": {
      "needs_background": "light"
     },
     "output_type": "display_data"
    }
   ],
   "source": [
    "plt.plot(train,label='Train')\n",
    "plt.plot(test,label='Test')\n",
    "plt.show()"
   ]
  },
  {
   "cell_type": "code",
   "execution_count": 65,
   "id": "48ea952e",
   "metadata": {},
   "outputs": [
    {
     "name": "stdout",
     "output_type": "stream",
     "text": [
      "AIC 504.8215994417292\n"
     ]
    }
   ],
   "source": [
    "m3 = ARIMA(train,order=(3,2,1))\n",
    "m3_ar = m3.fit()\n",
    "print('AIC',m3_ar.aic)"
   ]
  },
  {
   "cell_type": "code",
   "execution_count": 66,
   "id": "0dcbc486",
   "metadata": {},
   "outputs": [
    {
     "data": {
      "text/html": [
       "<div>\n",
       "<style scoped>\n",
       "    .dataframe tbody tr th:only-of-type {\n",
       "        vertical-align: middle;\n",
       "    }\n",
       "\n",
       "    .dataframe tbody tr th {\n",
       "        vertical-align: top;\n",
       "    }\n",
       "\n",
       "    .dataframe thead th {\n",
       "        text-align: right;\n",
       "    }\n",
       "</style>\n",
       "<table border=\"1\" class=\"dataframe\">\n",
       "  <thead>\n",
       "    <tr style=\"text-align: right;\">\n",
       "      <th></th>\n",
       "      <th>value</th>\n",
       "    </tr>\n",
       "    <tr>\n",
       "      <th>date</th>\n",
       "      <th></th>\n",
       "    </tr>\n",
       "  </thead>\n",
       "  <tbody>\n",
       "    <tr>\n",
       "      <th>2003-03-01</th>\n",
       "      <td>10.816994</td>\n",
       "    </tr>\n",
       "    <tr>\n",
       "      <th>2003-04-01</th>\n",
       "      <td>10.654223</td>\n",
       "    </tr>\n",
       "    <tr>\n",
       "      <th>2003-05-01</th>\n",
       "      <td>12.512323</td>\n",
       "    </tr>\n",
       "    <tr>\n",
       "      <th>2003-06-01</th>\n",
       "      <td>12.161210</td>\n",
       "    </tr>\n",
       "    <tr>\n",
       "      <th>2003-07-01</th>\n",
       "      <td>12.998046</td>\n",
       "    </tr>\n",
       "  </tbody>\n",
       "</table>\n",
       "</div>"
      ],
      "text/plain": [
       "                value\n",
       "date                 \n",
       "2003-03-01  10.816994\n",
       "2003-04-01  10.654223\n",
       "2003-05-01  12.512323\n",
       "2003-06-01  12.161210\n",
       "2003-07-01  12.998046"
      ]
     },
     "execution_count": 66,
     "metadata": {},
     "output_type": "execute_result"
    }
   ],
   "source": [
    "test.head()"
   ]
  },
  {
   "cell_type": "code",
   "execution_count": 67,
   "id": "bf2b8a88",
   "metadata": {},
   "outputs": [
    {
     "data": {
      "text/plain": [
       "2003-03-01    12.535224\n",
       "2003-04-01    13.333022\n",
       "2003-05-01    13.264943\n",
       "2003-06-01    12.759811\n",
       "2003-07-01    13.039429\n",
       "                ...    \n",
       "2008-02-01    16.803074\n",
       "2008-03-01    16.870690\n",
       "2008-04-01    16.938307\n",
       "2008-05-01    17.005923\n",
       "2008-06-01    17.073539\n",
       "Freq: MS, Name: predicted_mean, Length: 64, dtype: float64"
      ]
     },
     "execution_count": 67,
     "metadata": {},
     "output_type": "execute_result"
    }
   ],
   "source": [
    "fcast_m3 = m3_ar.forecast(steps=64)\n",
    "fcast_m3"
   ]
  },
  {
   "cell_type": "code",
   "execution_count": 68,
   "id": "fe12015b",
   "metadata": {},
   "outputs": [],
   "source": [
    "from sklearn.metrics import mean_squared_error"
   ]
  },
  {
   "cell_type": "code",
   "execution_count": 69,
   "id": "04d8246e",
   "metadata": {},
   "outputs": [],
   "source": [
    "def test_metrics(ytest,ypred):\n",
    "    mse = mean_squared_error(ytest,ypred)\n",
    "    rmse = np.sqrt(mean_squared_error(ytest,ypred))\n",
    "    print('MSE',mse)\n",
    "    print('RMSE',rmse)\n"
   ]
  },
  {
   "cell_type": "code",
   "execution_count": 70,
   "id": "43242b91",
   "metadata": {},
   "outputs": [
    {
     "name": "stdout",
     "output_type": "stream",
     "text": [
      "MSE 19.832750824096344\n",
      "RMSE 4.453397671901348\n"
     ]
    }
   ],
   "source": [
    "test_metrics(test,fcast_m3)"
   ]
  },
  {
   "cell_type": "code",
   "execution_count": null,
   "id": "3f8cb239",
   "metadata": {},
   "outputs": [],
   "source": []
  },
  {
   "cell_type": "code",
   "execution_count": 71,
   "id": "ac5e7302",
   "metadata": {},
   "outputs": [],
   "source": [
    "#### AIC\n",
    "# AIC = -2(log-likelihood) + 2K\n",
    "# k = number of estimated parameters in the model\n",
    "# {L} = maximum value of the likelihood function for the model"
   ]
  },
  {
   "cell_type": "markdown",
   "id": "36c4a06f",
   "metadata": {},
   "source": [
    "#### AutoARIMA forecasting"
   ]
  },
  {
   "cell_type": "code",
   "execution_count": 72,
   "id": "0ddab275",
   "metadata": {},
   "outputs": [],
   "source": [
    "# pip install pmdarima"
   ]
  },
  {
   "cell_type": "code",
   "execution_count": 73,
   "id": "3b783427",
   "metadata": {},
   "outputs": [],
   "source": [
    "# SARIMA (p,d,q)(P,D,Q,period)"
   ]
  },
  {
   "cell_type": "code",
   "execution_count": 74,
   "id": "fd419cbf",
   "metadata": {},
   "outputs": [],
   "source": [
    "import pmdarima as pm"
   ]
  },
  {
   "cell_type": "code",
   "execution_count": 75,
   "id": "e5d1fe78",
   "metadata": {},
   "outputs": [
    {
     "name": "stdout",
     "output_type": "stream",
     "text": [
      "Performing stepwise search to minimize aic\n",
      " ARIMA(1,0,1)(0,0,0)[0]             : AIC=498.149, Time=0.06 sec\n",
      " ARIMA(0,0,0)(0,0,0)[0]             : AIC=985.425, Time=0.01 sec\n",
      " ARIMA(1,0,0)(0,0,0)[0]             : AIC=529.939, Time=0.02 sec\n",
      " ARIMA(0,0,1)(0,0,0)[0]             : AIC=839.890, Time=0.02 sec\n",
      " ARIMA(2,0,1)(0,0,0)[0]             : AIC=494.550, Time=0.09 sec\n",
      " ARIMA(2,0,0)(0,0,0)[0]             : AIC=inf, Time=0.05 sec\n",
      " ARIMA(3,0,1)(0,0,0)[0]             : AIC=496.501, Time=0.17 sec\n",
      " ARIMA(2,0,2)(0,0,0)[0]             : AIC=499.153, Time=0.25 sec\n",
      " ARIMA(1,0,2)(0,0,0)[0]             : AIC=494.693, Time=0.09 sec\n",
      " ARIMA(3,0,0)(0,0,0)[0]             : AIC=inf, Time=0.07 sec\n",
      " ARIMA(3,0,2)(0,0,0)[0]             : AIC=511.008, Time=0.33 sec\n",
      " ARIMA(2,0,1)(0,0,0)[0] intercept   : AIC=494.910, Time=0.18 sec\n",
      "\n",
      "Best model:  ARIMA(2,0,1)(0,0,0)[0]          \n",
      "Total fit time: 1.356 seconds\n",
      "                               SARIMAX Results                                \n",
      "==============================================================================\n",
      "Dep. Variable:                      y   No. Observations:                  140\n",
      "Model:               SARIMAX(2, 0, 1)   Log Likelihood                -243.275\n",
      "Date:                Mon, 01 Aug 2022   AIC                            494.550\n",
      "Time:                        21:48:30   BIC                            506.316\n",
      "Sample:                             0   HQIC                           499.331\n",
      "                                - 140                                         \n",
      "Covariance Type:                  opg                                         \n",
      "==============================================================================\n",
      "                 coef    std err          z      P>|z|      [0.025      0.975]\n",
      "------------------------------------------------------------------------------\n",
      "ar.L1          1.2462      0.216      5.758      0.000       0.822       1.670\n",
      "ar.L2         -0.2466      0.216     -1.142      0.254      -0.670       0.177\n",
      "ma.L1         -0.8324      0.108     -7.694      0.000      -1.044      -0.620\n",
      "sigma2         1.8301      0.180     10.142      0.000       1.476       2.184\n",
      "===================================================================================\n",
      "Ljung-Box (L1) (Q):                   0.48   Jarque-Bera (JB):                74.72\n",
      "Prob(Q):                              0.49   Prob(JB):                         0.00\n",
      "Heteroskedasticity (H):               4.95   Skew:                            -0.75\n",
      "Prob(H) (two-sided):                  0.00   Kurtosis:                         6.25\n",
      "===================================================================================\n",
      "\n",
      "Warnings:\n",
      "[1] Covariance matrix calculated using the outer product of gradients (complex-step).\n"
     ]
    }
   ],
   "source": [
    "model_autoar = pm.auto_arima(train, start_p=1, start_q=1,\n",
    "                      test='adf',       # use adftest to find optimal 'd'\n",
    "                      max_p=3, max_q=3, # maximum p and q\n",
    "                      d=None,           # let model determine 'd'\n",
    "                      seasonal=False,   # No Seasonality\n",
    "                      start_P=0, \n",
    "                      D=0, \n",
    "                      trace=True,  \n",
    "                      suppress_warnings=True, \n",
    "                      stepwise=True)\n",
    "\n",
    "print(model_autoar.summary())"
   ]
  },
  {
   "cell_type": "code",
   "execution_count": 76,
   "id": "2b9f5d18",
   "metadata": {},
   "outputs": [
    {
     "name": "stdout",
     "output_type": "stream",
     "text": [
      "(64, 1)\n"
     ]
    },
    {
     "data": {
      "text/html": [
       "<div>\n",
       "<style scoped>\n",
       "    .dataframe tbody tr th:only-of-type {\n",
       "        vertical-align: middle;\n",
       "    }\n",
       "\n",
       "    .dataframe tbody tr th {\n",
       "        vertical-align: top;\n",
       "    }\n",
       "\n",
       "    .dataframe thead th {\n",
       "        text-align: right;\n",
       "    }\n",
       "</style>\n",
       "<table border=\"1\" class=\"dataframe\">\n",
       "  <thead>\n",
       "    <tr style=\"text-align: right;\">\n",
       "      <th></th>\n",
       "      <th>value</th>\n",
       "    </tr>\n",
       "    <tr>\n",
       "      <th>date</th>\n",
       "      <th></th>\n",
       "    </tr>\n",
       "  </thead>\n",
       "  <tbody>\n",
       "    <tr>\n",
       "      <th>2003-03-01</th>\n",
       "      <td>10.816994</td>\n",
       "    </tr>\n",
       "    <tr>\n",
       "      <th>2003-04-01</th>\n",
       "      <td>10.654223</td>\n",
       "    </tr>\n",
       "    <tr>\n",
       "      <th>2003-05-01</th>\n",
       "      <td>12.512323</td>\n",
       "    </tr>\n",
       "    <tr>\n",
       "      <th>2003-06-01</th>\n",
       "      <td>12.161210</td>\n",
       "    </tr>\n",
       "    <tr>\n",
       "      <th>2003-07-01</th>\n",
       "      <td>12.998046</td>\n",
       "    </tr>\n",
       "  </tbody>\n",
       "</table>\n",
       "</div>"
      ],
      "text/plain": [
       "                value\n",
       "date                 \n",
       "2003-03-01  10.816994\n",
       "2003-04-01  10.654223\n",
       "2003-05-01  12.512323\n",
       "2003-06-01  12.161210\n",
       "2003-07-01  12.998046"
      ]
     },
     "execution_count": 76,
     "metadata": {},
     "output_type": "execute_result"
    }
   ],
   "source": [
    "print(test.shape)\n",
    "test.head()"
   ]
  },
  {
   "cell_type": "code",
   "execution_count": 77,
   "id": "f918b25a",
   "metadata": {},
   "outputs": [
    {
     "data": {
      "text/html": [
       "<div>\n",
       "<style scoped>\n",
       "    .dataframe tbody tr th:only-of-type {\n",
       "        vertical-align: middle;\n",
       "    }\n",
       "\n",
       "    .dataframe tbody tr th {\n",
       "        vertical-align: top;\n",
       "    }\n",
       "\n",
       "    .dataframe thead th {\n",
       "        text-align: right;\n",
       "    }\n",
       "</style>\n",
       "<table border=\"1\" class=\"dataframe\">\n",
       "  <thead>\n",
       "    <tr style=\"text-align: right;\">\n",
       "      <th></th>\n",
       "      <th>Pred_Sales</th>\n",
       "    </tr>\n",
       "    <tr>\n",
       "      <th>date</th>\n",
       "      <th></th>\n",
       "    </tr>\n",
       "  </thead>\n",
       "  <tbody>\n",
       "    <tr>\n",
       "      <th>2003-03-01</th>\n",
       "      <td>11.953890</td>\n",
       "    </tr>\n",
       "    <tr>\n",
       "      <th>2003-04-01</th>\n",
       "      <td>12.480310</td>\n",
       "    </tr>\n",
       "    <tr>\n",
       "      <th>2003-05-01</th>\n",
       "      <td>12.605164</td>\n",
       "    </tr>\n",
       "    <tr>\n",
       "      <th>2003-06-01</th>\n",
       "      <td>12.630925</td>\n",
       "    </tr>\n",
       "    <tr>\n",
       "      <th>2003-07-01</th>\n",
       "      <td>12.632233</td>\n",
       "    </tr>\n",
       "    <tr>\n",
       "      <th>...</th>\n",
       "      <td>...</td>\n",
       "    </tr>\n",
       "    <tr>\n",
       "      <th>2008-02-01</th>\n",
       "      <td>12.271598</td>\n",
       "    </tr>\n",
       "    <tr>\n",
       "      <th>2008-03-01</th>\n",
       "      <td>12.265091</td>\n",
       "    </tr>\n",
       "    <tr>\n",
       "      <th>2008-04-01</th>\n",
       "      <td>12.258588</td>\n",
       "    </tr>\n",
       "    <tr>\n",
       "      <th>2008-05-01</th>\n",
       "      <td>12.252087</td>\n",
       "    </tr>\n",
       "    <tr>\n",
       "      <th>2008-06-01</th>\n",
       "      <td>12.245591</td>\n",
       "    </tr>\n",
       "  </tbody>\n",
       "</table>\n",
       "<p>64 rows × 1 columns</p>\n",
       "</div>"
      ],
      "text/plain": [
       "            Pred_Sales\n",
       "date                  \n",
       "2003-03-01   11.953890\n",
       "2003-04-01   12.480310\n",
       "2003-05-01   12.605164\n",
       "2003-06-01   12.630925\n",
       "2003-07-01   12.632233\n",
       "...                ...\n",
       "2008-02-01   12.271598\n",
       "2008-03-01   12.265091\n",
       "2008-04-01   12.258588\n",
       "2008-05-01   12.252087\n",
       "2008-06-01   12.245591\n",
       "\n",
       "[64 rows x 1 columns]"
      ]
     },
     "execution_count": 77,
     "metadata": {},
     "output_type": "execute_result"
    }
   ],
   "source": [
    "prediction = pd.DataFrame(model_autoar.predict(n_periods = 64),index=test.index)\n",
    "prediction.columns = ['Pred_Sales']\n",
    "prediction"
   ]
  },
  {
   "cell_type": "markdown",
   "id": "4bcc5b46",
   "metadata": {},
   "source": [
    "#### Custom ARIMA Function"
   ]
  },
  {
   "cell_type": "code",
   "execution_count": 78,
   "id": "f98932d1",
   "metadata": {},
   "outputs": [
    {
     "name": "stdout",
     "output_type": "stream",
     "text": [
      "ARIMA at (p,d,q): (0, 0, 0)\n",
      "MSE: 123.956 RMSE: 11.134 AIC: 721.419\n",
      "----------------------------------------------------------------------\n",
      "ARIMA at (p,d,q): (0, 0, 1)\n",
      "MSE: 124.448 RMSE: 11.156 AIC: 627.741\n",
      "----------------------------------------------------------------------\n",
      "ARIMA at (p,d,q): (0, 0, 2)\n",
      "MSE: 125.054 RMSE: 11.183 AIC: 589.036\n",
      "----------------------------------------------------------------------\n",
      "ARIMA at (p,d,q): (0, 0, 3)\n",
      "MSE: 125.567 RMSE: 11.206 AIC: 565.932\n",
      "----------------------------------------------------------------------\n",
      "ARIMA at (p,d,q): (0, 0, 4)\n",
      "MSE: 125.073 RMSE: 11.184 AIC: 536.615\n",
      "----------------------------------------------------------------------\n",
      "ARIMA at (p,d,q): (0, 1, 0)\n",
      "MSE: 81.807 RMSE: 9.045 AIC: 522.406\n",
      "----------------------------------------------------------------------\n",
      "ARIMA at (p,d,q): (0, 1, 1)\n",
      "MSE: 40.541 RMSE: 6.367 AIC: 488.849\n",
      "----------------------------------------------------------------------\n",
      "ARIMA at (p,d,q): (0, 1, 2)\n",
      "MSE: 43.638 RMSE: 6.606 AIC: 485.424\n",
      "----------------------------------------------------------------------\n",
      "ARIMA at (p,d,q): (0, 1, 3)\n",
      "MSE: 44.077 RMSE: 6.639 AIC: 487.246\n",
      "----------------------------------------------------------------------\n",
      "ARIMA at (p,d,q): (0, 1, 4)\n",
      "MSE: 44.303 RMSE: 6.656 AIC: 489.197\n",
      "----------------------------------------------------------------------\n",
      "ARIMA at (p,d,q): (0, 2, 0)\n",
      "MSE: 73613.371 RMSE: 271.318 AIC: 645.656\n",
      "----------------------------------------------------------------------\n",
      "ARIMA at (p,d,q): (0, 2, 1)\n",
      "MSE: 55.747 RMSE: 7.466 AIC: 526.48\n",
      "----------------------------------------------------------------------\n",
      "ARIMA at (p,d,q): (0, 2, 2)\n",
      "MSE: 10.15 RMSE: 3.186 AIC: 477.04\n",
      "----------------------------------------------------------------------\n",
      "ARIMA at (p,d,q): (0, 2, 3)\n",
      "MSE: 11.079 RMSE: 3.329 AIC: 472.603\n",
      "----------------------------------------------------------------------\n",
      "ARIMA at (p,d,q): (0, 2, 4)\n",
      "MSE: 11.119 RMSE: 3.334 AIC: 474.57\n",
      "----------------------------------------------------------------------\n",
      "ARIMA at (p,d,q): (0, 3, 0)\n",
      "MSE: 73362816.188 RMSE: 8565.21 AIC: 792.871\n",
      "----------------------------------------------------------------------\n",
      "ARIMA at (p,d,q): (0, 3, 1)\n",
      "MSE: 99972.99 RMSE: 316.185 AIC: 648.863\n",
      "----------------------------------------------------------------------\n",
      "ARIMA at (p,d,q): (0, 3, 2)\n",
      "MSE: 938.238 RMSE: 30.631 AIC: 535.45\n",
      "----------------------------------------------------------------------\n",
      "ARIMA at (p,d,q): (0, 3, 3)\n",
      "MSE: 10.311 RMSE: 3.211 AIC: 491.37\n",
      "----------------------------------------------------------------------\n",
      "ARIMA at (p,d,q): (0, 3, 4)\n",
      "MSE: 17827.759 RMSE: 133.521 AIC: 561.528\n",
      "----------------------------------------------------------------------\n",
      "ARIMA at (p,d,q): (1, 0, 0)\n",
      "MSE: 122.77 RMSE: 11.08 AIC: 522.563\n",
      "----------------------------------------------------------------------\n",
      "ARIMA at (p,d,q): (1, 0, 1)\n",
      "MSE: 47.908 RMSE: 6.922 AIC: 498.502\n",
      "----------------------------------------------------------------------\n",
      "ARIMA at (p,d,q): (1, 0, 2)\n",
      "MSE: 49.486 RMSE: 7.035 AIC: 495.063\n",
      "----------------------------------------------------------------------\n",
      "ARIMA at (p,d,q): (1, 0, 3)\n",
      "MSE: 49.991 RMSE: 7.07 AIC: 496.873\n",
      "----------------------------------------------------------------------\n",
      "ARIMA at (p,d,q): (1, 0, 4)\n",
      "MSE: 126.948 RMSE: 11.267 AIC: 535.091\n",
      "----------------------------------------------------------------------\n",
      "ARIMA at (p,d,q): (1, 1, 0)\n",
      "MSE: 55.424 RMSE: 7.445 AIC: 507.092\n",
      "----------------------------------------------------------------------\n",
      "ARIMA at (p,d,q): (1, 1, 1)\n",
      "MSE: 44.2 RMSE: 6.648 AIC: 485.289\n",
      "----------------------------------------------------------------------\n",
      "ARIMA at (p,d,q): (1, 1, 2)\n",
      "MSE: 44.106 RMSE: 6.641 AIC: 487.249\n",
      "----------------------------------------------------------------------\n",
      "ARIMA at (p,d,q): (1, 1, 3)\n",
      "MSE: 44.187 RMSE: 6.647 AIC: 481.43\n",
      "----------------------------------------------------------------------\n",
      "ARIMA at (p,d,q): (1, 1, 4)\n",
      "MSE: 44.329 RMSE: 6.658 AIC: 491.147\n",
      "----------------------------------------------------------------------\n",
      "ARIMA at (p,d,q): (1, 2, 0)\n",
      "MSE: 22011.512 RMSE: 148.363 AIC: 592.772\n",
      "----------------------------------------------------------------------\n",
      "ARIMA at (p,d,q): (1, 2, 1)\n",
      "MSE: 29.451 RMSE: 5.427 AIC: 511.607\n",
      "----------------------------------------------------------------------\n",
      "ARIMA at (p,d,q): (1, 2, 2)\n",
      "MSE: 11.013 RMSE: 3.319 AIC: 472.818\n",
      "----------------------------------------------------------------------\n",
      "ARIMA at (p,d,q): (1, 2, 3)\n",
      "MSE: 9.85 RMSE: 3.138 AIC: 478.495\n",
      "----------------------------------------------------------------------\n",
      "ARIMA at (p,d,q): (1, 2, 4)\n",
      "MSE: 11.161 RMSE: 3.341 AIC: 468.756\n",
      "----------------------------------------------------------------------\n",
      "ARIMA at (p,d,q): (1, 3, 0)\n",
      "MSE: 26477758.398 RMSE: 5145.654 AIC: 704.045\n",
      "----------------------------------------------------------------------\n",
      "ARIMA at (p,d,q): (1, 3, 1)\n",
      "MSE: 30068.929 RMSE: 173.404 AIC: 597.304\n",
      "----------------------------------------------------------------------\n",
      "ARIMA at (p,d,q): (1, 3, 2)\n",
      "MSE: 108.595 RMSE: 10.421 AIC: 521.718\n",
      "----------------------------------------------------------------------\n",
      "ARIMA at (p,d,q): (1, 3, 3)\n",
      "MSE: 677.633 RMSE: 26.031 AIC: 528.939\n",
      "----------------------------------------------------------------------\n",
      "ARIMA at (p,d,q): (1, 3, 4)\n",
      "MSE: 8.318 RMSE: 2.884 AIC: 497.942\n",
      "----------------------------------------------------------------------\n",
      "ARIMA at (p,d,q): (2, 0, 0)\n",
      "MSE: 112.322 RMSE: 10.598 AIC: 512.423\n",
      "----------------------------------------------------------------------\n",
      "ARIMA at (p,d,q): (2, 0, 1)\n",
      "MSE: 50.194 RMSE: 7.085 AIC: 494.91\n",
      "----------------------------------------------------------------------\n",
      "ARIMA at (p,d,q): (2, 0, 2)\n",
      "MSE: 50.052 RMSE: 7.075 AIC: 496.875\n",
      "----------------------------------------------------------------------\n",
      "ARIMA at (p,d,q): (2, 0, 3)\n",
      "MSE: 50.035 RMSE: 7.074 AIC: 491.055\n",
      "----------------------------------------------------------------------\n",
      "ARIMA at (p,d,q): (2, 0, 4)\n",
      "MSE: 46.626 RMSE: 6.828 AIC: 488.298\n",
      "----------------------------------------------------------------------\n",
      "ARIMA at (p,d,q): (2, 1, 0)\n",
      "MSE: 46.756 RMSE: 6.838 AIC: 501.002\n",
      "----------------------------------------------------------------------\n",
      "ARIMA at (p,d,q): (2, 1, 1)\n",
      "MSE: 44.077 RMSE: 6.639 AIC: 487.238\n",
      "----------------------------------------------------------------------\n",
      "ARIMA at (p,d,q): (2, 1, 2)\n",
      "MSE: 26.462 RMSE: 5.144 AIC: 471.242\n",
      "----------------------------------------------------------------------\n",
      "ARIMA at (p,d,q): (2, 1, 3)\n",
      "MSE: 41.638 RMSE: 6.453 AIC: 470.177\n",
      "----------------------------------------------------------------------\n",
      "ARIMA at (p,d,q): (2, 1, 4)\n",
      "MSE: 46.512 RMSE: 6.82 AIC: 474.531\n",
      "----------------------------------------------------------------------\n",
      "ARIMA at (p,d,q): (2, 2, 0)\n",
      "MSE: 6672.072 RMSE: 81.683 AIC: 566.141\n",
      "----------------------------------------------------------------------\n",
      "ARIMA at (p,d,q): (2, 2, 1)\n",
      "MSE: 21.775 RMSE: 4.666 AIC: 505.594\n",
      "----------------------------------------------------------------------\n",
      "ARIMA at (p,d,q): (2, 2, 2)\n",
      "MSE: 11.167 RMSE: 3.342 AIC: 474.442\n",
      "----------------------------------------------------------------------\n",
      "ARIMA at (p,d,q): (2, 2, 3)\n",
      "MSE: 10.736 RMSE: 3.277 AIC: 471.23\n",
      "----------------------------------------------------------------------\n",
      "ARIMA at (p,d,q): (2, 2, 4)\n",
      "MSE: 11.356 RMSE: 3.37 AIC: 466.921\n",
      "----------------------------------------------------------------------\n",
      "ARIMA at (p,d,q): (2, 3, 0)\n",
      "MSE: 8239490.957 RMSE: 2870.451 AIC: 655.6\n",
      "----------------------------------------------------------------------\n",
      "ARIMA at (p,d,q): (2, 3, 1)\n",
      "MSE: 9229.865 RMSE: 96.072 AIC: 571.652\n",
      "----------------------------------------------------------------------\n",
      "ARIMA at (p,d,q): (2, 3, 2)\n",
      "MSE: 31.928 RMSE: 5.65 AIC: 516.359\n",
      "----------------------------------------------------------------------\n",
      "ARIMA at (p,d,q): (2, 3, 3)\n",
      "MSE: 126.661 RMSE: 11.254 AIC: 521.473\n",
      "----------------------------------------------------------------------\n",
      "ARIMA at (p,d,q): (2, 3, 4)\n",
      "MSE: 423.48 RMSE: 20.579 AIC: 526.19\n",
      "----------------------------------------------------------------------\n",
      "ARIMA at (p,d,q): (3, 0, 0)\n",
      "MSE: 96.474 RMSE: 9.822 AIC: 508.377\n",
      "----------------------------------------------------------------------\n",
      "ARIMA at (p,d,q): (3, 0, 1)\n",
      "MSE: 49.911 RMSE: 7.065 AIC: 496.866\n",
      "----------------------------------------------------------------------\n",
      "ARIMA at (p,d,q): (3, 0, 2)\n",
      "MSE: 50.284 RMSE: 7.091 AIC: 493.094\n",
      "----------------------------------------------------------------------\n",
      "ARIMA at (p,d,q): (3, 0, 3)\n",
      "MSE: 46.273 RMSE: 6.802 AIC: 479.921\n",
      "----------------------------------------------------------------------\n",
      "ARIMA at (p,d,q): (3, 0, 4)\n",
      "MSE: 51.707 RMSE: 7.191 AIC: 484.998\n",
      "----------------------------------------------------------------------\n",
      "ARIMA at (p,d,q): (3, 1, 0)\n",
      "MSE: 44.508 RMSE: 6.671 AIC: 500.286\n",
      "----------------------------------------------------------------------\n",
      "ARIMA at (p,d,q): (3, 1, 1)\n",
      "MSE: 43.985 RMSE: 6.632 AIC: 489.069\n",
      "----------------------------------------------------------------------\n",
      "ARIMA at (p,d,q): (3, 1, 2)\n",
      "MSE: 39.327 RMSE: 6.271 AIC: 463.312\n",
      "----------------------------------------------------------------------\n",
      "ARIMA at (p,d,q): (3, 1, 3)\n",
      "MSE: 44.989 RMSE: 6.707 AIC: 478.146\n",
      "----------------------------------------------------------------------\n",
      "ARIMA at (p,d,q): (3, 1, 4)\n",
      "MSE: 42.156 RMSE: 6.493 AIC: 471.845\n",
      "----------------------------------------------------------------------\n",
      "ARIMA at (p,d,q): (3, 2, 0)\n",
      "MSE: 3088.345 RMSE: 55.573 AIC: 555.581\n",
      "----------------------------------------------------------------------\n",
      "ARIMA at (p,d,q): (3, 2, 1)\n",
      "MSE: 19.833 RMSE: 4.453 AIC: 504.822\n",
      "----------------------------------------------------------------------\n",
      "ARIMA at (p,d,q): (3, 2, 2)\n",
      "MSE: 20.104 RMSE: 4.484 AIC: 499.736\n",
      "----------------------------------------------------------------------\n",
      "ARIMA at (p,d,q): (3, 2, 3)\n",
      "MSE: 29.1 RMSE: 5.394 AIC: 499.559\n",
      "----------------------------------------------------------------------\n",
      "ARIMA at (p,d,q): (3, 2, 4)\n",
      "MSE: 10.954 RMSE: 3.31 AIC: 470.465\n",
      "----------------------------------------------------------------------\n",
      "ARIMA at (p,d,q): (3, 3, 0)\n",
      "MSE: 3381315.797 RMSE: 1838.835 AIC: 629.114\n",
      "----------------------------------------------------------------------\n",
      "ARIMA at (p,d,q): (3, 3, 1)\n",
      "MSE: 4310.807 RMSE: 65.657 AIC: 561.725\n",
      "----------------------------------------------------------------------\n",
      "ARIMA at (p,d,q): (3, 3, 2)\n",
      "MSE: 6862.169 RMSE: 82.838 AIC: 560.98\n",
      "----------------------------------------------------------------------\n",
      "ARIMA at (p,d,q): (3, 3, 3)\n",
      "MSE: 26800.887 RMSE: 163.71 AIC: 572.05\n",
      "----------------------------------------------------------------------\n",
      "ARIMA at (p,d,q): (3, 3, 4)\n",
      "MSE: 46.102 RMSE: 6.79 AIC: 521.842\n",
      "----------------------------------------------------------------------\n",
      "ARIMA at (p,d,q): (4, 0, 0)\n",
      "MSE: 85.859 RMSE: 9.266 AIC: 508.391\n",
      "----------------------------------------------------------------------\n",
      "ARIMA at (p,d,q): (4, 0, 1)\n",
      "MSE: 49.743 RMSE: 7.053 AIC: 498.704\n",
      "----------------------------------------------------------------------\n",
      "ARIMA at (p,d,q): (4, 0, 2)\n",
      "MSE: 49.381 RMSE: 7.027 AIC: 494.038\n",
      "----------------------------------------------------------------------\n",
      "ARIMA at (p,d,q): (4, 0, 3)\n",
      "MSE: 50.192 RMSE: 7.085 AIC: 490.278\n",
      "----------------------------------------------------------------------\n",
      "ARIMA at (p,d,q): (4, 0, 4)\n",
      "MSE: 49.656 RMSE: 7.047 AIC: 486.585\n",
      "----------------------------------------------------------------------\n",
      "ARIMA at (p,d,q): (4, 1, 0)\n",
      "MSE: 42.697 RMSE: 6.534 AIC: 498.404\n",
      "----------------------------------------------------------------------\n",
      "ARIMA at (p,d,q): (4, 1, 1)\n",
      "MSE: 43.736 RMSE: 6.613 AIC: 489.577\n",
      "----------------------------------------------------------------------\n",
      "ARIMA at (p,d,q): (4, 1, 2)\n",
      "MSE: 39.184 RMSE: 6.26 AIC: 461.563\n",
      "----------------------------------------------------------------------\n",
      "ARIMA at (p,d,q): (4, 1, 3)\n",
      "MSE: 43.493 RMSE: 6.595 AIC: 471.158\n",
      "----------------------------------------------------------------------\n",
      "ARIMA at (p,d,q): (4, 1, 4)\n",
      "MSE: 40.598 RMSE: 6.372 AIC: 451.8\n",
      "----------------------------------------------------------------------\n",
      "ARIMA at (p,d,q): (4, 2, 0)\n",
      "MSE: 1603.069 RMSE: 40.038 AIC: 549.657\n",
      "----------------------------------------------------------------------\n",
      "ARIMA at (p,d,q): (4, 2, 1)\n",
      "MSE: 18.232 RMSE: 4.27 AIC: 502.715\n",
      "----------------------------------------------------------------------\n",
      "ARIMA at (p,d,q): (4, 2, 2)\n",
      "MSE: 19.575 RMSE: 4.424 AIC: 501.428\n",
      "----------------------------------------------------------------------\n",
      "ARIMA at (p,d,q): (4, 2, 3)\n",
      "MSE: 20.174 RMSE: 4.492 AIC: 497.343\n",
      "----------------------------------------------------------------------\n",
      "ARIMA at (p,d,q): (4, 2, 4)\n",
      "MSE: 10.245 RMSE: 3.201 AIC: 464.268\n",
      "----------------------------------------------------------------------\n",
      "ARIMA at (p,d,q): (4, 3, 0)\n",
      "MSE: 1847508.09 RMSE: 1359.231 AIC: 618.624\n",
      "----------------------------------------------------------------------\n",
      "ARIMA at (p,d,q): (4, 3, 1)\n",
      "MSE: 2282.98 RMSE: 47.781 AIC: 556.301\n",
      "----------------------------------------------------------------------\n",
      "ARIMA at (p,d,q): (4, 3, 2)\n",
      "MSE: 13.374 RMSE: 3.657 AIC: 514.191\n",
      "----------------------------------------------------------------------\n",
      "ARIMA at (p,d,q): (4, 3, 3)\n",
      "MSE: 10571.654 RMSE: 102.819 AIC: 558.824\n",
      "----------------------------------------------------------------------\n",
      "ARIMA at (p,d,q): (4, 3, 4)\n",
      "MSE: 22.829 RMSE: 4.778 AIC: 508.309\n",
      "----------------------------------------------------------------------\n"
     ]
    }
   ],
   "source": [
    "p = list(range(0,5)) # p=0,1,2,3,4\n",
    "d = list(range(0,4)) # d = 0,1,2,3\n",
    "q = list(range(0,5)) # q = 0,1,2,3,4\n",
    "mse_arima = []\n",
    "rmse_arima = []\n",
    "aic_arima = []\n",
    "pdq = []\n",
    "def custom_arima():\n",
    "    for i in p:\n",
    "        for j in d:\n",
    "            for k in q:\n",
    "                param = (i,j,k)\n",
    "                model = ARIMA(train,order=param)\n",
    "                model_fit = model.fit()\n",
    "                ypred = model_fit.forecast(steps=64)\n",
    "                mse = mean_squared_error(test,ypred.values)\n",
    "                rmse = np.sqrt(mean_squared_error(test,ypred.values))\n",
    "                mse_arima.append(mse)\n",
    "                rmse_arima.append(rmse)\n",
    "                aic_arima.append(model_fit.aic)\n",
    "                pdq.append((i,j,k))\n",
    "                print(f'ARIMA at (p,d,q): {i,j,k}')\n",
    "                print(f'MSE: {round(mse,3)} RMSE: {round(rmse,3)} AIC: {round(model_fit.aic,3)}')\n",
    "                print('-'*70)\n",
    "custom_arima()    "
   ]
  },
  {
   "cell_type": "code",
   "execution_count": 79,
   "id": "2f93472a",
   "metadata": {},
   "outputs": [
    {
     "name": "stdout",
     "output_type": "stream",
     "text": [
      "8.3181740209045 39\n",
      "2.884124480826807 39\n",
      "451.80034635724144 89\n",
      "(1, 2, 3) (4, 1, 4)\n"
     ]
    }
   ],
   "source": [
    "print(min(mse_arima),mse_arima.index(min(mse_arima)))\n",
    "print(min(rmse_arima),rmse_arima.index(min(rmse_arima)))\n",
    "print(min(aic_arima),aic_arima.index(min(aic_arima)))\n",
    "print(pdq[33],pdq[89])"
   ]
  },
  {
   "cell_type": "code",
   "execution_count": null,
   "id": "056c1b40",
   "metadata": {},
   "outputs": [],
   "source": []
  }
 ],
 "metadata": {
  "kernelspec": {
   "display_name": "Python 3 (ipykernel)",
   "language": "python",
   "name": "python3"
  },
  "language_info": {
   "codemirror_mode": {
    "name": "ipython",
    "version": 3
   },
   "file_extension": ".py",
   "mimetype": "text/x-python",
   "name": "python",
   "nbconvert_exporter": "python",
   "pygments_lexer": "ipython3",
   "version": "3.9.7"
  }
 },
 "nbformat": 4,
 "nbformat_minor": 5
}
