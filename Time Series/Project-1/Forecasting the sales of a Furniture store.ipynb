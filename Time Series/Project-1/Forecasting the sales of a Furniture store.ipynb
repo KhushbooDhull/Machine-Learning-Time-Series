{
 "cells": [
  {
   "cell_type": "markdown",
   "id": "75e6401e",
   "metadata": {},
   "source": [
    "# Forecasting the sales of a furniture store"
   ]
  },
  {
   "cell_type": "markdown",
   "id": "3158bf96",
   "metadata": {},
   "source": [
    "### Abstract:\n",
    "One of the most important tasks for any retail store company is to analyze the performance of its stores. The main challenge faced by any retail store is predicting in advance the sales and inventory required at each store to avoid overstocking and\n",
    "under-stocking. This helps the business to provide the best customer experience and avoid getting into losses, thus ensuring the store is sustainable for operation.\n",
    "### Problem Statement:\n",
    "Read the superstore data and forecast about the sales of furniture for the next year.\n",
    "### Dataset Information:\n",
    "The data set contains information about products, sales, profits, and so on that you can use to identify key areas for improvement within the furniture company."
   ]
  },
  {
   "cell_type": "markdown",
   "id": "6c6e4ba7",
   "metadata": {},
   "source": [
    "### Importing Libraries"
   ]
  },
  {
   "cell_type": "code",
   "execution_count": 1,
   "id": "0f4cb84e",
   "metadata": {},
   "outputs": [],
   "source": [
    "import pandas as pd\n",
    "import numpy as np\n",
    "import matplotlib.pyplot as plt\n",
    "from warnings import filterwarnings\n",
    "filterwarnings('ignore')"
   ]
  },
  {
   "cell_type": "code",
   "execution_count": 2,
   "id": "994737d0",
   "metadata": {},
   "outputs": [],
   "source": [
    "from sklearn.metrics import mean_squared_error\n",
    "\n",
    "from statsmodels.tsa.seasonal import seasonal_decompose\n",
    "from statsmodels.tsa.stattools import adfuller,kpss\n",
    "\n",
    "from statsmodels.graphics.tsaplots import plot_acf,plot_pacf\n",
    "from statsmodels.tsa.arima.model import ARIMA\n",
    "import warnings\n",
    "warnings.filterwarnings(action='ignore')"
   ]
  },
  {
   "cell_type": "markdown",
   "id": "8c02e70a",
   "metadata": {},
   "source": [
    "### Read the Dataset"
   ]
  },
  {
   "cell_type": "code",
   "execution_count": 3,
   "id": "a91f9ae2",
   "metadata": {},
   "outputs": [
    {
     "data": {
      "text/html": [
       "<div>\n",
       "<style scoped>\n",
       "    .dataframe tbody tr th:only-of-type {\n",
       "        vertical-align: middle;\n",
       "    }\n",
       "\n",
       "    .dataframe tbody tr th {\n",
       "        vertical-align: top;\n",
       "    }\n",
       "\n",
       "    .dataframe thead th {\n",
       "        text-align: right;\n",
       "    }\n",
       "</style>\n",
       "<table border=\"1\" class=\"dataframe\">\n",
       "  <thead>\n",
       "    <tr style=\"text-align: right;\">\n",
       "      <th></th>\n",
       "      <th>Row ID</th>\n",
       "      <th>Order ID</th>\n",
       "      <th>Order Date</th>\n",
       "      <th>Ship Date</th>\n",
       "      <th>Ship Mode</th>\n",
       "      <th>Customer ID</th>\n",
       "      <th>Customer Name</th>\n",
       "      <th>Segment</th>\n",
       "      <th>Country</th>\n",
       "      <th>City</th>\n",
       "      <th>...</th>\n",
       "      <th>Postal Code</th>\n",
       "      <th>Region</th>\n",
       "      <th>Product ID</th>\n",
       "      <th>Category</th>\n",
       "      <th>Sub-Category</th>\n",
       "      <th>Product Name</th>\n",
       "      <th>Sales</th>\n",
       "      <th>Quantity</th>\n",
       "      <th>Discount</th>\n",
       "      <th>Profit</th>\n",
       "    </tr>\n",
       "  </thead>\n",
       "  <tbody>\n",
       "    <tr>\n",
       "      <th>0</th>\n",
       "      <td>1</td>\n",
       "      <td>CA-2016-152156</td>\n",
       "      <td>11/8/2016</td>\n",
       "      <td>11/11/2016</td>\n",
       "      <td>Second Class</td>\n",
       "      <td>CG-12520</td>\n",
       "      <td>Claire Gute</td>\n",
       "      <td>Consumer</td>\n",
       "      <td>United States</td>\n",
       "      <td>Henderson</td>\n",
       "      <td>...</td>\n",
       "      <td>42420</td>\n",
       "      <td>South</td>\n",
       "      <td>FUR-BO-10001798</td>\n",
       "      <td>Furniture</td>\n",
       "      <td>Bookcases</td>\n",
       "      <td>Bush Somerset Collection Bookcase</td>\n",
       "      <td>261.96</td>\n",
       "      <td>2</td>\n",
       "      <td>0.0</td>\n",
       "      <td>41.9136</td>\n",
       "    </tr>\n",
       "    <tr>\n",
       "      <th>1</th>\n",
       "      <td>2</td>\n",
       "      <td>CA-2016-152156</td>\n",
       "      <td>11/8/2016</td>\n",
       "      <td>11/11/2016</td>\n",
       "      <td>Second Class</td>\n",
       "      <td>CG-12520</td>\n",
       "      <td>Claire Gute</td>\n",
       "      <td>Consumer</td>\n",
       "      <td>United States</td>\n",
       "      <td>Henderson</td>\n",
       "      <td>...</td>\n",
       "      <td>42420</td>\n",
       "      <td>South</td>\n",
       "      <td>FUR-CH-10000454</td>\n",
       "      <td>Furniture</td>\n",
       "      <td>Chairs</td>\n",
       "      <td>Hon Deluxe Fabric Upholstered Stacking Chairs,...</td>\n",
       "      <td>731.94</td>\n",
       "      <td>3</td>\n",
       "      <td>0.0</td>\n",
       "      <td>219.5820</td>\n",
       "    </tr>\n",
       "  </tbody>\n",
       "</table>\n",
       "<p>2 rows × 21 columns</p>\n",
       "</div>"
      ],
      "text/plain": [
       "   Row ID        Order ID Order Date   Ship Date     Ship Mode Customer ID  \\\n",
       "0       1  CA-2016-152156  11/8/2016  11/11/2016  Second Class    CG-12520   \n",
       "1       2  CA-2016-152156  11/8/2016  11/11/2016  Second Class    CG-12520   \n",
       "\n",
       "  Customer Name   Segment        Country       City  ... Postal Code  Region  \\\n",
       "0   Claire Gute  Consumer  United States  Henderson  ...       42420   South   \n",
       "1   Claire Gute  Consumer  United States  Henderson  ...       42420   South   \n",
       "\n",
       "        Product ID   Category Sub-Category  \\\n",
       "0  FUR-BO-10001798  Furniture    Bookcases   \n",
       "1  FUR-CH-10000454  Furniture       Chairs   \n",
       "\n",
       "                                        Product Name   Sales  Quantity  \\\n",
       "0                  Bush Somerset Collection Bookcase  261.96         2   \n",
       "1  Hon Deluxe Fabric Upholstered Stacking Chairs,...  731.94         3   \n",
       "\n",
       "   Discount    Profit  \n",
       "0       0.0   41.9136  \n",
       "1       0.0  219.5820  \n",
       "\n",
       "[2 rows x 21 columns]"
      ]
     },
     "execution_count": 3,
     "metadata": {},
     "output_type": "execute_result"
    }
   ],
   "source": [
    "df = pd.read_csv('super_store.csv',encoding = 'latin1')\n",
    "df.head(2)"
   ]
  },
  {
   "cell_type": "markdown",
   "id": "d0bdfd42",
   "metadata": {},
   "source": [
    "### Exploratory Data Analysis"
   ]
  },
  {
   "cell_type": "code",
   "execution_count": 4,
   "id": "56ae3140",
   "metadata": {
    "scrolled": true
   },
   "outputs": [
    {
     "data": {
      "text/plain": [
       "(2121, 21)"
      ]
     },
     "execution_count": 4,
     "metadata": {},
     "output_type": "execute_result"
    }
   ],
   "source": [
    "df.shape"
   ]
  },
  {
   "cell_type": "code",
   "execution_count": 5,
   "id": "137188ff",
   "metadata": {},
   "outputs": [
    {
     "data": {
      "text/plain": [
       "Row ID           0\n",
       "Order ID         0\n",
       "Order Date       0\n",
       "Ship Date        0\n",
       "Ship Mode        0\n",
       "Customer ID      0\n",
       "Customer Name    0\n",
       "Segment          0\n",
       "Country          0\n",
       "City             0\n",
       "State            0\n",
       "Postal Code      0\n",
       "Region           0\n",
       "Product ID       0\n",
       "Category         0\n",
       "Sub-Category     0\n",
       "Product Name     0\n",
       "Sales            0\n",
       "Quantity         0\n",
       "Discount         0\n",
       "Profit           0\n",
       "dtype: int64"
      ]
     },
     "execution_count": 5,
     "metadata": {},
     "output_type": "execute_result"
    }
   ],
   "source": [
    "df.isnull().sum()"
   ]
  },
  {
   "cell_type": "code",
   "execution_count": 6,
   "id": "d9b070bc",
   "metadata": {},
   "outputs": [
    {
     "data": {
      "text/plain": [
       "Furniture    2121\n",
       "Name: Category, dtype: int64"
      ]
     },
     "execution_count": 6,
     "metadata": {},
     "output_type": "execute_result"
    }
   ],
   "source": [
    "df['Category'].value_counts()"
   ]
  },
  {
   "cell_type": "code",
   "execution_count": 7,
   "id": "3dea11ec",
   "metadata": {},
   "outputs": [
    {
     "data": {
      "text/html": [
       "<div>\n",
       "<style scoped>\n",
       "    .dataframe tbody tr th:only-of-type {\n",
       "        vertical-align: middle;\n",
       "    }\n",
       "\n",
       "    .dataframe tbody tr th {\n",
       "        vertical-align: top;\n",
       "    }\n",
       "\n",
       "    .dataframe thead th {\n",
       "        text-align: right;\n",
       "    }\n",
       "</style>\n",
       "<table border=\"1\" class=\"dataframe\">\n",
       "  <thead>\n",
       "    <tr style=\"text-align: right;\">\n",
       "      <th></th>\n",
       "      <th>Order Date</th>\n",
       "      <th>Sales</th>\n",
       "    </tr>\n",
       "  </thead>\n",
       "  <tbody>\n",
       "    <tr>\n",
       "      <th>0</th>\n",
       "      <td>11/8/2016</td>\n",
       "      <td>261.9600</td>\n",
       "    </tr>\n",
       "    <tr>\n",
       "      <th>1</th>\n",
       "      <td>11/8/2016</td>\n",
       "      <td>731.9400</td>\n",
       "    </tr>\n",
       "    <tr>\n",
       "      <th>2</th>\n",
       "      <td>10/11/2015</td>\n",
       "      <td>957.5775</td>\n",
       "    </tr>\n",
       "    <tr>\n",
       "      <th>3</th>\n",
       "      <td>6/9/2014</td>\n",
       "      <td>48.8600</td>\n",
       "    </tr>\n",
       "    <tr>\n",
       "      <th>4</th>\n",
       "      <td>6/9/2014</td>\n",
       "      <td>1706.1840</td>\n",
       "    </tr>\n",
       "  </tbody>\n",
       "</table>\n",
       "</div>"
      ],
      "text/plain": [
       "   Order Date      Sales\n",
       "0   11/8/2016   261.9600\n",
       "1   11/8/2016   731.9400\n",
       "2  10/11/2015   957.5775\n",
       "3    6/9/2014    48.8600\n",
       "4    6/9/2014  1706.1840"
      ]
     },
     "execution_count": 7,
     "metadata": {},
     "output_type": "execute_result"
    }
   ],
   "source": [
    "df1 = df[['Order Date','Sales']]\n",
    "df1.head()"
   ]
  },
  {
   "cell_type": "code",
   "execution_count": 8,
   "id": "7b992a5b",
   "metadata": {},
   "outputs": [
    {
     "data": {
      "text/plain": [
       "9/5/2016      10\n",
       "12/1/2016      9\n",
       "11/19/2017     9\n",
       "10/30/2017     9\n",
       "12/25/2016     9\n",
       "              ..\n",
       "10/30/2015     1\n",
       "7/9/2015       1\n",
       "9/9/2016       1\n",
       "6/22/2015      1\n",
       "1/21/2014      1\n",
       "Name: Order Date, Length: 889, dtype: int64"
      ]
     },
     "execution_count": 8,
     "metadata": {},
     "output_type": "execute_result"
    }
   ],
   "source": [
    "df1['Order Date'].value_counts()"
   ]
  },
  {
   "cell_type": "code",
   "execution_count": 9,
   "id": "c69f1361",
   "metadata": {},
   "outputs": [
    {
     "data": {
      "text/html": [
       "<div>\n",
       "<style scoped>\n",
       "    .dataframe tbody tr th:only-of-type {\n",
       "        vertical-align: middle;\n",
       "    }\n",
       "\n",
       "    .dataframe tbody tr th {\n",
       "        vertical-align: top;\n",
       "    }\n",
       "\n",
       "    .dataframe thead th {\n",
       "        text-align: right;\n",
       "    }\n",
       "</style>\n",
       "<table border=\"1\" class=\"dataframe\">\n",
       "  <thead>\n",
       "    <tr style=\"text-align: right;\">\n",
       "      <th></th>\n",
       "      <th>Order Date</th>\n",
       "      <th>Sales</th>\n",
       "    </tr>\n",
       "  </thead>\n",
       "  <tbody>\n",
       "    <tr>\n",
       "      <th>0</th>\n",
       "      <td>1/1/2017</td>\n",
       "      <td>243.872500</td>\n",
       "    </tr>\n",
       "    <tr>\n",
       "      <th>1</th>\n",
       "      <td>1/10/2014</td>\n",
       "      <td>51.940000</td>\n",
       "    </tr>\n",
       "    <tr>\n",
       "      <th>2</th>\n",
       "      <td>1/10/2015</td>\n",
       "      <td>1018.104000</td>\n",
       "    </tr>\n",
       "    <tr>\n",
       "      <th>3</th>\n",
       "      <td>1/10/2016</td>\n",
       "      <td>52.385000</td>\n",
       "    </tr>\n",
       "    <tr>\n",
       "      <th>4</th>\n",
       "      <td>1/11/2014</td>\n",
       "      <td>9.940000</td>\n",
       "    </tr>\n",
       "    <tr>\n",
       "      <th>...</th>\n",
       "      <td>...</td>\n",
       "      <td>...</td>\n",
       "    </tr>\n",
       "    <tr>\n",
       "      <th>884</th>\n",
       "      <td>9/8/2016</td>\n",
       "      <td>562.496933</td>\n",
       "    </tr>\n",
       "    <tr>\n",
       "      <th>885</th>\n",
       "      <td>9/8/2017</td>\n",
       "      <td>333.413000</td>\n",
       "    </tr>\n",
       "    <tr>\n",
       "      <th>886</th>\n",
       "      <td>9/9/2014</td>\n",
       "      <td>288.008000</td>\n",
       "    </tr>\n",
       "    <tr>\n",
       "      <th>887</th>\n",
       "      <td>9/9/2016</td>\n",
       "      <td>15.008000</td>\n",
       "    </tr>\n",
       "    <tr>\n",
       "      <th>888</th>\n",
       "      <td>9/9/2017</td>\n",
       "      <td>96.512800</td>\n",
       "    </tr>\n",
       "  </tbody>\n",
       "</table>\n",
       "<p>889 rows × 2 columns</p>\n",
       "</div>"
      ],
      "text/plain": [
       "    Order Date        Sales\n",
       "0     1/1/2017   243.872500\n",
       "1    1/10/2014    51.940000\n",
       "2    1/10/2015  1018.104000\n",
       "3    1/10/2016    52.385000\n",
       "4    1/11/2014     9.940000\n",
       "..         ...          ...\n",
       "884   9/8/2016   562.496933\n",
       "885   9/8/2017   333.413000\n",
       "886   9/9/2014   288.008000\n",
       "887   9/9/2016    15.008000\n",
       "888   9/9/2017    96.512800\n",
       "\n",
       "[889 rows x 2 columns]"
      ]
     },
     "execution_count": 9,
     "metadata": {},
     "output_type": "execute_result"
    }
   ],
   "source": [
    "df1 = df1.groupby(['Order Date'])['Sales'].mean().reset_index()\n",
    "df1"
   ]
  },
  {
   "cell_type": "code",
   "execution_count": 10,
   "id": "59eeb402",
   "metadata": {},
   "outputs": [
    {
     "data": {
      "text/plain": [
       "Series([], Name: Order Date, dtype: int64)"
      ]
     },
     "execution_count": 10,
     "metadata": {},
     "output_type": "execute_result"
    }
   ],
   "source": [
    "r = df1['Order Date'].value_counts()\n",
    "r[r>1]"
   ]
  },
  {
   "cell_type": "code",
   "execution_count": 11,
   "id": "8153a6c4",
   "metadata": {},
   "outputs": [
    {
     "data": {
      "text/html": [
       "<div>\n",
       "<style scoped>\n",
       "    .dataframe tbody tr th:only-of-type {\n",
       "        vertical-align: middle;\n",
       "    }\n",
       "\n",
       "    .dataframe tbody tr th {\n",
       "        vertical-align: top;\n",
       "    }\n",
       "\n",
       "    .dataframe thead th {\n",
       "        text-align: right;\n",
       "    }\n",
       "</style>\n",
       "<table border=\"1\" class=\"dataframe\">\n",
       "  <thead>\n",
       "    <tr style=\"text-align: right;\">\n",
       "      <th></th>\n",
       "      <th>Order Date</th>\n",
       "      <th>Sales</th>\n",
       "    </tr>\n",
       "  </thead>\n",
       "  <tbody>\n",
       "    <tr>\n",
       "      <th>0</th>\n",
       "      <td>1/1/2017</td>\n",
       "      <td>243.8725</td>\n",
       "    </tr>\n",
       "    <tr>\n",
       "      <th>1</th>\n",
       "      <td>1/10/2014</td>\n",
       "      <td>51.9400</td>\n",
       "    </tr>\n",
       "    <tr>\n",
       "      <th>2</th>\n",
       "      <td>1/10/2015</td>\n",
       "      <td>1018.1040</td>\n",
       "    </tr>\n",
       "    <tr>\n",
       "      <th>3</th>\n",
       "      <td>1/10/2016</td>\n",
       "      <td>52.3850</td>\n",
       "    </tr>\n",
       "    <tr>\n",
       "      <th>4</th>\n",
       "      <td>1/11/2014</td>\n",
       "      <td>9.9400</td>\n",
       "    </tr>\n",
       "  </tbody>\n",
       "</table>\n",
       "</div>"
      ],
      "text/plain": [
       "  Order Date      Sales\n",
       "0   1/1/2017   243.8725\n",
       "1  1/10/2014    51.9400\n",
       "2  1/10/2015  1018.1040\n",
       "3  1/10/2016    52.3850\n",
       "4  1/11/2014     9.9400"
      ]
     },
     "execution_count": 11,
     "metadata": {},
     "output_type": "execute_result"
    }
   ],
   "source": [
    "df1.head()"
   ]
  },
  {
   "cell_type": "code",
   "execution_count": 12,
   "id": "27e6d74d",
   "metadata": {},
   "outputs": [
    {
     "data": {
      "text/plain": [
       "Order Date     object\n",
       "Sales         float64\n",
       "dtype: object"
      ]
     },
     "execution_count": 12,
     "metadata": {},
     "output_type": "execute_result"
    }
   ],
   "source": [
    "df1.dtypes"
   ]
  },
  {
   "cell_type": "code",
   "execution_count": 13,
   "id": "a9389de3",
   "metadata": {},
   "outputs": [
    {
     "data": {
      "text/html": [
       "<div>\n",
       "<style scoped>\n",
       "    .dataframe tbody tr th:only-of-type {\n",
       "        vertical-align: middle;\n",
       "    }\n",
       "\n",
       "    .dataframe tbody tr th {\n",
       "        vertical-align: top;\n",
       "    }\n",
       "\n",
       "    .dataframe thead th {\n",
       "        text-align: right;\n",
       "    }\n",
       "</style>\n",
       "<table border=\"1\" class=\"dataframe\">\n",
       "  <thead>\n",
       "    <tr style=\"text-align: right;\">\n",
       "      <th></th>\n",
       "      <th>Order Date</th>\n",
       "      <th>Sales</th>\n",
       "    </tr>\n",
       "  </thead>\n",
       "  <tbody>\n",
       "    <tr>\n",
       "      <th>49</th>\n",
       "      <td>2014-01-06</td>\n",
       "      <td>2573.8200</td>\n",
       "    </tr>\n",
       "    <tr>\n",
       "      <th>50</th>\n",
       "      <td>2014-01-07</td>\n",
       "      <td>76.7280</td>\n",
       "    </tr>\n",
       "    <tr>\n",
       "      <th>1</th>\n",
       "      <td>2014-01-10</td>\n",
       "      <td>51.9400</td>\n",
       "    </tr>\n",
       "    <tr>\n",
       "      <th>4</th>\n",
       "      <td>2014-01-11</td>\n",
       "      <td>9.9400</td>\n",
       "    </tr>\n",
       "    <tr>\n",
       "      <th>7</th>\n",
       "      <td>2014-01-13</td>\n",
       "      <td>439.9695</td>\n",
       "    </tr>\n",
       "  </tbody>\n",
       "</table>\n",
       "</div>"
      ],
      "text/plain": [
       "   Order Date      Sales\n",
       "49 2014-01-06  2573.8200\n",
       "50 2014-01-07    76.7280\n",
       "1  2014-01-10    51.9400\n",
       "4  2014-01-11     9.9400\n",
       "7  2014-01-13   439.9695"
      ]
     },
     "execution_count": 13,
     "metadata": {},
     "output_type": "execute_result"
    }
   ],
   "source": [
    "df1['Order Date'] = pd.to_datetime(df1['Order Date'])\n",
    "df1.sort_values('Order Date',inplace=True)\n",
    "df1.head()"
   ]
  },
  {
   "cell_type": "code",
   "execution_count": 14,
   "id": "80400442",
   "metadata": {},
   "outputs": [
    {
     "data": {
      "text/html": [
       "<div>\n",
       "<style scoped>\n",
       "    .dataframe tbody tr th:only-of-type {\n",
       "        vertical-align: middle;\n",
       "    }\n",
       "\n",
       "    .dataframe tbody tr th {\n",
       "        vertical-align: top;\n",
       "    }\n",
       "\n",
       "    .dataframe thead th {\n",
       "        text-align: right;\n",
       "    }\n",
       "</style>\n",
       "<table border=\"1\" class=\"dataframe\">\n",
       "  <thead>\n",
       "    <tr style=\"text-align: right;\">\n",
       "      <th></th>\n",
       "      <th>Sales</th>\n",
       "    </tr>\n",
       "    <tr>\n",
       "      <th>Order Date</th>\n",
       "      <th></th>\n",
       "    </tr>\n",
       "  </thead>\n",
       "  <tbody>\n",
       "    <tr>\n",
       "      <th>2014-01-06</th>\n",
       "      <td>2573.8200</td>\n",
       "    </tr>\n",
       "    <tr>\n",
       "      <th>2014-01-07</th>\n",
       "      <td>76.7280</td>\n",
       "    </tr>\n",
       "    <tr>\n",
       "      <th>2014-01-10</th>\n",
       "      <td>51.9400</td>\n",
       "    </tr>\n",
       "    <tr>\n",
       "      <th>2014-01-11</th>\n",
       "      <td>9.9400</td>\n",
       "    </tr>\n",
       "    <tr>\n",
       "      <th>2014-01-13</th>\n",
       "      <td>439.9695</td>\n",
       "    </tr>\n",
       "  </tbody>\n",
       "</table>\n",
       "</div>"
      ],
      "text/plain": [
       "                Sales\n",
       "Order Date           \n",
       "2014-01-06  2573.8200\n",
       "2014-01-07    76.7280\n",
       "2014-01-10    51.9400\n",
       "2014-01-11     9.9400\n",
       "2014-01-13   439.9695"
      ]
     },
     "execution_count": 14,
     "metadata": {},
     "output_type": "execute_result"
    }
   ],
   "source": [
    "df1.set_index('Order Date',inplace=True)\n",
    "df1.head()"
   ]
  },
  {
   "cell_type": "code",
   "execution_count": 15,
   "id": "085b58f7",
   "metadata": {},
   "outputs": [
    {
     "data": {
      "text/html": [
       "<div>\n",
       "<style scoped>\n",
       "    .dataframe tbody tr th:only-of-type {\n",
       "        vertical-align: middle;\n",
       "    }\n",
       "\n",
       "    .dataframe tbody tr th {\n",
       "        vertical-align: top;\n",
       "    }\n",
       "\n",
       "    .dataframe thead th {\n",
       "        text-align: right;\n",
       "    }\n",
       "</style>\n",
       "<table border=\"1\" class=\"dataframe\">\n",
       "  <thead>\n",
       "    <tr style=\"text-align: right;\">\n",
       "      <th></th>\n",
       "      <th>Sales</th>\n",
       "    </tr>\n",
       "    <tr>\n",
       "      <th>Order Date</th>\n",
       "      <th></th>\n",
       "    </tr>\n",
       "  </thead>\n",
       "  <tbody>\n",
       "    <tr>\n",
       "      <th>2014-01-06</th>\n",
       "      <td>2573.820000</td>\n",
       "    </tr>\n",
       "    <tr>\n",
       "      <th>2014-01-07</th>\n",
       "      <td>76.728000</td>\n",
       "    </tr>\n",
       "    <tr>\n",
       "      <th>2014-01-10</th>\n",
       "      <td>51.940000</td>\n",
       "    </tr>\n",
       "    <tr>\n",
       "      <th>2014-01-11</th>\n",
       "      <td>9.940000</td>\n",
       "    </tr>\n",
       "    <tr>\n",
       "      <th>2014-01-13</th>\n",
       "      <td>439.969500</td>\n",
       "    </tr>\n",
       "    <tr>\n",
       "      <th>2014-01-14</th>\n",
       "      <td>61.960000</td>\n",
       "    </tr>\n",
       "    <tr>\n",
       "      <th>2014-01-16</th>\n",
       "      <td>127.104000</td>\n",
       "    </tr>\n",
       "    <tr>\n",
       "      <th>2014-01-19</th>\n",
       "      <td>181.470000</td>\n",
       "    </tr>\n",
       "    <tr>\n",
       "      <th>2014-01-20</th>\n",
       "      <td>282.702000</td>\n",
       "    </tr>\n",
       "    <tr>\n",
       "      <th>2014-01-21</th>\n",
       "      <td>25.248000</td>\n",
       "    </tr>\n",
       "    <tr>\n",
       "      <th>2014-01-26</th>\n",
       "      <td>72.400000</td>\n",
       "    </tr>\n",
       "    <tr>\n",
       "      <th>2014-01-27</th>\n",
       "      <td>333.000000</td>\n",
       "    </tr>\n",
       "    <tr>\n",
       "      <th>2014-01-31</th>\n",
       "      <td>290.666000</td>\n",
       "    </tr>\n",
       "    <tr>\n",
       "      <th>2014-02-08</th>\n",
       "      <td>14.560000</td>\n",
       "    </tr>\n",
       "    <tr>\n",
       "      <th>2014-02-11</th>\n",
       "      <td>550.016667</td>\n",
       "    </tr>\n",
       "    <tr>\n",
       "      <th>2014-02-12</th>\n",
       "      <td>129.568000</td>\n",
       "    </tr>\n",
       "    <tr>\n",
       "      <th>2014-02-18</th>\n",
       "      <td>25.160000</td>\n",
       "    </tr>\n",
       "    <tr>\n",
       "      <th>2014-02-20</th>\n",
       "      <td>20.320000</td>\n",
       "    </tr>\n",
       "    <tr>\n",
       "      <th>2014-03-01</th>\n",
       "      <td>378.799000</td>\n",
       "    </tr>\n",
       "    <tr>\n",
       "      <th>2014-03-03</th>\n",
       "      <td>464.401000</td>\n",
       "    </tr>\n",
       "  </tbody>\n",
       "</table>\n",
       "</div>"
      ],
      "text/plain": [
       "                  Sales\n",
       "Order Date             \n",
       "2014-01-06  2573.820000\n",
       "2014-01-07    76.728000\n",
       "2014-01-10    51.940000\n",
       "2014-01-11     9.940000\n",
       "2014-01-13   439.969500\n",
       "2014-01-14    61.960000\n",
       "2014-01-16   127.104000\n",
       "2014-01-19   181.470000\n",
       "2014-01-20   282.702000\n",
       "2014-01-21    25.248000\n",
       "2014-01-26    72.400000\n",
       "2014-01-27   333.000000\n",
       "2014-01-31   290.666000\n",
       "2014-02-08    14.560000\n",
       "2014-02-11   550.016667\n",
       "2014-02-12   129.568000\n",
       "2014-02-18    25.160000\n",
       "2014-02-20    20.320000\n",
       "2014-03-01   378.799000\n",
       "2014-03-03   464.401000"
      ]
     },
     "execution_count": 15,
     "metadata": {},
     "output_type": "execute_result"
    }
   ],
   "source": [
    "df1.head(20)"
   ]
  },
  {
   "cell_type": "code",
   "execution_count": 16,
   "id": "5af8febe",
   "metadata": {},
   "outputs": [],
   "source": [
    "df2 = df1.copy()"
   ]
  },
  {
   "cell_type": "code",
   "execution_count": 17,
   "id": "4aa3bc35",
   "metadata": {},
   "outputs": [
    {
     "data": {
      "text/html": [
       "<div>\n",
       "<style scoped>\n",
       "    .dataframe tbody tr th:only-of-type {\n",
       "        vertical-align: middle;\n",
       "    }\n",
       "\n",
       "    .dataframe tbody tr th {\n",
       "        vertical-align: top;\n",
       "    }\n",
       "\n",
       "    .dataframe thead th {\n",
       "        text-align: right;\n",
       "    }\n",
       "</style>\n",
       "<table border=\"1\" class=\"dataframe\">\n",
       "  <thead>\n",
       "    <tr style=\"text-align: right;\">\n",
       "      <th></th>\n",
       "      <th>Sales</th>\n",
       "    </tr>\n",
       "    <tr>\n",
       "      <th>Order Date</th>\n",
       "      <th></th>\n",
       "    </tr>\n",
       "  </thead>\n",
       "  <tbody>\n",
       "    <tr>\n",
       "      <th>2014-01-06</th>\n",
       "      <td>2573.8200</td>\n",
       "    </tr>\n",
       "    <tr>\n",
       "      <th>2014-01-07</th>\n",
       "      <td>76.7280</td>\n",
       "    </tr>\n",
       "    <tr>\n",
       "      <th>2014-01-10</th>\n",
       "      <td>51.9400</td>\n",
       "    </tr>\n",
       "    <tr>\n",
       "      <th>2014-01-11</th>\n",
       "      <td>9.9400</td>\n",
       "    </tr>\n",
       "    <tr>\n",
       "      <th>2014-01-13</th>\n",
       "      <td>439.9695</td>\n",
       "    </tr>\n",
       "  </tbody>\n",
       "</table>\n",
       "</div>"
      ],
      "text/plain": [
       "                Sales\n",
       "Order Date           \n",
       "2014-01-06  2573.8200\n",
       "2014-01-07    76.7280\n",
       "2014-01-10    51.9400\n",
       "2014-01-11     9.9400\n",
       "2014-01-13   439.9695"
      ]
     },
     "execution_count": 17,
     "metadata": {},
     "output_type": "execute_result"
    }
   ],
   "source": [
    "df1.head()"
   ]
  },
  {
   "cell_type": "code",
   "execution_count": 18,
   "id": "a461dd2e",
   "metadata": {},
   "outputs": [
    {
     "data": {
      "text/plain": [
       "Order Date\n",
       "2014-01-01     4526.947500\n",
       "2014-02-01      739.624667\n",
       "2014-03-01     7613.739500\n",
       "2014-04-01     3743.443333\n",
       "2014-05-01     4390.429833\n",
       "2014-06-01     7804.209600\n",
       "2014-07-01     5893.565600\n",
       "2014-08-01     3977.143833\n",
       "2014-09-01     8573.639967\n",
       "2014-10-01     6413.311750\n",
       "2014-11-01     7209.694250\n",
       "2014-12-01     8653.071493\n",
       "2015-01-01     9824.892600\n",
       "2015-02-01     1789.218667\n",
       "2015-03-01     8392.004883\n",
       "2015-04-01     4598.329217\n",
       "2015-05-01     3672.571875\n",
       "2015-06-01     5429.513667\n",
       "2015-07-01     7260.098667\n",
       "2015-08-01     5252.319200\n",
       "2015-09-01     5829.524360\n",
       "2015-10-01     5831.375833\n",
       "2015-11-01     9307.929293\n",
       "2015-12-01     7772.598340\n",
       "2016-01-01     5683.541667\n",
       "2016-02-01     2250.345167\n",
       "2016-03-01     7512.678917\n",
       "2016-04-01     8650.480100\n",
       "2016-05-01     6403.183167\n",
       "2016-06-01     6435.529633\n",
       "2016-07-01     5252.366833\n",
       "2016-08-01     5401.181633\n",
       "2016-09-01     9514.026733\n",
       "2016-10-01     4029.486267\n",
       "2016-11-01     9443.653060\n",
       "2016-12-01    12909.263754\n",
       "2017-01-01     3803.047417\n",
       "2017-02-01     2956.048413\n",
       "2017-03-01     4709.415067\n",
       "2017-04-01     4732.895833\n",
       "2017-05-01     7596.854200\n",
       "2017-06-01    10214.680383\n",
       "2017-07-01     4990.703767\n",
       "2017-08-01     6466.998929\n",
       "2017-09-01     7588.194140\n",
       "2017-10-01     7638.449984\n",
       "2017-11-01    12020.100939\n",
       "2017-12-01     6303.614143\n",
       "Freq: MS, Name: Sales, dtype: float64"
      ]
     },
     "execution_count": 18,
     "metadata": {},
     "output_type": "execute_result"
    }
   ],
   "source": [
    "df3 = df2['Sales'].resample('MS').sum()\n",
    "df3"
   ]
  },
  {
   "cell_type": "code",
   "execution_count": 19,
   "id": "e59dfc9a",
   "metadata": {},
   "outputs": [
    {
     "data": {
      "text/plain": [
       "Order Date\n",
       "2014-01-01    348.226731\n",
       "2014-02-01    147.924933\n",
       "2014-03-01    447.867029\n",
       "2014-04-01    267.388810\n",
       "2014-05-01    274.401865\n",
       "2014-06-01    410.747874\n",
       "2014-07-01    327.420311\n",
       "2014-08-01    248.571490\n",
       "2014-09-01    357.234999\n",
       "2014-10-01    400.831984\n",
       "2014-11-01    327.713375\n",
       "2014-12-01    432.653575\n",
       "2015-01-01    818.741050\n",
       "2015-02-01    298.203111\n",
       "2015-03-01    524.500305\n",
       "2015-04-01    353.717632\n",
       "2015-05-01    244.838125\n",
       "2015-06-01    301.639648\n",
       "2015-07-01    382.110456\n",
       "2015-08-01    328.269950\n",
       "2015-09-01    306.817072\n",
       "2015-10-01    306.914518\n",
       "2015-11-01    387.830387\n",
       "2015-12-01    353.299925\n",
       "2016-01-01    378.902778\n",
       "2016-02-01    204.576833\n",
       "2016-03-01    357.746615\n",
       "2016-04-01    455.288426\n",
       "2016-05-01    291.053780\n",
       "2016-06-01    402.220602\n",
       "2016-07-01    308.962755\n",
       "2016-08-01    317.716567\n",
       "2016-09-01    396.417781\n",
       "2016-10-01    212.078225\n",
       "2016-11-01    377.746122\n",
       "2016-12-01    496.510144\n",
       "2017-01-01    253.536494\n",
       "2017-02-01    227.388339\n",
       "2017-03-01    235.470753\n",
       "2017-04-01    236.644792\n",
       "2017-05-01    303.874168\n",
       "2017-06-01    444.116538\n",
       "2017-07-01    237.652560\n",
       "2017-08-01    359.277718\n",
       "2017-09-01    316.174756\n",
       "2017-10-01    305.537999\n",
       "2017-11-01    414.486239\n",
       "2017-12-01    252.144566\n",
       "Freq: MS, Name: Sales, dtype: float64"
      ]
     },
     "execution_count": 19,
     "metadata": {},
     "output_type": "execute_result"
    }
   ],
   "source": [
    "df4 = df2['Sales'].resample('MS').mean()\n",
    "df4"
   ]
  },
  {
   "cell_type": "markdown",
   "id": "df99946f",
   "metadata": {},
   "source": [
    "### Checking if Data is Stationary"
   ]
  },
  {
   "cell_type": "markdown",
   "id": "75e1ea72",
   "metadata": {},
   "source": [
    "#### KPSS Test"
   ]
  },
  {
   "cell_type": "code",
   "execution_count": 20,
   "id": "6f56a18b",
   "metadata": {},
   "outputs": [],
   "source": [
    "def kpss_test(data):\n",
    "    res = kpss(data)\n",
    "    print('KPSS-Test_Stat',res[0])\n",
    "    print('p-val',res[1])\n",
    "    if res[1]< 0.05:\n",
    "        print('Ho accepted - Data is non-stationary')\n",
    "    else:\n",
    "        print('H1 accepted - Data is stationary')"
   ]
  },
  {
   "cell_type": "code",
   "execution_count": 21,
   "id": "f7dd8bb5",
   "metadata": {},
   "outputs": [
    {
     "name": "stdout",
     "output_type": "stream",
     "text": [
      "KPSS-Test_Stat 0.4690690165273382\n",
      "p-val 0.04863310438573465\n",
      "Ho accepted - Data is non-stationary\n"
     ]
    }
   ],
   "source": [
    "kpss_test(df3)"
   ]
  },
  {
   "cell_type": "code",
   "execution_count": 22,
   "id": "cda6a11e",
   "metadata": {},
   "outputs": [
    {
     "name": "stdout",
     "output_type": "stream",
     "text": [
      "KPSS-Test_Stat 0.19013785366685576\n",
      "p-val 0.1\n",
      "H1 accepted - Data is stationary\n"
     ]
    }
   ],
   "source": [
    "kpss_test(df4)"
   ]
  },
  {
   "cell_type": "markdown",
   "id": "f7fd252a",
   "metadata": {},
   "source": [
    "#### ADF Test"
   ]
  },
  {
   "cell_type": "code",
   "execution_count": 23,
   "id": "8e3b4b1b",
   "metadata": {},
   "outputs": [],
   "source": [
    "def adf_test(data):\n",
    "    res = adfuller(data)\n",
    "#     print('res',res)\n",
    "    print('ADF-Test_Stat',res[0])\n",
    "    print('p-val',res[1])\n",
    "    if res[1]> 0.05:\n",
    "        print('Ho accepted - Data is non-stationary')\n",
    "    else:\n",
    "        print('H1 accepted - Data is stationary')"
   ]
  },
  {
   "cell_type": "code",
   "execution_count": 24,
   "id": "b2514f7b",
   "metadata": {},
   "outputs": [
    {
     "name": "stdout",
     "output_type": "stream",
     "text": [
      "ADF-Test_Stat -5.884858543508163\n",
      "p-val 3.0182932845617726e-07\n",
      "H1 accepted - Data is stationary\n"
     ]
    }
   ],
   "source": [
    "adf_test(df3)"
   ]
  },
  {
   "cell_type": "code",
   "execution_count": 25,
   "id": "405d379e",
   "metadata": {},
   "outputs": [
    {
     "name": "stdout",
     "output_type": "stream",
     "text": [
      "ADF-Test_Stat -7.150160517798492\n",
      "p-val 3.1563843600195753e-10\n",
      "H1 accepted - Data is stationary\n"
     ]
    }
   ],
   "source": [
    "adf_test(df4)"
   ]
  },
  {
   "cell_type": "markdown",
   "id": "b79f0483",
   "metadata": {},
   "source": [
    "### Inference\n",
    "- Data is Stationary using both tests for df4"
   ]
  },
  {
   "cell_type": "code",
   "execution_count": 26,
   "id": "28f2fcf6",
   "metadata": {},
   "outputs": [
    {
     "name": "stdout",
     "output_type": "stream",
     "text": [
      "2014-01-01 00:00:00\n",
      "2017-12-01 00:00:00\n"
     ]
    }
   ],
   "source": [
    "print(df4.index.min())\n",
    "print(df4.index.max())"
   ]
  },
  {
   "cell_type": "code",
   "execution_count": 27,
   "id": "81fee8b3",
   "metadata": {},
   "outputs": [
    {
     "data": {
      "image/png": "[encoded data removed]",
      "text/plain": [
       "<Figure size 432x288 with 1 Axes>"
      ]
     },
     "metadata": {
      "needs_background": "light"
     },
     "output_type": "display_data"
    }
   ],
   "source": [
    "df4.plot()\n",
    "plt.show()"
   ]
  },
  {
   "cell_type": "code",
   "execution_count": 28,
   "id": "e14c7080",
   "metadata": {},
   "outputs": [
    {
     "data": {
      "image/png": "[encoded data removed]",
      "text/plain": [
       "<Figure size 432x288 with 4 Axes>"
      ]
     },
     "metadata": {
      "needs_background": "light"
     },
     "output_type": "display_data"
    }
   ],
   "source": [
    "from statsmodels.tsa.seasonal import seasonal_decompose\n",
    "result = seasonal_decompose(df4, model='additive')\n",
    "result.plot()\n",
    "plt.show()"
   ]
  },
  {
   "cell_type": "code",
   "execution_count": 29,
   "id": "ae217200",
   "metadata": {},
   "outputs": [
    {
     "data": {
      "text/plain": [
       "(48,)"
      ]
     },
     "execution_count": 29,
     "metadata": {},
     "output_type": "execute_result"
    }
   ],
   "source": [
    "df4.shape"
   ]
  },
  {
   "cell_type": "code",
   "execution_count": 30,
   "id": "199d4fcb",
   "metadata": {},
   "outputs": [
    {
     "data": {
      "text/plain": [
       "Order Date\n",
       "2014-01-01    348.226731\n",
       "2014-02-01    147.924933\n",
       "2014-03-01    447.867029\n",
       "2014-04-01    267.388810\n",
       "2014-05-01    274.401865\n",
       "Freq: MS, Name: Sales, dtype: float64"
      ]
     },
     "execution_count": 30,
     "metadata": {},
     "output_type": "execute_result"
    }
   ],
   "source": [
    "df4.head()"
   ]
  },
  {
   "cell_type": "markdown",
   "id": "75bf3fff",
   "metadata": {},
   "source": [
    "### AutoCorrelation (ACF) and Partial Autorrelation (PACF)"
   ]
  },
  {
   "cell_type": "code",
   "execution_count": 31,
   "id": "4df594b3",
   "metadata": {},
   "outputs": [],
   "source": [
    "from statsmodels.graphics.tsaplots import plot_acf,plot_pacf"
   ]
  },
  {
   "cell_type": "code",
   "execution_count": 32,
   "id": "514d1288",
   "metadata": {},
   "outputs": [
    {
     "data": {
      "image/png": "[encoded data removed]",
      "text/plain": [
       "<Figure size 432x288 with 1 Axes>"
      ]
     },
     "metadata": {
      "needs_background": "light"
     },
     "output_type": "display_data"
    }
   ],
   "source": [
    "plot_acf(df4)\n",
    "plt.show()\n",
    "# q = 1"
   ]
  },
  {
   "cell_type": "code",
   "execution_count": 33,
   "id": "deb7b91f",
   "metadata": {},
   "outputs": [
    {
     "data": {
      "image/png": "[encoded data removed]",
      "text/plain": [
       "<Figure size 432x288 with 1 Axes>"
      ]
     },
     "metadata": {
      "needs_background": "light"
     },
     "output_type": "display_data"
    }
   ],
   "source": [
    "plot_pacf(df4)\n",
    "plt.show()\n",
    "# p = 1"
   ]
  },
  {
   "cell_type": "markdown",
   "id": "b4de97a6",
   "metadata": {},
   "source": [
    "### Inference\n",
    "Best case scenario -> (p,d,q) = (1,0,1) "
   ]
  },
  {
   "cell_type": "markdown",
   "id": "1a258184",
   "metadata": {},
   "source": [
    "### Data Split"
   ]
  },
  {
   "cell_type": "code",
   "execution_count": 34,
   "id": "fd197cc6",
   "metadata": {},
   "outputs": [
    {
     "name": "stdout",
     "output_type": "stream",
     "text": [
      "Train_tail Order Date\n",
      "2017-02-01    227.388339\n",
      "2017-03-01    235.470753\n",
      "2017-04-01    236.644792\n",
      "2017-05-01    303.874168\n",
      "2017-06-01    444.116538\n",
      "Freq: MS, Name: Sales, dtype: float64\n",
      "Test_tail Order Date\n",
      "2017-07-01    237.652560\n",
      "2017-08-01    359.277718\n",
      "2017-09-01    316.174756\n",
      "2017-10-01    305.537999\n",
      "2017-11-01    414.486239\n",
      "2017-12-01    252.144566\n",
      "Freq: MS, Name: Sales, dtype: float64\n"
     ]
    }
   ],
   "source": [
    "train = df4[:42]\n",
    "test = df4[42:]\n",
    "print('Train_tail',train.tail())\n",
    "print('Test_tail',test.head(6))"
   ]
  },
  {
   "cell_type": "code",
   "execution_count": 35,
   "id": "e948928a",
   "metadata": {},
   "outputs": [
    {
     "name": "stdout",
     "output_type": "stream",
     "text": [
      "(42,)\n",
      "(6,)\n"
     ]
    }
   ],
   "source": [
    "print(train.shape)\n",
    "print(test.shape)"
   ]
  },
  {
   "cell_type": "code",
   "execution_count": 36,
   "id": "cbc3dffb",
   "metadata": {},
   "outputs": [
    {
     "data": {
      "image/png": "[encoded data removed]",
      "text/plain": [
       "<Figure size 576x504 with 1 Axes>"
      ]
     },
     "metadata": {
      "needs_background": "light"
     },
     "output_type": "display_data"
    }
   ],
   "source": [
    "plt.figure(figsize=(8,7))\n",
    "plt.plot(train,label='Train')\n",
    "plt.plot(test,label='Test')\n",
    "plt.grid()\n",
    "plt.legend()\n",
    "plt.show()"
   ]
  },
  {
   "cell_type": "code",
   "execution_count": 37,
   "id": "f8b77418",
   "metadata": {},
   "outputs": [],
   "source": [
    "from sklearn.metrics import mean_squared_error, mean_absolute_error, mean_absolute_percentage_error"
   ]
  },
  {
   "cell_type": "code",
   "execution_count": 38,
   "id": "d3f25ef7",
   "metadata": {},
   "outputs": [],
   "source": [
    "def test_metrics(test,pred):\n",
    "    mse = mean_squared_error(test,pred)\n",
    "    rmse = mean_squared_error(test,pred,squared=False)\n",
    "#     mae = mean_squared_error(test,pred)\n",
    "    mape = mean_absolute_percentage_error(test,pred)\n",
    "    return mse,rmse,mape"
   ]
  },
  {
   "cell_type": "markdown",
   "id": "15046b15",
   "metadata": {},
   "source": [
    "## Model Building"
   ]
  },
  {
   "cell_type": "markdown",
   "id": "e095ffbd",
   "metadata": {},
   "source": [
    "### AR Model (1,0,0)"
   ]
  },
  {
   "cell_type": "code",
   "execution_count": 39,
   "id": "f8fbf38f",
   "metadata": {},
   "outputs": [
    {
     "name": "stdout",
     "output_type": "stream",
     "text": [
      "                               SARIMAX Results                                \n",
      "==============================================================================\n",
      "Dep. Variable:                  Sales   No. Observations:                   42\n",
      "Model:                 ARIMA(1, 0, 0)   Log Likelihood                -256.908\n",
      "Date:                Tue, 02 Aug 2022   AIC                            519.815\n",
      "Time:                        21:31:28   BIC                            525.028\n",
      "Sample:                    01-01-2014   HQIC                           521.726\n",
      "                         - 06-01-2017                                         \n",
      "Covariance Type:                  opg                                         \n",
      "==============================================================================\n",
      "                 coef    std err          z      P>|z|      [0.025      0.975]\n",
      "------------------------------------------------------------------------------\n",
      "const        345.1518     21.365     16.155      0.000     303.277     387.027\n",
      "ar.L1         -0.0324      0.296     -0.109      0.913      -0.613       0.548\n",
      "sigma2      1.204e+04   2208.548      5.450      0.000    7708.701    1.64e+04\n",
      "===================================================================================\n",
      "Ljung-Box (L1) (Q):                   0.00   Jarque-Bera (JB):                92.46\n",
      "Prob(Q):                              1.00   Prob(JB):                         0.00\n",
      "Heteroskedasticity (H):               0.35   Skew:                             1.82\n",
      "Prob(H) (two-sided):                  0.06   Kurtosis:                         9.29\n",
      "===================================================================================\n",
      "\n",
      "Warnings:\n",
      "[1] Covariance matrix calculated using the outer product of gradients (complex-step).\n"
     ]
    }
   ],
   "source": [
    "m1 = ARIMA(train,order=(1,0,0))\n",
    "ar_m1 = m1.fit()\n",
    "print(ar_m1.summary())"
   ]
  },
  {
   "cell_type": "code",
   "execution_count": 40,
   "id": "64dfc9fd",
   "metadata": {},
   "outputs": [
    {
     "data": {
      "text/plain": [
       "2017-07-01    341.943850\n",
       "2017-08-01    345.255763\n",
       "2017-09-01    345.148408\n",
       "2017-10-01    345.151888\n",
       "2017-11-01    345.151775\n",
       "2017-12-01    345.151779\n",
       "Freq: MS, Name: predicted_mean, dtype: float64"
      ]
     },
     "execution_count": 40,
     "metadata": {},
     "output_type": "execute_result"
    }
   ],
   "source": [
    "fcast_m1 = ar_m1.forecast(6)\n",
    "fcast_m1"
   ]
  },
  {
   "cell_type": "code",
   "execution_count": 41,
   "id": "18eea24a",
   "metadata": {},
   "outputs": [
    {
     "data": {
      "text/plain": [
       "Order Date\n",
       "2017-07-01    237.652560\n",
       "2017-08-01    359.277718\n",
       "2017-09-01    316.174756\n",
       "2017-10-01    305.537999\n",
       "2017-11-01    414.486239\n",
       "2017-12-01    252.144566\n",
       "Freq: MS, Name: Sales, dtype: float64"
      ]
     },
     "execution_count": 41,
     "metadata": {},
     "output_type": "execute_result"
    }
   ],
   "source": [
    "test"
   ]
  },
  {
   "cell_type": "code",
   "execution_count": 42,
   "id": "6c3fd83c",
   "metadata": {},
   "outputs": [
    {
     "data": {
      "image/png": "[encoded data removed]",
      "text/plain": [
       "<Figure size 576x504 with 1 Axes>"
      ]
     },
     "metadata": {
      "needs_background": "light"
     },
     "output_type": "display_data"
    }
   ],
   "source": [
    "plt.figure(figsize=(8,7))\n",
    "plt.plot(train,label='Train')\n",
    "plt.plot(test,label='Test')\n",
    "plt.plot(fcast_m1,label='Fcast')\n",
    "plt.title('AR Model')\n",
    "plt.grid()\n",
    "plt.legend()\n",
    "plt.show()"
   ]
  },
  {
   "cell_type": "code",
   "execution_count": 43,
   "id": "95fa5840",
   "metadata": {},
   "outputs": [
    {
     "name": "stdout",
     "output_type": "stream",
     "text": [
      "AIC 519.8151070963663\n"
     ]
    }
   ],
   "source": [
    "aic_m1 = ar_m1.aic\n",
    "print('AIC',aic_m1)"
   ]
  },
  {
   "cell_type": "code",
   "execution_count": 44,
   "id": "8e8263d2",
   "metadata": {},
   "outputs": [],
   "source": [
    "mse_m1,rmse_m1,mape_m1  = test_metrics(test,fcast_m1)"
   ]
  },
  {
   "cell_type": "code",
   "execution_count": 45,
   "id": "bc53a08f",
   "metadata": {},
   "outputs": [
    {
     "data": {
      "text/html": [
       "<div>\n",
       "<style scoped>\n",
       "    .dataframe tbody tr th:only-of-type {\n",
       "        vertical-align: middle;\n",
       "    }\n",
       "\n",
       "    .dataframe tbody tr th {\n",
       "        vertical-align: top;\n",
       "    }\n",
       "\n",
       "    .dataframe thead th {\n",
       "        text-align: right;\n",
       "    }\n",
       "</style>\n",
       "<table border=\"1\" class=\"dataframe\">\n",
       "  <thead>\n",
       "    <tr style=\"text-align: right;\">\n",
       "      <th></th>\n",
       "      <th>Model</th>\n",
       "      <th>MSE</th>\n",
       "      <th>RMSE</th>\n",
       "      <th>MAPE</th>\n",
       "      <th>AIC</th>\n",
       "    </tr>\n",
       "  </thead>\n",
       "  <tbody>\n",
       "    <tr>\n",
       "      <th>0</th>\n",
       "      <td>AR (1,0,0)</td>\n",
       "      <td>4489.938428</td>\n",
       "      <td>67.007003</td>\n",
       "      <td>0.205884</td>\n",
       "      <td>519.815107</td>\n",
       "    </tr>\n",
       "  </tbody>\n",
       "</table>\n",
       "</div>"
      ],
      "text/plain": [
       "        Model          MSE       RMSE      MAPE         AIC\n",
       "0  AR (1,0,0)  4489.938428  67.007003  0.205884  519.815107"
      ]
     },
     "execution_count": 45,
     "metadata": {},
     "output_type": "execute_result"
    }
   ],
   "source": [
    "m1_res = pd.DataFrame({'Model':'AR (1,0,0)','MSE':mse_m1,'RMSE':rmse_m1,\n",
    "                       'MAPE':mape_m1,'AIC':aic_m1},index=[0])\n",
    "m1_res"
   ]
  },
  {
   "cell_type": "markdown",
   "id": "ba2b010a",
   "metadata": {},
   "source": [
    "### MA Model (0,0,1)"
   ]
  },
  {
   "cell_type": "code",
   "execution_count": 46,
   "id": "571f7c64",
   "metadata": {},
   "outputs": [
    {
     "name": "stdout",
     "output_type": "stream",
     "text": [
      "                               SARIMAX Results                                \n",
      "==============================================================================\n",
      "Dep. Variable:                  Sales   No. Observations:                   42\n",
      "Model:                 ARIMA(0, 0, 1)   Log Likelihood                -256.909\n",
      "Date:                Tue, 02 Aug 2022   AIC                            519.818\n",
      "Time:                        21:31:28   BIC                            525.031\n",
      "Sample:                    01-01-2014   HQIC                           521.729\n",
      "                         - 06-01-2017                                         \n",
      "Covariance Type:                  opg                                         \n",
      "==============================================================================\n",
      "                 coef    std err          z      P>|z|      [0.025      0.975]\n",
      "------------------------------------------------------------------------------\n",
      "const        345.1554     21.346     16.169      0.000     303.317     386.994\n",
      "ma.L1         -0.0301      0.302     -0.100      0.921      -0.623       0.562\n",
      "sigma2      1.204e+04   2216.058      5.433      0.000    7695.395    1.64e+04\n",
      "===================================================================================\n",
      "Ljung-Box (L1) (Q):                   0.00   Jarque-Bera (JB):                92.08\n",
      "Prob(Q):                              0.99   Prob(JB):                         0.00\n",
      "Heteroskedasticity (H):               0.35   Skew:                             1.82\n",
      "Prob(H) (two-sided):                  0.06   Kurtosis:                         9.28\n",
      "===================================================================================\n",
      "\n",
      "Warnings:\n",
      "[1] Covariance matrix calculated using the outer product of gradients (complex-step).\n"
     ]
    }
   ],
   "source": [
    "m2 = ARIMA(train,order=(0,0,1))\n",
    "ar_m2 = m2.fit()\n",
    "print(ar_m2.summary())"
   ]
  },
  {
   "cell_type": "code",
   "execution_count": 47,
   "id": "c296fad7",
   "metadata": {},
   "outputs": [
    {
     "data": {
      "text/plain": [
       "2017-07-01    342.216146\n",
       "2017-08-01    345.155444\n",
       "2017-09-01    345.155444\n",
       "2017-10-01    345.155444\n",
       "2017-11-01    345.155444\n",
       "2017-12-01    345.155444\n",
       "Freq: MS, Name: predicted_mean, dtype: float64"
      ]
     },
     "execution_count": 47,
     "metadata": {},
     "output_type": "execute_result"
    }
   ],
   "source": [
    "fcast_m2 = ar_m2.forecast(6)\n",
    "fcast_m2"
   ]
  },
  {
   "cell_type": "code",
   "execution_count": 48,
   "id": "89248014",
   "metadata": {},
   "outputs": [
    {
     "data": {
      "image/png": "[encoded data removed]",
      "text/plain": [
       "<Figure size 576x504 with 1 Axes>"
      ]
     },
     "metadata": {
      "needs_background": "light"
     },
     "output_type": "display_data"
    }
   ],
   "source": [
    "plt.figure(figsize=(8,7))\n",
    "plt.plot(train,label='Train')\n",
    "plt.plot(test,label='Test')\n",
    "plt.plot(fcast_m2,label='Fcast')\n",
    "plt.title('MA Model')\n",
    "plt.grid()\n",
    "plt.legend()\n",
    "plt.show()"
   ]
  },
  {
   "cell_type": "code",
   "execution_count": 49,
   "id": "a37ac6ea",
   "metadata": {},
   "outputs": [
    {
     "name": "stdout",
     "output_type": "stream",
     "text": [
      "AIC 519.8180778291622\n"
     ]
    }
   ],
   "source": [
    "aic_m2 = ar_m2.aic\n",
    "print('AIC',aic_m2)"
   ]
  },
  {
   "cell_type": "code",
   "execution_count": 50,
   "id": "acd677e4",
   "metadata": {},
   "outputs": [],
   "source": [
    "mse_m2,rmse_m2,mape_m2  = test_metrics(test,fcast_m2)"
   ]
  },
  {
   "cell_type": "code",
   "execution_count": 51,
   "id": "2ea0015b",
   "metadata": {},
   "outputs": [
    {
     "data": {
      "text/html": [
       "<div>\n",
       "<style scoped>\n",
       "    .dataframe tbody tr th:only-of-type {\n",
       "        vertical-align: middle;\n",
       "    }\n",
       "\n",
       "    .dataframe tbody tr th {\n",
       "        vertical-align: top;\n",
       "    }\n",
       "\n",
       "    .dataframe thead th {\n",
       "        text-align: right;\n",
       "    }\n",
       "</style>\n",
       "<table border=\"1\" class=\"dataframe\">\n",
       "  <thead>\n",
       "    <tr style=\"text-align: right;\">\n",
       "      <th></th>\n",
       "      <th>Model</th>\n",
       "      <th>MSE</th>\n",
       "      <th>RMSE</th>\n",
       "      <th>MAPE</th>\n",
       "      <th>AIC</th>\n",
       "    </tr>\n",
       "  </thead>\n",
       "  <tbody>\n",
       "    <tr>\n",
       "      <th>1</th>\n",
       "      <td>MA (0,0,1)</td>\n",
       "      <td>4500.031165</td>\n",
       "      <td>67.082272</td>\n",
       "      <td>0.206128</td>\n",
       "      <td>519.818078</td>\n",
       "    </tr>\n",
       "  </tbody>\n",
       "</table>\n",
       "</div>"
      ],
      "text/plain": [
       "        Model          MSE       RMSE      MAPE         AIC\n",
       "1  MA (0,0,1)  4500.031165  67.082272  0.206128  519.818078"
      ]
     },
     "execution_count": 51,
     "metadata": {},
     "output_type": "execute_result"
    }
   ],
   "source": [
    "m2_res = pd.DataFrame({'Model':'MA (0,0,1)','MSE':mse_m2,'RMSE':rmse_m2,\n",
    "                       'MAPE':mape_m2,'AIC':aic_m2},index=[1])\n",
    "m2_res"
   ]
  },
  {
   "cell_type": "code",
   "execution_count": 52,
   "id": "303b2b7c",
   "metadata": {},
   "outputs": [
    {
     "data": {
      "text/html": [
       "<div>\n",
       "<style scoped>\n",
       "    .dataframe tbody tr th:only-of-type {\n",
       "        vertical-align: middle;\n",
       "    }\n",
       "\n",
       "    .dataframe tbody tr th {\n",
       "        vertical-align: top;\n",
       "    }\n",
       "\n",
       "    .dataframe thead th {\n",
       "        text-align: right;\n",
       "    }\n",
       "</style>\n",
       "<table border=\"1\" class=\"dataframe\">\n",
       "  <thead>\n",
       "    <tr style=\"text-align: right;\">\n",
       "      <th></th>\n",
       "      <th>Model</th>\n",
       "      <th>MSE</th>\n",
       "      <th>RMSE</th>\n",
       "      <th>MAPE</th>\n",
       "      <th>AIC</th>\n",
       "    </tr>\n",
       "  </thead>\n",
       "  <tbody>\n",
       "    <tr>\n",
       "      <th>0</th>\n",
       "      <td>AR (1,0,0)</td>\n",
       "      <td>4489.938428</td>\n",
       "      <td>67.007003</td>\n",
       "      <td>0.205884</td>\n",
       "      <td>519.815107</td>\n",
       "    </tr>\n",
       "    <tr>\n",
       "      <th>1</th>\n",
       "      <td>MA (0,0,1)</td>\n",
       "      <td>4500.031165</td>\n",
       "      <td>67.082272</td>\n",
       "      <td>0.206128</td>\n",
       "      <td>519.818078</td>\n",
       "    </tr>\n",
       "  </tbody>\n",
       "</table>\n",
       "</div>"
      ],
      "text/plain": [
       "        Model          MSE       RMSE      MAPE         AIC\n",
       "0  AR (1,0,0)  4489.938428  67.007003  0.205884  519.815107\n",
       "1  MA (0,0,1)  4500.031165  67.082272  0.206128  519.818078"
      ]
     },
     "execution_count": 52,
     "metadata": {},
     "output_type": "execute_result"
    }
   ],
   "source": [
    "res = pd.concat([m1_res,m2_res])\n",
    "res"
   ]
  },
  {
   "cell_type": "markdown",
   "id": "45173241",
   "metadata": {},
   "source": [
    "## ARMA (1,0,1)"
   ]
  },
  {
   "cell_type": "code",
   "execution_count": 53,
   "id": "118e627f",
   "metadata": {},
   "outputs": [
    {
     "name": "stdout",
     "output_type": "stream",
     "text": [
      "                               SARIMAX Results                                \n",
      "==============================================================================\n",
      "Dep. Variable:                  Sales   No. Observations:                   42\n",
      "Model:                 ARIMA(1, 0, 1)   Log Likelihood                -256.906\n",
      "Date:                Tue, 02 Aug 2022   AIC                            521.812\n",
      "Time:                        21:31:29   BIC                            528.763\n",
      "Sample:                    01-01-2014   HQIC                           524.360\n",
      "                         - 06-01-2017                                         \n",
      "Covariance Type:                  opg                                         \n",
      "==============================================================================\n",
      "                 coef    std err          z      P>|z|      [0.025      0.975]\n",
      "------------------------------------------------------------------------------\n",
      "const        345.1480     21.468     16.077      0.000     303.071     387.225\n",
      "ar.L1         -0.1057      4.025     -0.026      0.979      -7.994       7.783\n",
      "ma.L1          0.0723      4.134      0.017      0.986      -8.031       8.176\n",
      "sigma2      1.204e+04   2212.490      5.441      0.000    7701.129    1.64e+04\n",
      "===================================================================================\n",
      "Ljung-Box (L1) (Q):                   0.00   Jarque-Bera (JB):                92.66\n",
      "Prob(Q):                              1.00   Prob(JB):                         0.00\n",
      "Heteroskedasticity (H):               0.35   Skew:                             1.82\n",
      "Prob(H) (two-sided):                  0.06   Kurtosis:                         9.30\n",
      "===================================================================================\n",
      "\n",
      "Warnings:\n",
      "[1] Covariance matrix calculated using the outer product of gradients (complex-step).\n"
     ]
    }
   ],
   "source": [
    "m3 = ARIMA(train,order=(1,0,1))\n",
    "ar_m3 = m3.fit()\n",
    "print(ar_m3.summary())"
   ]
  },
  {
   "cell_type": "code",
   "execution_count": 54,
   "id": "f030188b",
   "metadata": {},
   "outputs": [
    {
     "data": {
      "text/plain": [
       "2017-07-01    341.760572\n",
       "2017-08-01    345.506155\n",
       "2017-09-01    345.110136\n",
       "2017-10-01    345.152007\n",
       "2017-11-01    345.147580\n",
       "2017-12-01    345.148048\n",
       "Freq: MS, Name: predicted_mean, dtype: float64"
      ]
     },
     "execution_count": 54,
     "metadata": {},
     "output_type": "execute_result"
    }
   ],
   "source": [
    "fcast_m3 = ar_m3.forecast(6)\n",
    "fcast_m3"
   ]
  },
  {
   "cell_type": "code",
   "execution_count": 55,
   "id": "582c0145",
   "metadata": {},
   "outputs": [
    {
     "data": {
      "image/png": "[encoded data removed]",
      "text/plain": [
       "<Figure size 576x504 with 1 Axes>"
      ]
     },
     "metadata": {
      "needs_background": "light"
     },
     "output_type": "display_data"
    }
   ],
   "source": [
    "plt.figure(figsize=(8,7))\n",
    "plt.plot(train,label='Train')\n",
    "plt.plot(test,label='Test')\n",
    "plt.plot(fcast_m3,label='Fcast')\n",
    "plt.title('ARMA Model')\n",
    "plt.grid()\n",
    "plt.legend()\n",
    "plt.show()"
   ]
  },
  {
   "cell_type": "code",
   "execution_count": 56,
   "id": "d83a1c28",
   "metadata": {},
   "outputs": [
    {
     "name": "stdout",
     "output_type": "stream",
     "text": [
      "AIC 521.8119894001542\n"
     ]
    }
   ],
   "source": [
    "aic_m3 = ar_m3.aic\n",
    "print('AIC',aic_m3)"
   ]
  },
  {
   "cell_type": "code",
   "execution_count": 57,
   "id": "aa070f26",
   "metadata": {},
   "outputs": [],
   "source": [
    "mse_m3,rmse_m3,mape_m3  = test_metrics(test,fcast_m3)"
   ]
  },
  {
   "cell_type": "code",
   "execution_count": 58,
   "id": "9e19e8f3",
   "metadata": {},
   "outputs": [
    {
     "data": {
      "text/html": [
       "<div>\n",
       "<style scoped>\n",
       "    .dataframe tbody tr th:only-of-type {\n",
       "        vertical-align: middle;\n",
       "    }\n",
       "\n",
       "    .dataframe tbody tr th {\n",
       "        vertical-align: top;\n",
       "    }\n",
       "\n",
       "    .dataframe thead th {\n",
       "        text-align: right;\n",
       "    }\n",
       "</style>\n",
       "<table border=\"1\" class=\"dataframe\">\n",
       "  <thead>\n",
       "    <tr style=\"text-align: right;\">\n",
       "      <th></th>\n",
       "      <th>Model</th>\n",
       "      <th>MSE</th>\n",
       "      <th>RMSE</th>\n",
       "      <th>MAPE</th>\n",
       "      <th>AIC</th>\n",
       "    </tr>\n",
       "  </thead>\n",
       "  <tbody>\n",
       "    <tr>\n",
       "      <th>2</th>\n",
       "      <td>ARMA (1,0,1)</td>\n",
       "      <td>4482.026214</td>\n",
       "      <td>66.947937</td>\n",
       "      <td>0.205618</td>\n",
       "      <td>521.811989</td>\n",
       "    </tr>\n",
       "  </tbody>\n",
       "</table>\n",
       "</div>"
      ],
      "text/plain": [
       "          Model          MSE       RMSE      MAPE         AIC\n",
       "2  ARMA (1,0,1)  4482.026214  66.947937  0.205618  521.811989"
      ]
     },
     "execution_count": 58,
     "metadata": {},
     "output_type": "execute_result"
    }
   ],
   "source": [
    "m3_res = pd.DataFrame({'Model':'ARMA (1,0,1)','MSE':mse_m3,'RMSE':rmse_m3,\n",
    "                       'MAPE':mape_m3,'AIC':aic_m3},index=[2])\n",
    "m3_res"
   ]
  },
  {
   "cell_type": "code",
   "execution_count": 59,
   "id": "2819e8c0",
   "metadata": {},
   "outputs": [
    {
     "data": {
      "text/html": [
       "<div>\n",
       "<style scoped>\n",
       "    .dataframe tbody tr th:only-of-type {\n",
       "        vertical-align: middle;\n",
       "    }\n",
       "\n",
       "    .dataframe tbody tr th {\n",
       "        vertical-align: top;\n",
       "    }\n",
       "\n",
       "    .dataframe thead th {\n",
       "        text-align: right;\n",
       "    }\n",
       "</style>\n",
       "<table border=\"1\" class=\"dataframe\">\n",
       "  <thead>\n",
       "    <tr style=\"text-align: right;\">\n",
       "      <th></th>\n",
       "      <th>Model</th>\n",
       "      <th>MSE</th>\n",
       "      <th>RMSE</th>\n",
       "      <th>MAPE</th>\n",
       "      <th>AIC</th>\n",
       "    </tr>\n",
       "  </thead>\n",
       "  <tbody>\n",
       "    <tr>\n",
       "      <th>0</th>\n",
       "      <td>AR (1,0,0)</td>\n",
       "      <td>4489.938428</td>\n",
       "      <td>67.007003</td>\n",
       "      <td>0.205884</td>\n",
       "      <td>519.815107</td>\n",
       "    </tr>\n",
       "    <tr>\n",
       "      <th>1</th>\n",
       "      <td>MA (0,0,1)</td>\n",
       "      <td>4500.031165</td>\n",
       "      <td>67.082272</td>\n",
       "      <td>0.206128</td>\n",
       "      <td>519.818078</td>\n",
       "    </tr>\n",
       "    <tr>\n",
       "      <th>2</th>\n",
       "      <td>ARMA (1,0,1)</td>\n",
       "      <td>4482.026214</td>\n",
       "      <td>66.947937</td>\n",
       "      <td>0.205618</td>\n",
       "      <td>521.811989</td>\n",
       "    </tr>\n",
       "  </tbody>\n",
       "</table>\n",
       "</div>"
      ],
      "text/plain": [
       "          Model          MSE       RMSE      MAPE         AIC\n",
       "0    AR (1,0,0)  4489.938428  67.007003  0.205884  519.815107\n",
       "1    MA (0,0,1)  4500.031165  67.082272  0.206128  519.818078\n",
       "2  ARMA (1,0,1)  4482.026214  66.947937  0.205618  521.811989"
      ]
     },
     "execution_count": 59,
     "metadata": {},
     "output_type": "execute_result"
    }
   ],
   "source": [
    "res1 = pd.concat([res,m3_res])\n",
    "res1"
   ]
  },
  {
   "cell_type": "markdown",
   "id": "2ab21589",
   "metadata": {},
   "source": [
    "### ARIMA (1,1,1)"
   ]
  },
  {
   "cell_type": "code",
   "execution_count": 60,
   "id": "053214b3",
   "metadata": {},
   "outputs": [
    {
     "name": "stdout",
     "output_type": "stream",
     "text": [
      "                               SARIMAX Results                                \n",
      "==============================================================================\n",
      "Dep. Variable:                  Sales   No. Observations:                   42\n",
      "Model:                 ARIMA(1, 1, 1)   Log Likelihood                -253.168\n",
      "Date:                Tue, 02 Aug 2022   AIC                            512.335\n",
      "Time:                        21:31:29   BIC                            517.476\n",
      "Sample:                    01-01-2014   HQIC                           514.207\n",
      "                         - 06-01-2017                                         \n",
      "Covariance Type:                  opg                                         \n",
      "==============================================================================\n",
      "                 coef    std err          z      P>|z|      [0.025      0.975]\n",
      "------------------------------------------------------------------------------\n",
      "ar.L1         -0.0094      0.259     -0.036      0.971      -0.517       0.498\n",
      "ma.L1         -0.9953      1.431     -0.696      0.487      -3.800       1.809\n",
      "sigma2      1.239e+04   1.71e+04      0.725      0.468   -2.11e+04    4.59e+04\n",
      "===================================================================================\n",
      "Ljung-Box (L1) (Q):                   0.01   Jarque-Bera (JB):                69.58\n",
      "Prob(Q):                              0.94   Prob(JB):                         0.00\n",
      "Heteroskedasticity (H):               0.35   Skew:                             1.75\n",
      "Prob(H) (two-sided):                  0.06   Kurtosis:                         8.33\n",
      "===================================================================================\n",
      "\n",
      "Warnings:\n",
      "[1] Covariance matrix calculated using the outer product of gradients (complex-step).\n"
     ]
    }
   ],
   "source": [
    "m4 = ARIMA(train,order=(1,1,1))\n",
    "ar_m4 = m4.fit()\n",
    "print(ar_m4.summary())"
   ]
  },
  {
   "cell_type": "code",
   "execution_count": 61,
   "id": "2c845934",
   "metadata": {},
   "outputs": [
    {
     "data": {
      "text/plain": [
       "2017-07-01    344.050542\n",
       "2017-08-01    344.988726\n",
       "2017-09-01    344.979929\n",
       "2017-10-01    344.980012\n",
       "2017-11-01    344.980011\n",
       "2017-12-01    344.980011\n",
       "Freq: MS, Name: predicted_mean, dtype: float64"
      ]
     },
     "execution_count": 61,
     "metadata": {},
     "output_type": "execute_result"
    }
   ],
   "source": [
    "fcast_m4 = ar_m4.forecast(6)\n",
    "fcast_m4"
   ]
  },
  {
   "cell_type": "code",
   "execution_count": 62,
   "id": "fc85a55f",
   "metadata": {},
   "outputs": [
    {
     "data": {
      "image/png": "[encoded data removed]",
      "text/plain": [
       "<Figure size 576x504 with 1 Axes>"
      ]
     },
     "metadata": {
      "needs_background": "light"
     },
     "output_type": "display_data"
    }
   ],
   "source": [
    "plt.figure(figsize=(8,7))\n",
    "plt.plot(train,label='Train')\n",
    "plt.plot(test,label='Test')\n",
    "plt.plot(fcast_m4,label='Fcast')\n",
    "plt.title('ARIMA Model')\n",
    "plt.grid()\n",
    "plt.legend()\n",
    "plt.show()"
   ]
  },
  {
   "cell_type": "code",
   "execution_count": 63,
   "id": "f629392e",
   "metadata": {},
   "outputs": [
    {
     "name": "stdout",
     "output_type": "stream",
     "text": [
      "AIC 512.3354681994886\n"
     ]
    }
   ],
   "source": [
    "aic_m4 = ar_m4.aic\n",
    "print('AIC',aic_m4)"
   ]
  },
  {
   "cell_type": "code",
   "execution_count": 64,
   "id": "b1748f80",
   "metadata": {},
   "outputs": [],
   "source": [
    "mse_m4,rmse_m4,mape_m4  = test_metrics(test,fcast_m4)"
   ]
  },
  {
   "cell_type": "code",
   "execution_count": 65,
   "id": "c400f8cb",
   "metadata": {},
   "outputs": [
    {
     "data": {
      "text/html": [
       "<div>\n",
       "<style scoped>\n",
       "    .dataframe tbody tr th:only-of-type {\n",
       "        vertical-align: middle;\n",
       "    }\n",
       "\n",
       "    .dataframe tbody tr th {\n",
       "        vertical-align: top;\n",
       "    }\n",
       "\n",
       "    .dataframe thead th {\n",
       "        text-align: right;\n",
       "    }\n",
       "</style>\n",
       "<table border=\"1\" class=\"dataframe\">\n",
       "  <thead>\n",
       "    <tr style=\"text-align: right;\">\n",
       "      <th></th>\n",
       "      <th>Model</th>\n",
       "      <th>MSE</th>\n",
       "      <th>RMSE</th>\n",
       "      <th>MAPE</th>\n",
       "      <th>AIC</th>\n",
       "    </tr>\n",
       "  </thead>\n",
       "  <tbody>\n",
       "    <tr>\n",
       "      <th>3</th>\n",
       "      <td>ARIMA (1,1,1)</td>\n",
       "      <td>4559.941963</td>\n",
       "      <td>67.527342</td>\n",
       "      <td>0.207258</td>\n",
       "      <td>512.335468</td>\n",
       "    </tr>\n",
       "  </tbody>\n",
       "</table>\n",
       "</div>"
      ],
      "text/plain": [
       "           Model          MSE       RMSE      MAPE         AIC\n",
       "3  ARIMA (1,1,1)  4559.941963  67.527342  0.207258  512.335468"
      ]
     },
     "execution_count": 65,
     "metadata": {},
     "output_type": "execute_result"
    }
   ],
   "source": [
    "m4_res = pd.DataFrame({'Model':'ARIMA (1,1,1)','MSE':mse_m4,'RMSE':rmse_m4,\n",
    "                       'MAPE':mape_m4,'AIC':aic_m4},index=[3])\n",
    "m4_res"
   ]
  },
  {
   "cell_type": "code",
   "execution_count": 66,
   "id": "ab609cbe",
   "metadata": {},
   "outputs": [
    {
     "data": {
      "text/html": [
       "<div>\n",
       "<style scoped>\n",
       "    .dataframe tbody tr th:only-of-type {\n",
       "        vertical-align: middle;\n",
       "    }\n",
       "\n",
       "    .dataframe tbody tr th {\n",
       "        vertical-align: top;\n",
       "    }\n",
       "\n",
       "    .dataframe thead th {\n",
       "        text-align: right;\n",
       "    }\n",
       "</style>\n",
       "<table border=\"1\" class=\"dataframe\">\n",
       "  <thead>\n",
       "    <tr style=\"text-align: right;\">\n",
       "      <th></th>\n",
       "      <th>Model</th>\n",
       "      <th>MSE</th>\n",
       "      <th>RMSE</th>\n",
       "      <th>MAPE</th>\n",
       "      <th>AIC</th>\n",
       "    </tr>\n",
       "  </thead>\n",
       "  <tbody>\n",
       "    <tr>\n",
       "      <th>0</th>\n",
       "      <td>AR (1,0,0)</td>\n",
       "      <td>4489.938428</td>\n",
       "      <td>67.007003</td>\n",
       "      <td>0.205884</td>\n",
       "      <td>519.815107</td>\n",
       "    </tr>\n",
       "    <tr>\n",
       "      <th>1</th>\n",
       "      <td>MA (0,0,1)</td>\n",
       "      <td>4500.031165</td>\n",
       "      <td>67.082272</td>\n",
       "      <td>0.206128</td>\n",
       "      <td>519.818078</td>\n",
       "    </tr>\n",
       "    <tr>\n",
       "      <th>2</th>\n",
       "      <td>ARMA (1,0,1)</td>\n",
       "      <td>4482.026214</td>\n",
       "      <td>66.947937</td>\n",
       "      <td>0.205618</td>\n",
       "      <td>521.811989</td>\n",
       "    </tr>\n",
       "    <tr>\n",
       "      <th>3</th>\n",
       "      <td>ARIMA (1,1,1)</td>\n",
       "      <td>4559.941963</td>\n",
       "      <td>67.527342</td>\n",
       "      <td>0.207258</td>\n",
       "      <td>512.335468</td>\n",
       "    </tr>\n",
       "  </tbody>\n",
       "</table>\n",
       "</div>"
      ],
      "text/plain": [
       "           Model          MSE       RMSE      MAPE         AIC\n",
       "0     AR (1,0,0)  4489.938428  67.007003  0.205884  519.815107\n",
       "1     MA (0,0,1)  4500.031165  67.082272  0.206128  519.818078\n",
       "2   ARMA (1,0,1)  4482.026214  66.947937  0.205618  521.811989\n",
       "3  ARIMA (1,1,1)  4559.941963  67.527342  0.207258  512.335468"
      ]
     },
     "execution_count": 66,
     "metadata": {},
     "output_type": "execute_result"
    }
   ],
   "source": [
    "res2 = pd.concat([res1,m4_res])\n",
    "res2"
   ]
  },
  {
   "cell_type": "markdown",
   "id": "064fceaa",
   "metadata": {},
   "source": [
    "### ARIMA(2,1,2)"
   ]
  },
  {
   "cell_type": "code",
   "execution_count": 67,
   "id": "4a9e7909",
   "metadata": {},
   "outputs": [
    {
     "name": "stdout",
     "output_type": "stream",
     "text": [
      "                               SARIMAX Results                                \n",
      "==============================================================================\n",
      "Dep. Variable:                  Sales   No. Observations:                   42\n",
      "Model:                 ARIMA(2, 1, 2)   Log Likelihood                -252.949\n",
      "Date:                Tue, 02 Aug 2022   AIC                            515.897\n",
      "Time:                        21:31:29   BIC                            524.465\n",
      "Sample:                    01-01-2014   HQIC                           519.017\n",
      "                         - 06-01-2017                                         \n",
      "Covariance Type:                  opg                                         \n",
      "==============================================================================\n",
      "                 coef    std err          z      P>|z|      [0.025      0.975]\n",
      "------------------------------------------------------------------------------\n",
      "ar.L1          0.4042      2.562      0.158      0.875      -4.618       5.426\n",
      "ar.L2          0.1019      0.220      0.464      0.643      -0.329       0.532\n",
      "ma.L1         -1.4114     56.415     -0.025      0.980    -111.984     109.161\n",
      "ma.L2          0.4116     24.061      0.017      0.986     -46.746      47.569\n",
      "sigma2      1.231e+04   6.77e+05      0.018      0.985   -1.31e+06    1.34e+06\n",
      "===================================================================================\n",
      "Ljung-Box (L1) (Q):                   0.02   Jarque-Bera (JB):                67.17\n",
      "Prob(Q):                              0.90   Prob(JB):                         0.00\n",
      "Heteroskedasticity (H):               0.37   Skew:                             1.70\n",
      "Prob(H) (two-sided):                  0.07   Kurtosis:                         8.27\n",
      "===================================================================================\n",
      "\n",
      "Warnings:\n",
      "[1] Covariance matrix calculated using the outer product of gradients (complex-step).\n"
     ]
    }
   ],
   "source": [
    "m5 = ARIMA(train,order=(2,1,2))\n",
    "ar_m5 = m5.fit()\n",
    "print(ar_m5.summary())"
   ]
  },
  {
   "cell_type": "code",
   "execution_count": 68,
   "id": "8a4bc285",
   "metadata": {},
   "outputs": [
    {
     "data": {
      "text/plain": [
       "2017-07-01    332.382985\n",
       "2017-08-01    349.611535\n",
       "2017-09-01    345.187099\n",
       "2017-10-01    345.154730\n",
       "2017-11-01    344.690696\n",
       "2017-12-01    344.499835\n",
       "Freq: MS, Name: predicted_mean, dtype: float64"
      ]
     },
     "execution_count": 68,
     "metadata": {},
     "output_type": "execute_result"
    }
   ],
   "source": [
    "fcast_m5 = ar_m5.forecast(6)\n",
    "fcast_m5"
   ]
  },
  {
   "cell_type": "code",
   "execution_count": 69,
   "id": "b11b84e6",
   "metadata": {},
   "outputs": [
    {
     "data": {
      "image/png": "[encoded data removed]",
      "text/plain": [
       "<Figure size 720x360 with 1 Axes>"
      ]
     },
     "metadata": {
      "needs_background": "light"
     },
     "output_type": "display_data"
    }
   ],
   "source": [
    "plt.figure(figsize=(10,5))\n",
    "plt.plot(train,label='Train')\n",
    "plt.plot(test,label='Test')\n",
    "plt.plot(fcast_m5,label='Fcast')\n",
    "plt.title('ARMA Model')\n",
    "plt.grid()\n",
    "plt.legend()\n",
    "plt.show()"
   ]
  },
  {
   "cell_type": "code",
   "execution_count": 70,
   "id": "a41ebdb4",
   "metadata": {},
   "outputs": [
    {
     "name": "stdout",
     "output_type": "stream",
     "text": [
      "AIC 515.8974686070283\n"
     ]
    }
   ],
   "source": [
    "aic_m5 = ar_m5.aic\n",
    "print('AIC',aic_m5)\n",
    "\n",
    "mse_m5,rmse_m5,mape_m5  = test_metrics(test,fcast_m5)"
   ]
  },
  {
   "cell_type": "code",
   "execution_count": 71,
   "id": "46ba2cc1",
   "metadata": {},
   "outputs": [
    {
     "data": {
      "text/html": [
       "<div>\n",
       "<style scoped>\n",
       "    .dataframe tbody tr th:only-of-type {\n",
       "        vertical-align: middle;\n",
       "    }\n",
       "\n",
       "    .dataframe tbody tr th {\n",
       "        vertical-align: top;\n",
       "    }\n",
       "\n",
       "    .dataframe thead th {\n",
       "        text-align: right;\n",
       "    }\n",
       "</style>\n",
       "<table border=\"1\" class=\"dataframe\">\n",
       "  <thead>\n",
       "    <tr style=\"text-align: right;\">\n",
       "      <th></th>\n",
       "      <th>Model</th>\n",
       "      <th>MSE</th>\n",
       "      <th>RMSE</th>\n",
       "      <th>MAPE</th>\n",
       "      <th>AIC</th>\n",
       "    </tr>\n",
       "  </thead>\n",
       "  <tbody>\n",
       "    <tr>\n",
       "      <th>4</th>\n",
       "      <td>ARIMA(2,1,2)</td>\n",
       "      <td>4146.567253</td>\n",
       "      <td>64.393845</td>\n",
       "      <td>0.196934</td>\n",
       "      <td>515.897469</td>\n",
       "    </tr>\n",
       "  </tbody>\n",
       "</table>\n",
       "</div>"
      ],
      "text/plain": [
       "          Model          MSE       RMSE      MAPE         AIC\n",
       "4  ARIMA(2,1,2)  4146.567253  64.393845  0.196934  515.897469"
      ]
     },
     "execution_count": 71,
     "metadata": {},
     "output_type": "execute_result"
    }
   ],
   "source": [
    "m5_res = pd.DataFrame({'Model':'ARIMA(2,1,2)','MSE':mse_m5,'RMSE':rmse_m5,\n",
    "                       'MAPE':mape_m5,'AIC':aic_m5},index=[4])\n",
    "m5_res"
   ]
  },
  {
   "cell_type": "code",
   "execution_count": 72,
   "id": "8b7570ed",
   "metadata": {},
   "outputs": [
    {
     "data": {
      "text/html": [
       "<div>\n",
       "<style scoped>\n",
       "    .dataframe tbody tr th:only-of-type {\n",
       "        vertical-align: middle;\n",
       "    }\n",
       "\n",
       "    .dataframe tbody tr th {\n",
       "        vertical-align: top;\n",
       "    }\n",
       "\n",
       "    .dataframe thead th {\n",
       "        text-align: right;\n",
       "    }\n",
       "</style>\n",
       "<table border=\"1\" class=\"dataframe\">\n",
       "  <thead>\n",
       "    <tr style=\"text-align: right;\">\n",
       "      <th></th>\n",
       "      <th>Model</th>\n",
       "      <th>MSE</th>\n",
       "      <th>RMSE</th>\n",
       "      <th>MAPE</th>\n",
       "      <th>AIC</th>\n",
       "    </tr>\n",
       "  </thead>\n",
       "  <tbody>\n",
       "    <tr>\n",
       "      <th>0</th>\n",
       "      <td>AR (1,0,0)</td>\n",
       "      <td>4489.938428</td>\n",
       "      <td>67.007003</td>\n",
       "      <td>0.205884</td>\n",
       "      <td>519.815107</td>\n",
       "    </tr>\n",
       "    <tr>\n",
       "      <th>1</th>\n",
       "      <td>MA (0,0,1)</td>\n",
       "      <td>4500.031165</td>\n",
       "      <td>67.082272</td>\n",
       "      <td>0.206128</td>\n",
       "      <td>519.818078</td>\n",
       "    </tr>\n",
       "    <tr>\n",
       "      <th>2</th>\n",
       "      <td>ARMA (1,0,1)</td>\n",
       "      <td>4482.026214</td>\n",
       "      <td>66.947937</td>\n",
       "      <td>0.205618</td>\n",
       "      <td>521.811989</td>\n",
       "    </tr>\n",
       "    <tr>\n",
       "      <th>3</th>\n",
       "      <td>ARIMA (1,1,1)</td>\n",
       "      <td>4559.941963</td>\n",
       "      <td>67.527342</td>\n",
       "      <td>0.207258</td>\n",
       "      <td>512.335468</td>\n",
       "    </tr>\n",
       "    <tr>\n",
       "      <th>4</th>\n",
       "      <td>ARIMA(2,1,2)</td>\n",
       "      <td>4146.567253</td>\n",
       "      <td>64.393845</td>\n",
       "      <td>0.196934</td>\n",
       "      <td>515.897469</td>\n",
       "    </tr>\n",
       "  </tbody>\n",
       "</table>\n",
       "</div>"
      ],
      "text/plain": [
       "           Model          MSE       RMSE      MAPE         AIC\n",
       "0     AR (1,0,0)  4489.938428  67.007003  0.205884  519.815107\n",
       "1     MA (0,0,1)  4500.031165  67.082272  0.206128  519.818078\n",
       "2   ARMA (1,0,1)  4482.026214  66.947937  0.205618  521.811989\n",
       "3  ARIMA (1,1,1)  4559.941963  67.527342  0.207258  512.335468\n",
       "4   ARIMA(2,1,2)  4146.567253  64.393845  0.196934  515.897469"
      ]
     },
     "execution_count": 72,
     "metadata": {},
     "output_type": "execute_result"
    }
   ],
   "source": [
    "r5 = pd.concat([res2,m5_res])\n",
    "r5"
   ]
  },
  {
   "cell_type": "markdown",
   "id": "fa9535a5",
   "metadata": {},
   "source": [
    "### Creating a base arima model function for model fitting ,forecasting and graph plotting"
   ]
  },
  {
   "cell_type": "code",
   "execution_count": 73,
   "id": "8360b1c5",
   "metadata": {},
   "outputs": [],
   "source": [
    "def arima_model(train_data,test_data,p,d,q,fcast_val):\n",
    "    model = ARIMA(train_data,order=(p,d,q))\n",
    "    ar_model = model.fit()\n",
    "    print(ar_model.summary())\n",
    "\n",
    "    fcast_model = ar_model.forecast(fcast_val)\n",
    "    fcast_model\n",
    "\n",
    "    plt.figure(figsize=(10,5))\n",
    "    plt.plot(train_data,label='Train')\n",
    "    plt.plot(test_data,label='Test')\n",
    "    plt.plot(fcast_model,label='Fcast')\n",
    "#     plt.title('ARMA Model')\n",
    "    plt.grid()\n",
    "    plt.legend()\n",
    "    plt.show()\n",
    "    return ar_model,fcast_model"
   ]
  },
  {
   "cell_type": "markdown",
   "id": "11247ea7",
   "metadata": {},
   "source": [
    "### ARIMA (3,1,2) Model"
   ]
  },
  {
   "cell_type": "code",
   "execution_count": 74,
   "id": "42813e78",
   "metadata": {},
   "outputs": [
    {
     "name": "stdout",
     "output_type": "stream",
     "text": [
      "                               SARIMAX Results                                \n",
      "==============================================================================\n",
      "Dep. Variable:                  Sales   No. Observations:                   42\n",
      "Model:                 ARIMA(3, 1, 2)   Log Likelihood                -252.004\n",
      "Date:                Tue, 02 Aug 2022   AIC                            516.009\n",
      "Time:                        21:31:29   BIC                            526.290\n",
      "Sample:                    01-01-2014   HQIC                           519.753\n",
      "                         - 06-01-2017                                         \n",
      "Covariance Type:                  opg                                         \n",
      "==============================================================================\n",
      "                 coef    std err          z      P>|z|      [0.025      0.975]\n",
      "------------------------------------------------------------------------------\n",
      "ar.L1         -0.2590      0.882     -0.294      0.769      -1.989       1.470\n",
      "ar.L2          0.0606      0.287      0.211      0.833      -0.502       0.623\n",
      "ar.L3          0.2467      0.228      1.082      0.279      -0.200       0.694\n",
      "ma.L1         -0.7410     74.779     -0.010      0.992    -147.306     145.824\n",
      "ma.L2         -0.2589     19.187     -0.013      0.989     -37.864      37.346\n",
      "sigma2      1.176e+04   8.77e+05      0.013      0.989   -1.71e+06    1.73e+06\n",
      "===================================================================================\n",
      "Ljung-Box (L1) (Q):                   0.00   Jarque-Bera (JB):                65.02\n",
      "Prob(Q):                              0.98   Prob(JB):                         0.00\n",
      "Heteroskedasticity (H):               0.37   Skew:                             1.64\n",
      "Prob(H) (two-sided):                  0.07   Kurtosis:                         8.23\n",
      "===================================================================================\n",
      "\n",
      "Warnings:\n",
      "[1] Covariance matrix calculated using the outer product of gradients (complex-step).\n"
     ]
    },
    {
     "data": {
      "image/png": "[encoded data removed]",
      "text/plain": [
       "<Figure size 720x360 with 1 Axes>"
      ]
     },
     "metadata": {
      "needs_background": "light"
     },
     "output_type": "display_data"
    }
   ],
   "source": [
    "ar_m6,fcast_model = arima_model(train,test,p=3,d=1,q=2,fcast_val=6)"
   ]
  },
  {
   "cell_type": "code",
   "execution_count": 75,
   "id": "2278b655",
   "metadata": {},
   "outputs": [
    {
     "name": "stdout",
     "output_type": "stream",
     "text": [
      "AIC 516.0089159942661\n"
     ]
    }
   ],
   "source": [
    "aic_m6 = ar_m6.aic\n",
    "print('AIC',aic_m6)\n",
    "mse_m6,rmse_m6,mape_m6  = test_metrics(test,fcast_model)"
   ]
  },
  {
   "cell_type": "code",
   "execution_count": 76,
   "id": "ea70dd00",
   "metadata": {},
   "outputs": [
    {
     "data": {
      "text/html": [
       "<div>\n",
       "<style scoped>\n",
       "    .dataframe tbody tr th:only-of-type {\n",
       "        vertical-align: middle;\n",
       "    }\n",
       "\n",
       "    .dataframe tbody tr th {\n",
       "        vertical-align: top;\n",
       "    }\n",
       "\n",
       "    .dataframe thead th {\n",
       "        text-align: right;\n",
       "    }\n",
       "</style>\n",
       "<table border=\"1\" class=\"dataframe\">\n",
       "  <thead>\n",
       "    <tr style=\"text-align: right;\">\n",
       "      <th></th>\n",
       "      <th>Model</th>\n",
       "      <th>MSE</th>\n",
       "      <th>RMSE</th>\n",
       "      <th>MAPE</th>\n",
       "      <th>AIC</th>\n",
       "    </tr>\n",
       "  </thead>\n",
       "  <tbody>\n",
       "    <tr>\n",
       "      <th>6</th>\n",
       "      <td>ARIMA(3,1,2)</td>\n",
       "      <td>4020.083188</td>\n",
       "      <td>63.404126</td>\n",
       "      <td>0.196824</td>\n",
       "      <td>516.008916</td>\n",
       "    </tr>\n",
       "  </tbody>\n",
       "</table>\n",
       "</div>"
      ],
      "text/plain": [
       "          Model          MSE       RMSE      MAPE         AIC\n",
       "6  ARIMA(3,1,2)  4020.083188  63.404126  0.196824  516.008916"
      ]
     },
     "execution_count": 76,
     "metadata": {},
     "output_type": "execute_result"
    }
   ],
   "source": [
    "m6_res = pd.DataFrame({'Model':'ARIMA(3,1,2)','MSE':mse_m6,'RMSE':rmse_m6,\n",
    "                       'MAPE':mape_m6,'AIC':aic_m6},index=[6])\n",
    "m6_res"
   ]
  },
  {
   "cell_type": "code",
   "execution_count": 77,
   "id": "ec51231a",
   "metadata": {},
   "outputs": [
    {
     "data": {
      "text/html": [
       "<div>\n",
       "<style scoped>\n",
       "    .dataframe tbody tr th:only-of-type {\n",
       "        vertical-align: middle;\n",
       "    }\n",
       "\n",
       "    .dataframe tbody tr th {\n",
       "        vertical-align: top;\n",
       "    }\n",
       "\n",
       "    .dataframe thead th {\n",
       "        text-align: right;\n",
       "    }\n",
       "</style>\n",
       "<table border=\"1\" class=\"dataframe\">\n",
       "  <thead>\n",
       "    <tr style=\"text-align: right;\">\n",
       "      <th></th>\n",
       "      <th>Model</th>\n",
       "      <th>MSE</th>\n",
       "      <th>RMSE</th>\n",
       "      <th>MAPE</th>\n",
       "      <th>AIC</th>\n",
       "    </tr>\n",
       "  </thead>\n",
       "  <tbody>\n",
       "    <tr>\n",
       "      <th>0</th>\n",
       "      <td>AR (1,0,0)</td>\n",
       "      <td>4489.938428</td>\n",
       "      <td>67.007003</td>\n",
       "      <td>0.205884</td>\n",
       "      <td>519.815107</td>\n",
       "    </tr>\n",
       "    <tr>\n",
       "      <th>1</th>\n",
       "      <td>MA (0,0,1)</td>\n",
       "      <td>4500.031165</td>\n",
       "      <td>67.082272</td>\n",
       "      <td>0.206128</td>\n",
       "      <td>519.818078</td>\n",
       "    </tr>\n",
       "    <tr>\n",
       "      <th>2</th>\n",
       "      <td>ARMA (1,0,1)</td>\n",
       "      <td>4482.026214</td>\n",
       "      <td>66.947937</td>\n",
       "      <td>0.205618</td>\n",
       "      <td>521.811989</td>\n",
       "    </tr>\n",
       "    <tr>\n",
       "      <th>3</th>\n",
       "      <td>ARIMA (1,1,1)</td>\n",
       "      <td>4559.941963</td>\n",
       "      <td>67.527342</td>\n",
       "      <td>0.207258</td>\n",
       "      <td>512.335468</td>\n",
       "    </tr>\n",
       "    <tr>\n",
       "      <th>4</th>\n",
       "      <td>ARIMA(2,1,2)</td>\n",
       "      <td>4146.567253</td>\n",
       "      <td>64.393845</td>\n",
       "      <td>0.196934</td>\n",
       "      <td>515.897469</td>\n",
       "    </tr>\n",
       "    <tr>\n",
       "      <th>6</th>\n",
       "      <td>ARIMA(3,1,2)</td>\n",
       "      <td>4020.083188</td>\n",
       "      <td>63.404126</td>\n",
       "      <td>0.196824</td>\n",
       "      <td>516.008916</td>\n",
       "    </tr>\n",
       "  </tbody>\n",
       "</table>\n",
       "</div>"
      ],
      "text/plain": [
       "           Model          MSE       RMSE      MAPE         AIC\n",
       "0     AR (1,0,0)  4489.938428  67.007003  0.205884  519.815107\n",
       "1     MA (0,0,1)  4500.031165  67.082272  0.206128  519.818078\n",
       "2   ARMA (1,0,1)  4482.026214  66.947937  0.205618  521.811989\n",
       "3  ARIMA (1,1,1)  4559.941963  67.527342  0.207258  512.335468\n",
       "4   ARIMA(2,1,2)  4146.567253  64.393845  0.196934  515.897469\n",
       "6   ARIMA(3,1,2)  4020.083188  63.404126  0.196824  516.008916"
      ]
     },
     "execution_count": 77,
     "metadata": {},
     "output_type": "execute_result"
    }
   ],
   "source": [
    "r6 = pd.concat([r5,m6_res])\n",
    "r6"
   ]
  },
  {
   "cell_type": "markdown",
   "id": "5d5601d2",
   "metadata": {},
   "source": [
    "### SES"
   ]
  },
  {
   "cell_type": "code",
   "execution_count": 78,
   "id": "39fab6df",
   "metadata": {},
   "outputs": [],
   "source": [
    "from statsmodels.tsa.holtwinters import ExponentialSmoothing"
   ]
  },
  {
   "cell_type": "code",
   "execution_count": 79,
   "id": "1b8bd5c2",
   "metadata": {},
   "outputs": [
    {
     "name": "stdout",
     "output_type": "stream",
     "text": [
      "                       ExponentialSmoothing Model Results                       \n",
      "================================================================================\n",
      "Dep. Variable:                    Sales   No. Observations:                   42\n",
      "Model:             ExponentialSmoothing   SSE                         595504.943\n",
      "Optimized:                         True   AIC                            405.499\n",
      "Trend:                             None   BIC                            408.974\n",
      "Seasonal:                          None   AICC                           406.580\n",
      "Seasonal Periods:                  None   Date:                 Tue, 02 Aug 2022\n",
      "Box-Cox:                          False   Time:                         21:31:29\n",
      "Box-Cox Coeff.:                    None                                         \n",
      "==============================================================================\n",
      "                       coeff                 code              optimized      \n",
      "------------------------------------------------------------------------------\n",
      "smoothing_level            0.3000000                alpha                False\n",
      "initial_level              310.28502                  l.0                 True\n",
      "------------------------------------------------------------------------------\n"
     ]
    }
   ],
   "source": [
    "alpha=0.3\n",
    "m7 = ExponentialSmoothing(train)\n",
    "ses_m7 = m7.fit(smoothing_level=alpha)\n",
    "print(ses_m7.summary())"
   ]
  },
  {
   "cell_type": "code",
   "execution_count": 80,
   "id": "537854b9",
   "metadata": {},
   "outputs": [
    {
     "data": {
      "text/plain": [
       "2017-07-01    330.064726\n",
       "2017-08-01    330.064726\n",
       "2017-09-01    330.064726\n",
       "2017-10-01    330.064726\n",
       "2017-11-01    330.064726\n",
       "2017-12-01    330.064726\n",
       "Freq: MS, dtype: float64"
      ]
     },
     "execution_count": 80,
     "metadata": {},
     "output_type": "execute_result"
    }
   ],
   "source": [
    "fcast_m7 = ses_m7.forecast(6)\n",
    "fcast_m7"
   ]
  },
  {
   "cell_type": "code",
   "execution_count": 81,
   "id": "5dafa7c6",
   "metadata": {},
   "outputs": [
    {
     "data": {
      "image/png": "[encoded data removed]",
      "text/plain": [
       "<Figure size 720x360 with 1 Axes>"
      ]
     },
     "metadata": {
      "needs_background": "light"
     },
     "output_type": "display_data"
    }
   ],
   "source": [
    "plt.figure(figsize=(10,5))\n",
    "plt.plot(train,label='Train')\n",
    "plt.plot(test,label='Test')\n",
    "plt.plot(fcast_m7,label='Fcast')\n",
    "plt.title('SES(alpha=0.3) Model')\n",
    "plt.grid()\n",
    "plt.legend()\n",
    "plt.show()"
   ]
  },
  {
   "cell_type": "code",
   "execution_count": 82,
   "id": "a9ba3979",
   "metadata": {},
   "outputs": [
    {
     "name": "stdout",
     "output_type": "stream",
     "text": [
      "AIC 405.4988046815486\n"
     ]
    }
   ],
   "source": [
    "aic_m7 = ses_m7.aic\n",
    "print('AIC',aic_m7)\n",
    "mse_m7,rmse_m7,mape_m7  = test_metrics(test,fcast_m7)"
   ]
  },
  {
   "cell_type": "code",
   "execution_count": 83,
   "id": "94c10ef2",
   "metadata": {},
   "outputs": [
    {
     "data": {
      "text/html": [
       "<div>\n",
       "<style scoped>\n",
       "    .dataframe tbody tr th:only-of-type {\n",
       "        vertical-align: middle;\n",
       "    }\n",
       "\n",
       "    .dataframe tbody tr th {\n",
       "        vertical-align: top;\n",
       "    }\n",
       "\n",
       "    .dataframe thead th {\n",
       "        text-align: right;\n",
       "    }\n",
       "</style>\n",
       "<table border=\"1\" class=\"dataframe\">\n",
       "  <thead>\n",
       "    <tr style=\"text-align: right;\">\n",
       "      <th></th>\n",
       "      <th>Model</th>\n",
       "      <th>MSE</th>\n",
       "      <th>RMSE</th>\n",
       "      <th>MAPE</th>\n",
       "      <th>AIC</th>\n",
       "    </tr>\n",
       "  </thead>\n",
       "  <tbody>\n",
       "    <tr>\n",
       "      <th>7</th>\n",
       "      <td>SES(alpha=0.3)</td>\n",
       "      <td>3897.740375</td>\n",
       "      <td>62.431886</td>\n",
       "      <td>0.184513</td>\n",
       "      <td>405.498805</td>\n",
       "    </tr>\n",
       "  </tbody>\n",
       "</table>\n",
       "</div>"
      ],
      "text/plain": [
       "            Model          MSE       RMSE      MAPE         AIC\n",
       "7  SES(alpha=0.3)  3897.740375  62.431886  0.184513  405.498805"
      ]
     },
     "execution_count": 83,
     "metadata": {},
     "output_type": "execute_result"
    }
   ],
   "source": [
    "m7_res = pd.DataFrame({'Model':'SES(alpha=0.3)','MSE':mse_m7,'RMSE':rmse_m7,\n",
    "                       'MAPE':mape_m7,'AIC':aic_m7},index=[7])\n",
    "m7_res"
   ]
  },
  {
   "cell_type": "code",
   "execution_count": 84,
   "id": "42f79da7",
   "metadata": {},
   "outputs": [
    {
     "data": {
      "text/html": [
       "<div>\n",
       "<style scoped>\n",
       "    .dataframe tbody tr th:only-of-type {\n",
       "        vertical-align: middle;\n",
       "    }\n",
       "\n",
       "    .dataframe tbody tr th {\n",
       "        vertical-align: top;\n",
       "    }\n",
       "\n",
       "    .dataframe thead th {\n",
       "        text-align: right;\n",
       "    }\n",
       "</style>\n",
       "<table border=\"1\" class=\"dataframe\">\n",
       "  <thead>\n",
       "    <tr style=\"text-align: right;\">\n",
       "      <th></th>\n",
       "      <th>Model</th>\n",
       "      <th>MSE</th>\n",
       "      <th>RMSE</th>\n",
       "      <th>MAPE</th>\n",
       "      <th>AIC</th>\n",
       "    </tr>\n",
       "  </thead>\n",
       "  <tbody>\n",
       "    <tr>\n",
       "      <th>0</th>\n",
       "      <td>AR (1,0,0)</td>\n",
       "      <td>4489.938428</td>\n",
       "      <td>67.007003</td>\n",
       "      <td>0.205884</td>\n",
       "      <td>519.815107</td>\n",
       "    </tr>\n",
       "    <tr>\n",
       "      <th>1</th>\n",
       "      <td>MA (0,0,1)</td>\n",
       "      <td>4500.031165</td>\n",
       "      <td>67.082272</td>\n",
       "      <td>0.206128</td>\n",
       "      <td>519.818078</td>\n",
       "    </tr>\n",
       "    <tr>\n",
       "      <th>2</th>\n",
       "      <td>ARMA (1,0,1)</td>\n",
       "      <td>4482.026214</td>\n",
       "      <td>66.947937</td>\n",
       "      <td>0.205618</td>\n",
       "      <td>521.811989</td>\n",
       "    </tr>\n",
       "    <tr>\n",
       "      <th>3</th>\n",
       "      <td>ARIMA (1,1,1)</td>\n",
       "      <td>4559.941963</td>\n",
       "      <td>67.527342</td>\n",
       "      <td>0.207258</td>\n",
       "      <td>512.335468</td>\n",
       "    </tr>\n",
       "    <tr>\n",
       "      <th>4</th>\n",
       "      <td>ARIMA(2,1,2)</td>\n",
       "      <td>4146.567253</td>\n",
       "      <td>64.393845</td>\n",
       "      <td>0.196934</td>\n",
       "      <td>515.897469</td>\n",
       "    </tr>\n",
       "    <tr>\n",
       "      <th>6</th>\n",
       "      <td>ARIMA(3,1,2)</td>\n",
       "      <td>4020.083188</td>\n",
       "      <td>63.404126</td>\n",
       "      <td>0.196824</td>\n",
       "      <td>516.008916</td>\n",
       "    </tr>\n",
       "    <tr>\n",
       "      <th>7</th>\n",
       "      <td>SES(alpha=0.3)</td>\n",
       "      <td>3897.740375</td>\n",
       "      <td>62.431886</td>\n",
       "      <td>0.184513</td>\n",
       "      <td>405.498805</td>\n",
       "    </tr>\n",
       "  </tbody>\n",
       "</table>\n",
       "</div>"
      ],
      "text/plain": [
       "            Model          MSE       RMSE      MAPE         AIC\n",
       "0      AR (1,0,0)  4489.938428  67.007003  0.205884  519.815107\n",
       "1      MA (0,0,1)  4500.031165  67.082272  0.206128  519.818078\n",
       "2    ARMA (1,0,1)  4482.026214  66.947937  0.205618  521.811989\n",
       "3   ARIMA (1,1,1)  4559.941963  67.527342  0.207258  512.335468\n",
       "4    ARIMA(2,1,2)  4146.567253  64.393845  0.196934  515.897469\n",
       "6    ARIMA(3,1,2)  4020.083188  63.404126  0.196824  516.008916\n",
       "7  SES(alpha=0.3)  3897.740375  62.431886  0.184513  405.498805"
      ]
     },
     "execution_count": 84,
     "metadata": {},
     "output_type": "execute_result"
    }
   ],
   "source": [
    "r7 = pd.concat([r6,m7_res])\n",
    "r7"
   ]
  },
  {
   "cell_type": "markdown",
   "id": "cd2446a6",
   "metadata": {},
   "source": [
    "### DES"
   ]
  },
  {
   "cell_type": "code",
   "execution_count": 85,
   "id": "3d984b28",
   "metadata": {},
   "outputs": [
    {
     "name": "stdout",
     "output_type": "stream",
     "text": [
      "                       ExponentialSmoothing Model Results                       \n",
      "================================================================================\n",
      "Dep. Variable:                    Sales   No. Observations:                   42\n",
      "Model:             ExponentialSmoothing   SSE                         672503.148\n",
      "Optimized:                         True   AIC                            410.606\n",
      "Trend:                             None   BIC                            414.081\n",
      "Seasonal:                          None   AICC                           411.687\n",
      "Seasonal Periods:                  None   Date:                 Tue, 02 Aug 2022\n",
      "Box-Cox:                          False   Time:                         21:31:30\n",
      "Box-Cox Coeff.:                    None                                         \n",
      "==============================================================================\n",
      "                       coeff                 code              optimized      \n",
      "------------------------------------------------------------------------------\n",
      "smoothing_level            0.5000000                alpha                False\n",
      "initial_level              303.81069                  l.0                 True\n",
      "------------------------------------------------------------------------------\n"
     ]
    }
   ],
   "source": [
    "alpha=0.5\n",
    "beta = 0.8\n",
    "m8 = ExponentialSmoothing(train)\n",
    "des_m8 = m8.fit(smoothing_level=alpha,smoothing_trend=beta)\n",
    "print(des_m8.summary())"
   ]
  },
  {
   "cell_type": "code",
   "execution_count": 86,
   "id": "5c4c2447",
   "metadata": {},
   "outputs": [
    {
     "data": {
      "text/plain": [
       "2017-07-01    359.868756\n",
       "2017-08-01    359.868756\n",
       "2017-09-01    359.868756\n",
       "2017-10-01    359.868756\n",
       "2017-11-01    359.868756\n",
       "2017-12-01    359.868756\n",
       "Freq: MS, dtype: float64"
      ]
     },
     "execution_count": 86,
     "metadata": {},
     "output_type": "execute_result"
    }
   ],
   "source": [
    "fcast_m8 = des_m8.forecast(6)\n",
    "fcast_m8"
   ]
  },
  {
   "cell_type": "code",
   "execution_count": 87,
   "id": "8165f573",
   "metadata": {},
   "outputs": [
    {
     "data": {
      "image/png": "[encoded data removed]",
      "text/plain": [
       "<Figure size 720x360 with 1 Axes>"
      ]
     },
     "metadata": {
      "needs_background": "light"
     },
     "output_type": "display_data"
    }
   ],
   "source": [
    "plt.figure(figsize=(10,5))\n",
    "plt.plot(train,label='Train')\n",
    "plt.plot(test,label='Test')\n",
    "plt.plot(fcast_m8,label='Fcast')\n",
    "plt.title('DES(alpha=0.3,beta=0.2) Model')\n",
    "plt.grid()\n",
    "plt.legend()\n",
    "plt.show()"
   ]
  },
  {
   "cell_type": "code",
   "execution_count": 88,
   "id": "4d5a6f4f",
   "metadata": {},
   "outputs": [
    {
     "name": "stdout",
     "output_type": "stream",
     "text": [
      "AIC 410.60588301768905\n"
     ]
    }
   ],
   "source": [
    "aic_m8 = des_m8.aic\n",
    "print('AIC',aic_m8)\n",
    "mse_m8,rmse_m8,mape_m8  = test_metrics(test,fcast_m8)"
   ]
  },
  {
   "cell_type": "code",
   "execution_count": 89,
   "id": "3d73ef51",
   "metadata": {},
   "outputs": [
    {
     "data": {
      "text/html": [
       "<div>\n",
       "<style scoped>\n",
       "    .dataframe tbody tr th:only-of-type {\n",
       "        vertical-align: middle;\n",
       "    }\n",
       "\n",
       "    .dataframe tbody tr th {\n",
       "        vertical-align: top;\n",
       "    }\n",
       "\n",
       "    .dataframe thead th {\n",
       "        text-align: right;\n",
       "    }\n",
       "</style>\n",
       "<table border=\"1\" class=\"dataframe\">\n",
       "  <thead>\n",
       "    <tr style=\"text-align: right;\">\n",
       "      <th></th>\n",
       "      <th>Model</th>\n",
       "      <th>MSE</th>\n",
       "      <th>RMSE</th>\n",
       "      <th>MAPE</th>\n",
       "      <th>AIC</th>\n",
       "    </tr>\n",
       "  </thead>\n",
       "  <tbody>\n",
       "    <tr>\n",
       "      <th>8</th>\n",
       "      <td>DES(alpha=0.5,beta=0.8)</td>\n",
       "      <td>5730.952568</td>\n",
       "      <td>75.703055</td>\n",
       "      <td>0.231821</td>\n",
       "      <td>410.605883</td>\n",
       "    </tr>\n",
       "  </tbody>\n",
       "</table>\n",
       "</div>"
      ],
      "text/plain": [
       "                     Model          MSE       RMSE      MAPE         AIC\n",
       "8  DES(alpha=0.5,beta=0.8)  5730.952568  75.703055  0.231821  410.605883"
      ]
     },
     "execution_count": 89,
     "metadata": {},
     "output_type": "execute_result"
    }
   ],
   "source": [
    "m8_res = pd.DataFrame({'Model':'DES(alpha=0.5,beta=0.8)','MSE':mse_m8,'RMSE':rmse_m8,\n",
    "                       'MAPE':mape_m8,'AIC':aic_m8},index=[8])\n",
    "m8_res"
   ]
  },
  {
   "cell_type": "code",
   "execution_count": 90,
   "id": "8f566fae",
   "metadata": {},
   "outputs": [
    {
     "data": {
      "text/html": [
       "<div>\n",
       "<style scoped>\n",
       "    .dataframe tbody tr th:only-of-type {\n",
       "        vertical-align: middle;\n",
       "    }\n",
       "\n",
       "    .dataframe tbody tr th {\n",
       "        vertical-align: top;\n",
       "    }\n",
       "\n",
       "    .dataframe thead th {\n",
       "        text-align: right;\n",
       "    }\n",
       "</style>\n",
       "<table border=\"1\" class=\"dataframe\">\n",
       "  <thead>\n",
       "    <tr style=\"text-align: right;\">\n",
       "      <th></th>\n",
       "      <th>Model</th>\n",
       "      <th>MSE</th>\n",
       "      <th>RMSE</th>\n",
       "      <th>MAPE</th>\n",
       "      <th>AIC</th>\n",
       "    </tr>\n",
       "  </thead>\n",
       "  <tbody>\n",
       "    <tr>\n",
       "      <th>0</th>\n",
       "      <td>AR (1,0,0)</td>\n",
       "      <td>4489.938428</td>\n",
       "      <td>67.007003</td>\n",
       "      <td>0.205884</td>\n",
       "      <td>519.815107</td>\n",
       "    </tr>\n",
       "    <tr>\n",
       "      <th>1</th>\n",
       "      <td>MA (0,0,1)</td>\n",
       "      <td>4500.031165</td>\n",
       "      <td>67.082272</td>\n",
       "      <td>0.206128</td>\n",
       "      <td>519.818078</td>\n",
       "    </tr>\n",
       "    <tr>\n",
       "      <th>2</th>\n",
       "      <td>ARMA (1,0,1)</td>\n",
       "      <td>4482.026214</td>\n",
       "      <td>66.947937</td>\n",
       "      <td>0.205618</td>\n",
       "      <td>521.811989</td>\n",
       "    </tr>\n",
       "    <tr>\n",
       "      <th>3</th>\n",
       "      <td>ARIMA (1,1,1)</td>\n",
       "      <td>4559.941963</td>\n",
       "      <td>67.527342</td>\n",
       "      <td>0.207258</td>\n",
       "      <td>512.335468</td>\n",
       "    </tr>\n",
       "    <tr>\n",
       "      <th>4</th>\n",
       "      <td>ARIMA(2,1,2)</td>\n",
       "      <td>4146.567253</td>\n",
       "      <td>64.393845</td>\n",
       "      <td>0.196934</td>\n",
       "      <td>515.897469</td>\n",
       "    </tr>\n",
       "    <tr>\n",
       "      <th>6</th>\n",
       "      <td>ARIMA(3,1,2)</td>\n",
       "      <td>4020.083188</td>\n",
       "      <td>63.404126</td>\n",
       "      <td>0.196824</td>\n",
       "      <td>516.008916</td>\n",
       "    </tr>\n",
       "    <tr>\n",
       "      <th>7</th>\n",
       "      <td>SES(alpha=0.3)</td>\n",
       "      <td>3897.740375</td>\n",
       "      <td>62.431886</td>\n",
       "      <td>0.184513</td>\n",
       "      <td>405.498805</td>\n",
       "    </tr>\n",
       "    <tr>\n",
       "      <th>8</th>\n",
       "      <td>DES(alpha=0.5,beta=0.8)</td>\n",
       "      <td>5730.952568</td>\n",
       "      <td>75.703055</td>\n",
       "      <td>0.231821</td>\n",
       "      <td>410.605883</td>\n",
       "    </tr>\n",
       "  </tbody>\n",
       "</table>\n",
       "</div>"
      ],
      "text/plain": [
       "                     Model          MSE       RMSE      MAPE         AIC\n",
       "0               AR (1,0,0)  4489.938428  67.007003  0.205884  519.815107\n",
       "1               MA (0,0,1)  4500.031165  67.082272  0.206128  519.818078\n",
       "2             ARMA (1,0,1)  4482.026214  66.947937  0.205618  521.811989\n",
       "3            ARIMA (1,1,1)  4559.941963  67.527342  0.207258  512.335468\n",
       "4             ARIMA(2,1,2)  4146.567253  64.393845  0.196934  515.897469\n",
       "6             ARIMA(3,1,2)  4020.083188  63.404126  0.196824  516.008916\n",
       "7           SES(alpha=0.3)  3897.740375  62.431886  0.184513  405.498805\n",
       "8  DES(alpha=0.5,beta=0.8)  5730.952568  75.703055  0.231821  410.605883"
      ]
     },
     "execution_count": 90,
     "metadata": {},
     "output_type": "execute_result"
    }
   ],
   "source": [
    "r8 = pd.concat([r7,m8_res])\n",
    "r8"
   ]
  },
  {
   "cell_type": "markdown",
   "id": "61076b7c",
   "metadata": {},
   "source": [
    "### TES (Holt Winter Method)"
   ]
  },
  {
   "cell_type": "code",
   "execution_count": 91,
   "id": "d11b05a0",
   "metadata": {},
   "outputs": [
    {
     "name": "stdout",
     "output_type": "stream",
     "text": [
      "                       ExponentialSmoothing Model Results                       \n",
      "================================================================================\n",
      "Dep. Variable:                    Sales   No. Observations:                   42\n",
      "Model:             ExponentialSmoothing   SSE                         566065.317\n",
      "Optimized:                         True   AIC                            403.369\n",
      "Trend:                             None   BIC                            406.845\n",
      "Seasonal:                          None   AICC                           404.450\n",
      "Seasonal Periods:                  None   Date:                 Tue, 02 Aug 2022\n",
      "Box-Cox:                          False   Time:                         21:31:30\n",
      "Box-Cox Coeff.:                    None                                         \n",
      "==============================================================================\n",
      "                       coeff                 code              optimized      \n",
      "------------------------------------------------------------------------------\n",
      "smoothing_level            0.2000000                alpha                False\n",
      "initial_level              322.76845                  l.0                 True\n",
      "------------------------------------------------------------------------------\n"
     ]
    }
   ],
   "source": [
    "alpha= 0.2\n",
    "beta = 0.4\n",
    "gamma = 0.3\n",
    "m9 = ExponentialSmoothing(train)\n",
    "tes_m9 = m9.fit(smoothing_level=alpha,smoothing_trend=beta,smoothing_seasonal=gamma)\n",
    "print(tes_m9.summary())"
   ]
  },
  {
   "cell_type": "code",
   "execution_count": 92,
   "id": "34f75e9d",
   "metadata": {},
   "outputs": [
    {
     "data": {
      "text/plain": [
       "2017-07-01    323.305721\n",
       "2017-08-01    323.305721\n",
       "2017-09-01    323.305721\n",
       "2017-10-01    323.305721\n",
       "2017-11-01    323.305721\n",
       "2017-12-01    323.305721\n",
       "Freq: MS, dtype: float64"
      ]
     },
     "execution_count": 92,
     "metadata": {},
     "output_type": "execute_result"
    }
   ],
   "source": [
    "fcast_m9 = tes_m9.forecast(6)\n",
    "fcast_m9"
   ]
  },
  {
   "cell_type": "code",
   "execution_count": 93,
   "id": "ed0e7c14",
   "metadata": {},
   "outputs": [
    {
     "data": {
      "image/png": "[encoded data removed]",
      "text/plain": [
       "<Figure size 720x360 with 1 Axes>"
      ]
     },
     "metadata": {
      "needs_background": "light"
     },
     "output_type": "display_data"
    }
   ],
   "source": [
    "plt.figure(figsize=(10,5))\n",
    "plt.plot(train,label='Train')\n",
    "plt.plot(test,label='Test')\n",
    "plt.plot(fcast_m9,label='Fcast')\n",
    "plt.title('TES(alpha=0.2,beta=0.4,gamma=0.3) Model')\n",
    "plt.grid()\n",
    "plt.legend()\n",
    "plt.show()"
   ]
  },
  {
   "cell_type": "code",
   "execution_count": 94,
   "id": "62dfb3a8",
   "metadata": {},
   "outputs": [
    {
     "name": "stdout",
     "output_type": "stream",
     "text": [
      "AIC 403.3693956006382\n"
     ]
    },
    {
     "data": {
      "text/html": [
       "<div>\n",
       "<style scoped>\n",
       "    .dataframe tbody tr th:only-of-type {\n",
       "        vertical-align: middle;\n",
       "    }\n",
       "\n",
       "    .dataframe tbody tr th {\n",
       "        vertical-align: top;\n",
       "    }\n",
       "\n",
       "    .dataframe thead th {\n",
       "        text-align: right;\n",
       "    }\n",
       "</style>\n",
       "<table border=\"1\" class=\"dataframe\">\n",
       "  <thead>\n",
       "    <tr style=\"text-align: right;\">\n",
       "      <th></th>\n",
       "      <th>Model</th>\n",
       "      <th>MSE</th>\n",
       "      <th>RMSE</th>\n",
       "      <th>MAPE</th>\n",
       "      <th>AIC</th>\n",
       "    </tr>\n",
       "  </thead>\n",
       "  <tbody>\n",
       "    <tr>\n",
       "      <th>9</th>\n",
       "      <td>TES(alpha=0.2,beta=0.4,gamma=0.3)</td>\n",
       "      <td>3729.131348</td>\n",
       "      <td>61.066614</td>\n",
       "      <td>0.173908</td>\n",
       "      <td>403.369396</td>\n",
       "    </tr>\n",
       "  </tbody>\n",
       "</table>\n",
       "</div>"
      ],
      "text/plain": [
       "                               Model          MSE       RMSE      MAPE  \\\n",
       "9  TES(alpha=0.2,beta=0.4,gamma=0.3)  3729.131348  61.066614  0.173908   \n",
       "\n",
       "          AIC  \n",
       "9  403.369396  "
      ]
     },
     "execution_count": 94,
     "metadata": {},
     "output_type": "execute_result"
    }
   ],
   "source": [
    "aic_m9 = tes_m9.aic\n",
    "print('AIC',aic_m9)\n",
    "mse_m9,rmse_m9,mape_m9  = test_metrics(test,fcast_m9)\n",
    "\n",
    "m9_res = pd.DataFrame({'Model':'TES(alpha=0.2,beta=0.4,gamma=0.3)','MSE':mse_m9,'RMSE':rmse_m9,\n",
    "                       'MAPE':mape_m9,'AIC':aic_m9},index=[9])\n",
    "m9_res"
   ]
  },
  {
   "cell_type": "code",
   "execution_count": 95,
   "id": "a32836d9",
   "metadata": {},
   "outputs": [
    {
     "data": {
      "text/html": [
       "<div>\n",
       "<style scoped>\n",
       "    .dataframe tbody tr th:only-of-type {\n",
       "        vertical-align: middle;\n",
       "    }\n",
       "\n",
       "    .dataframe tbody tr th {\n",
       "        vertical-align: top;\n",
       "    }\n",
       "\n",
       "    .dataframe thead th {\n",
       "        text-align: right;\n",
       "    }\n",
       "</style>\n",
       "<table border=\"1\" class=\"dataframe\">\n",
       "  <thead>\n",
       "    <tr style=\"text-align: right;\">\n",
       "      <th></th>\n",
       "      <th>Model</th>\n",
       "      <th>MSE</th>\n",
       "      <th>RMSE</th>\n",
       "      <th>MAPE</th>\n",
       "      <th>AIC</th>\n",
       "    </tr>\n",
       "  </thead>\n",
       "  <tbody>\n",
       "    <tr>\n",
       "      <th>0</th>\n",
       "      <td>AR (1,0,0)</td>\n",
       "      <td>4489.938428</td>\n",
       "      <td>67.007003</td>\n",
       "      <td>0.205884</td>\n",
       "      <td>519.815107</td>\n",
       "    </tr>\n",
       "    <tr>\n",
       "      <th>1</th>\n",
       "      <td>MA (0,0,1)</td>\n",
       "      <td>4500.031165</td>\n",
       "      <td>67.082272</td>\n",
       "      <td>0.206128</td>\n",
       "      <td>519.818078</td>\n",
       "    </tr>\n",
       "    <tr>\n",
       "      <th>2</th>\n",
       "      <td>ARMA (1,0,1)</td>\n",
       "      <td>4482.026214</td>\n",
       "      <td>66.947937</td>\n",
       "      <td>0.205618</td>\n",
       "      <td>521.811989</td>\n",
       "    </tr>\n",
       "    <tr>\n",
       "      <th>3</th>\n",
       "      <td>ARIMA (1,1,1)</td>\n",
       "      <td>4559.941963</td>\n",
       "      <td>67.527342</td>\n",
       "      <td>0.207258</td>\n",
       "      <td>512.335468</td>\n",
       "    </tr>\n",
       "    <tr>\n",
       "      <th>4</th>\n",
       "      <td>ARIMA(2,1,2)</td>\n",
       "      <td>4146.567253</td>\n",
       "      <td>64.393845</td>\n",
       "      <td>0.196934</td>\n",
       "      <td>515.897469</td>\n",
       "    </tr>\n",
       "    <tr>\n",
       "      <th>6</th>\n",
       "      <td>ARIMA(3,1,2)</td>\n",
       "      <td>4020.083188</td>\n",
       "      <td>63.404126</td>\n",
       "      <td>0.196824</td>\n",
       "      <td>516.008916</td>\n",
       "    </tr>\n",
       "    <tr>\n",
       "      <th>7</th>\n",
       "      <td>SES(alpha=0.3)</td>\n",
       "      <td>3897.740375</td>\n",
       "      <td>62.431886</td>\n",
       "      <td>0.184513</td>\n",
       "      <td>405.498805</td>\n",
       "    </tr>\n",
       "    <tr>\n",
       "      <th>8</th>\n",
       "      <td>DES(alpha=0.5,beta=0.8)</td>\n",
       "      <td>5730.952568</td>\n",
       "      <td>75.703055</td>\n",
       "      <td>0.231821</td>\n",
       "      <td>410.605883</td>\n",
       "    </tr>\n",
       "    <tr>\n",
       "      <th>9</th>\n",
       "      <td>TES(alpha=0.2,beta=0.4,gamma=0.3)</td>\n",
       "      <td>3729.131348</td>\n",
       "      <td>61.066614</td>\n",
       "      <td>0.173908</td>\n",
       "      <td>403.369396</td>\n",
       "    </tr>\n",
       "  </tbody>\n",
       "</table>\n",
       "</div>"
      ],
      "text/plain": [
       "                               Model          MSE       RMSE      MAPE  \\\n",
       "0                         AR (1,0,0)  4489.938428  67.007003  0.205884   \n",
       "1                         MA (0,0,1)  4500.031165  67.082272  0.206128   \n",
       "2                       ARMA (1,0,1)  4482.026214  66.947937  0.205618   \n",
       "3                      ARIMA (1,1,1)  4559.941963  67.527342  0.207258   \n",
       "4                       ARIMA(2,1,2)  4146.567253  64.393845  0.196934   \n",
       "6                       ARIMA(3,1,2)  4020.083188  63.404126  0.196824   \n",
       "7                     SES(alpha=0.3)  3897.740375  62.431886  0.184513   \n",
       "8            DES(alpha=0.5,beta=0.8)  5730.952568  75.703055  0.231821   \n",
       "9  TES(alpha=0.2,beta=0.4,gamma=0.3)  3729.131348  61.066614  0.173908   \n",
       "\n",
       "          AIC  \n",
       "0  519.815107  \n",
       "1  519.818078  \n",
       "2  521.811989  \n",
       "3  512.335468  \n",
       "4  515.897469  \n",
       "6  516.008916  \n",
       "7  405.498805  \n",
       "8  410.605883  \n",
       "9  403.369396  "
      ]
     },
     "execution_count": 95,
     "metadata": {},
     "output_type": "execute_result"
    }
   ],
   "source": [
    "r9 = pd.concat([r8,m9_res])\n",
    "r9"
   ]
  },
  {
   "cell_type": "markdown",
   "id": "a4090cf6",
   "metadata": {},
   "source": [
    "### pmdarima"
   ]
  },
  {
   "cell_type": "code",
   "execution_count": 96,
   "id": "3e783224",
   "metadata": {},
   "outputs": [],
   "source": [
    "import pmdarima as pm"
   ]
  },
  {
   "cell_type": "code",
   "execution_count": 97,
   "id": "bb7cdf96",
   "metadata": {},
   "outputs": [
    {
     "name": "stdout",
     "output_type": "stream",
     "text": [
      "Performing stepwise search to minimize aic\n",
      " ARIMA(0,1,0)(0,0,0)[0] intercept   : AIC=535.950, Time=0.00 sec\n",
      " ARIMA(1,1,0)(0,0,0)[0] intercept   : AIC=524.214, Time=0.02 sec\n",
      " ARIMA(0,1,1)(0,0,0)[0] intercept   : AIC=inf, Time=0.02 sec\n",
      " ARIMA(0,1,0)(0,0,0)[0]             : AIC=533.959, Time=0.00 sec\n",
      " ARIMA(2,1,0)(0,0,0)[0] intercept   : AIC=517.569, Time=0.03 sec\n",
      " ARIMA(3,1,0)(0,0,0)[0] intercept   : AIC=519.517, Time=0.03 sec\n",
      " ARIMA(2,1,1)(0,0,0)[0] intercept   : AIC=inf, Time=0.06 sec\n",
      " ARIMA(1,1,1)(0,0,0)[0] intercept   : AIC=inf, Time=0.03 sec\n",
      " ARIMA(3,1,1)(0,0,0)[0] intercept   : AIC=inf, Time=0.06 sec\n",
      " ARIMA(2,1,0)(0,0,0)[0]             : AIC=515.596, Time=0.02 sec\n",
      " ARIMA(1,1,0)(0,0,0)[0]             : AIC=522.259, Time=0.01 sec\n",
      " ARIMA(3,1,0)(0,0,0)[0]             : AIC=517.542, Time=0.02 sec\n",
      " ARIMA(2,1,1)(0,0,0)[0]             : AIC=inf, Time=0.03 sec\n",
      " ARIMA(1,1,1)(0,0,0)[0]             : AIC=inf, Time=0.02 sec\n",
      " ARIMA(3,1,1)(0,0,0)[0]             : AIC=inf, Time=0.03 sec\n",
      "\n",
      "Best model:  ARIMA(2,1,0)(0,0,0)[0]          \n",
      "Total fit time: 0.400 seconds\n"
     ]
    }
   ],
   "source": [
    "m10 = pm.auto_arima(train,start_p=0,start_q=0,\n",
    "              test='adf',\n",
    "              d=None,                     # use adftest to find optimal 'd'        \n",
    "              max_p=3,max_q=3,max_d=1,\n",
    "              start_P=0,start_Q=0,\n",
    "              D=0,                       # enforcing D=0\n",
    "              max_P=3,max_Q=3,\n",
    "              seasonal=True,\n",
    "              trace=True,\n",
    "              suppress_warnings=True, \n",
    "              stepwise=True)  "
   ]
  },
  {
   "cell_type": "code",
   "execution_count": 98,
   "id": "9abdc68c",
   "metadata": {},
   "outputs": [
    {
     "data": {
      "text/plain": [
       "array([304.65650364, 349.00304964, 378.11363943, 335.321672  ,\n",
       "       355.27039281, 359.28139978])"
      ]
     },
     "execution_count": 98,
     "metadata": {},
     "output_type": "execute_result"
    }
   ],
   "source": [
    "fcast_m10 = m10.predict(6)\n",
    "fcast_m10"
   ]
  },
  {
   "cell_type": "code",
   "execution_count": 99,
   "id": "897c11eb",
   "metadata": {},
   "outputs": [
    {
     "data": {
      "text/html": [
       "<div>\n",
       "<style scoped>\n",
       "    .dataframe tbody tr th:only-of-type {\n",
       "        vertical-align: middle;\n",
       "    }\n",
       "\n",
       "    .dataframe tbody tr th {\n",
       "        vertical-align: top;\n",
       "    }\n",
       "\n",
       "    .dataframe thead th {\n",
       "        text-align: right;\n",
       "    }\n",
       "</style>\n",
       "<table border=\"1\" class=\"dataframe\">\n",
       "  <thead>\n",
       "    <tr style=\"text-align: right;\">\n",
       "      <th></th>\n",
       "      <th>Pred_price</th>\n",
       "    </tr>\n",
       "    <tr>\n",
       "      <th>Date</th>\n",
       "      <th></th>\n",
       "    </tr>\n",
       "  </thead>\n",
       "  <tbody>\n",
       "    <tr>\n",
       "      <th>2017-07-01</th>\n",
       "      <td>304.656504</td>\n",
       "    </tr>\n",
       "    <tr>\n",
       "      <th>2017-08-01</th>\n",
       "      <td>349.003050</td>\n",
       "    </tr>\n",
       "    <tr>\n",
       "      <th>2017-09-01</th>\n",
       "      <td>378.113639</td>\n",
       "    </tr>\n",
       "    <tr>\n",
       "      <th>2017-10-01</th>\n",
       "      <td>335.321672</td>\n",
       "    </tr>\n",
       "    <tr>\n",
       "      <th>2017-11-01</th>\n",
       "      <td>355.270393</td>\n",
       "    </tr>\n",
       "  </tbody>\n",
       "</table>\n",
       "</div>"
      ],
      "text/plain": [
       "            Pred_price\n",
       "Date                  \n",
       "2017-07-01  304.656504\n",
       "2017-08-01  349.003050\n",
       "2017-09-01  378.113639\n",
       "2017-10-01  335.321672\n",
       "2017-11-01  355.270393"
      ]
     },
     "execution_count": 99,
     "metadata": {},
     "output_type": "execute_result"
    }
   ],
   "source": [
    "fcast_m10_res = pd.DataFrame({'Date':test.index,'Pred_price':fcast_m10})\n",
    "fcast_m10_res.set_index('Date',inplace=True)\n",
    "fcast_m10_res.head()"
   ]
  },
  {
   "cell_type": "code",
   "execution_count": 100,
   "id": "08a849b9",
   "metadata": {},
   "outputs": [
    {
     "data": {
      "image/png": "[encoded data removed]",
      "text/plain": [
       "<Figure size 720x360 with 1 Axes>"
      ]
     },
     "metadata": {
      "needs_background": "light"
     },
     "output_type": "display_data"
    }
   ],
   "source": [
    "plt.figure(figsize=(10,5))\n",
    "plt.plot(train,label='Train')\n",
    "plt.plot(test,label='Test')\n",
    "plt.plot(fcast_m10_res,label='Fcast')\n",
    "plt.title('PmdARIMA model')\n",
    "plt.grid()\n",
    "plt.legend()\n",
    "plt.show()"
   ]
  },
  {
   "cell_type": "code",
   "execution_count": 101,
   "id": "0b5aee80",
   "metadata": {},
   "outputs": [
    {
     "name": "stdout",
     "output_type": "stream",
     "text": [
      "AIC 515.5958811510129\n"
     ]
    }
   ],
   "source": [
    "aic_m10 = m10.aic()\n",
    "print('AIC',aic_m10)\n",
    "mse_m10,rmse_m10,mape_m10  = test_metrics(test,fcast_m10)"
   ]
  },
  {
   "cell_type": "code",
   "execution_count": 102,
   "id": "d164eed0",
   "metadata": {},
   "outputs": [
    {
     "data": {
      "text/html": [
       "<div>\n",
       "<style scoped>\n",
       "    .dataframe tbody tr th:only-of-type {\n",
       "        vertical-align: middle;\n",
       "    }\n",
       "\n",
       "    .dataframe tbody tr th {\n",
       "        vertical-align: top;\n",
       "    }\n",
       "\n",
       "    .dataframe thead th {\n",
       "        text-align: right;\n",
       "    }\n",
       "</style>\n",
       "<table border=\"1\" class=\"dataframe\">\n",
       "  <thead>\n",
       "    <tr style=\"text-align: right;\">\n",
       "      <th></th>\n",
       "      <th>Model</th>\n",
       "      <th>MSE</th>\n",
       "      <th>RMSE</th>\n",
       "      <th>MAPE</th>\n",
       "      <th>AIC</th>\n",
       "    </tr>\n",
       "  </thead>\n",
       "  <tbody>\n",
       "    <tr>\n",
       "      <th>10</th>\n",
       "      <td>PmdARIMA</td>\n",
       "      <td>4050.567896</td>\n",
       "      <td>63.644072</td>\n",
       "      <td>0.195281</td>\n",
       "      <td>515.595881</td>\n",
       "    </tr>\n",
       "  </tbody>\n",
       "</table>\n",
       "</div>"
      ],
      "text/plain": [
       "       Model          MSE       RMSE      MAPE         AIC\n",
       "10  PmdARIMA  4050.567896  63.644072  0.195281  515.595881"
      ]
     },
     "execution_count": 102,
     "metadata": {},
     "output_type": "execute_result"
    }
   ],
   "source": [
    "m10_res = pd.DataFrame({'Model':'PmdARIMA','MSE':mse_m10,'RMSE':rmse_m10,\n",
    "                       'MAPE':mape_m10,'AIC':aic_m10},index=[10])\n",
    "m10_res"
   ]
  },
  {
   "cell_type": "code",
   "execution_count": 103,
   "id": "fb97881d",
   "metadata": {},
   "outputs": [
    {
     "data": {
      "text/html": [
       "<div>\n",
       "<style scoped>\n",
       "    .dataframe tbody tr th:only-of-type {\n",
       "        vertical-align: middle;\n",
       "    }\n",
       "\n",
       "    .dataframe tbody tr th {\n",
       "        vertical-align: top;\n",
       "    }\n",
       "\n",
       "    .dataframe thead th {\n",
       "        text-align: right;\n",
       "    }\n",
       "</style>\n",
       "<table border=\"1\" class=\"dataframe\">\n",
       "  <thead>\n",
       "    <tr style=\"text-align: right;\">\n",
       "      <th></th>\n",
       "      <th>Model</th>\n",
       "      <th>MSE</th>\n",
       "      <th>RMSE</th>\n",
       "      <th>MAPE</th>\n",
       "      <th>AIC</th>\n",
       "    </tr>\n",
       "  </thead>\n",
       "  <tbody>\n",
       "    <tr>\n",
       "      <th>0</th>\n",
       "      <td>AR (1,0,0)</td>\n",
       "      <td>4489.938428</td>\n",
       "      <td>67.007003</td>\n",
       "      <td>0.205884</td>\n",
       "      <td>519.815107</td>\n",
       "    </tr>\n",
       "    <tr>\n",
       "      <th>1</th>\n",
       "      <td>MA (0,0,1)</td>\n",
       "      <td>4500.031165</td>\n",
       "      <td>67.082272</td>\n",
       "      <td>0.206128</td>\n",
       "      <td>519.818078</td>\n",
       "    </tr>\n",
       "    <tr>\n",
       "      <th>2</th>\n",
       "      <td>ARMA (1,0,1)</td>\n",
       "      <td>4482.026214</td>\n",
       "      <td>66.947937</td>\n",
       "      <td>0.205618</td>\n",
       "      <td>521.811989</td>\n",
       "    </tr>\n",
       "    <tr>\n",
       "      <th>3</th>\n",
       "      <td>ARIMA (1,1,1)</td>\n",
       "      <td>4559.941963</td>\n",
       "      <td>67.527342</td>\n",
       "      <td>0.207258</td>\n",
       "      <td>512.335468</td>\n",
       "    </tr>\n",
       "    <tr>\n",
       "      <th>4</th>\n",
       "      <td>ARIMA(2,1,2)</td>\n",
       "      <td>4146.567253</td>\n",
       "      <td>64.393845</td>\n",
       "      <td>0.196934</td>\n",
       "      <td>515.897469</td>\n",
       "    </tr>\n",
       "    <tr>\n",
       "      <th>6</th>\n",
       "      <td>ARIMA(3,1,2)</td>\n",
       "      <td>4020.083188</td>\n",
       "      <td>63.404126</td>\n",
       "      <td>0.196824</td>\n",
       "      <td>516.008916</td>\n",
       "    </tr>\n",
       "    <tr>\n",
       "      <th>7</th>\n",
       "      <td>SES(alpha=0.3)</td>\n",
       "      <td>3897.740375</td>\n",
       "      <td>62.431886</td>\n",
       "      <td>0.184513</td>\n",
       "      <td>405.498805</td>\n",
       "    </tr>\n",
       "    <tr>\n",
       "      <th>8</th>\n",
       "      <td>DES(alpha=0.5,beta=0.8)</td>\n",
       "      <td>5730.952568</td>\n",
       "      <td>75.703055</td>\n",
       "      <td>0.231821</td>\n",
       "      <td>410.605883</td>\n",
       "    </tr>\n",
       "    <tr>\n",
       "      <th>9</th>\n",
       "      <td>TES(alpha=0.2,beta=0.4,gamma=0.3)</td>\n",
       "      <td>3729.131348</td>\n",
       "      <td>61.066614</td>\n",
       "      <td>0.173908</td>\n",
       "      <td>403.369396</td>\n",
       "    </tr>\n",
       "    <tr>\n",
       "      <th>10</th>\n",
       "      <td>PmdARIMA</td>\n",
       "      <td>4050.567896</td>\n",
       "      <td>63.644072</td>\n",
       "      <td>0.195281</td>\n",
       "      <td>515.595881</td>\n",
       "    </tr>\n",
       "  </tbody>\n",
       "</table>\n",
       "</div>"
      ],
      "text/plain": [
       "                                Model          MSE       RMSE      MAPE  \\\n",
       "0                          AR (1,0,0)  4489.938428  67.007003  0.205884   \n",
       "1                          MA (0,0,1)  4500.031165  67.082272  0.206128   \n",
       "2                        ARMA (1,0,1)  4482.026214  66.947937  0.205618   \n",
       "3                       ARIMA (1,1,1)  4559.941963  67.527342  0.207258   \n",
       "4                        ARIMA(2,1,2)  4146.567253  64.393845  0.196934   \n",
       "6                        ARIMA(3,1,2)  4020.083188  63.404126  0.196824   \n",
       "7                      SES(alpha=0.3)  3897.740375  62.431886  0.184513   \n",
       "8             DES(alpha=0.5,beta=0.8)  5730.952568  75.703055  0.231821   \n",
       "9   TES(alpha=0.2,beta=0.4,gamma=0.3)  3729.131348  61.066614  0.173908   \n",
       "10                           PmdARIMA  4050.567896  63.644072  0.195281   \n",
       "\n",
       "           AIC  \n",
       "0   519.815107  \n",
       "1   519.818078  \n",
       "2   521.811989  \n",
       "3   512.335468  \n",
       "4   515.897469  \n",
       "6   516.008916  \n",
       "7   405.498805  \n",
       "8   410.605883  \n",
       "9   403.369396  \n",
       "10  515.595881  "
      ]
     },
     "execution_count": 103,
     "metadata": {},
     "output_type": "execute_result"
    }
   ],
   "source": [
    "r10 = pd.concat([r9,m10_res])\n",
    "r10"
   ]
  },
  {
   "cell_type": "markdown",
   "id": "51359b38",
   "metadata": {},
   "source": [
    "### Inference\n",
    "<b>1) Based on RMSE or MSE </b>\n",
    "\n",
    "a) TES(alpha=0.2,beta=0.4,gamma=0.3) is the most appropriate model(best considering other models)<br>\n",
    "b) SES(alpha=0.3) can also be considered good to go with.\n",
    "\n",
    "<b>2) Based on AIC</b>\n",
    "\n",
    "a) TES(alpha=0.2,beta=0.4,gamma=0.3) is the most appropriate model(best considering others)."
   ]
  },
  {
   "cell_type": "code",
   "execution_count": null,
   "id": "9715bc23",
   "metadata": {},
   "outputs": [],
   "source": []
  }
 ],
 "metadata": {
  "kernelspec": {
   "display_name": "Python 3 (ipykernel)",
   "language": "python",
   "name": "python3"
  },
  "language_info": {
   "codemirror_mode": {
    "name": "ipython",
    "version": 3
   },
   "file_extension": ".py",
   "mimetype": "text/x-python",
   "name": "python",
   "nbconvert_exporter": "python",
   "pygments_lexer": "ipython3",
   "version": "3.9.7"
  }
 },
 "nbformat": 4,
 "nbformat_minor": 5
}
